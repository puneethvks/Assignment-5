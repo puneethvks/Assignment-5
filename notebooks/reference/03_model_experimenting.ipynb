{
 "cells": [
  {
   "cell_type": "markdown",
   "metadata": {},
   "source": [
    "# Purpose"
   ]
  },
  {
   "cell_type": "markdown",
   "metadata": {},
   "source": [
    "This notebook demonstrates the model experimentation and finalization. It covers EDA, outlier treatment, transformation, training, model evaluation and comparison across models."
   ]
  },
  {
   "cell_type": "markdown",
   "metadata": {},
   "source": [
    "## Imports"
   ]
  },
  {
   "cell_type": "code",
   "execution_count": 44,
   "metadata": {},
   "outputs": [],
   "source": [
    "import os\n",
    "import os.path as op\n",
    "import shutil\n",
    "\n",
    "# standard third party imports\n",
    "import numpy as np\n",
    "import pandas as pd\n",
    "from matplotlib import pyplot as plt\n",
    "from sklearn.pipeline import Pipeline\n",
    "from sklearn.feature_selection import SelectFromModel\n",
    "from sklearn.model_selection import GridSearchCV\n",
    "from sklearn.preprocessing import FunctionTransformer\n",
    "from sklearn.compose import ColumnTransformer\n",
    "\n",
    "# impute missing values\n",
    "from sklearn.experimental import enable_iterative_imputer  # noqa\n",
    "from sklearn.impute import KNNImputer, IterativeImputer, SimpleImputer\n",
    "from sklearn.tree import DecisionTreeRegressor\n",
    "from category_encoders import TargetEncoder\n"
   ]
  },
  {
   "cell_type": "code",
   "execution_count": 45,
   "metadata": {},
   "outputs": [
    {
     "name": "stdout",
     "output_type": "stream",
     "text": [
      "The autoreload extension is already loaded. To reload it, use:\n",
      "  %reload_ext autoreload\n"
     ]
    }
   ],
   "source": [
    "%load_ext autoreload\n",
    "%autoreload 2"
   ]
  },
  {
   "cell_type": "code",
   "execution_count": 46,
   "metadata": {},
   "outputs": [],
   "source": [
    "import warnings\n",
    "\n",
    "warnings.filterwarnings('ignore', message=\"pandas.Int64Index is deprecated and will be removed from pandas in a future version. Use pandas.Index with the appropriate dtype instead.\", \n",
    "                        category=FutureWarning)\n",
    "warnings.filterwarnings('ignore', message=\"pandas.Float64Index is deprecated and will be removed from pandas in a future version. Use pandas.Index with the appropriate dtype instead.\",\n",
    "                        category=FutureWarning)"
   ]
  },
  {
   "cell_type": "code",
   "execution_count": 47,
   "metadata": {},
   "outputs": [],
   "source": [
    "# standard code-template imports\n",
    "from ta_lib.core.api import (\n",
    "    create_context, get_dataframe, get_feature_names_from_column_transformer, string_cleaning,\n",
    "    get_package_path, display_as_tabs, save_pipeline, load_pipeline, initialize_environment,\n",
    "    load_dataset, save_dataset, DEFAULT_ARTIFACTS_PATH\n",
    ")\n",
    "\n",
    "import ta_lib.eda.api as eda\n",
    "from xgboost import XGBRegressor\n",
    "from ta_lib.regression.api import SKLStatsmodelOLS\n",
    "from ta_lib.regression.api import RegressionComparison, RegressionReport\n",
    "import ta_lib.reports.api as reports\n",
    "from ta_lib.data_processing.api import Outlier\n",
    "\n",
    "initialize_environment(debug=False, hide_warnings=True)"
   ]
  },
  {
   "cell_type": "markdown",
   "metadata": {},
   "source": [
    "# Initialization"
   ]
  },
  {
   "cell_type": "code",
   "execution_count": 48,
   "metadata": {},
   "outputs": [],
   "source": [
    "artifacts_folder = DEFAULT_ARTIFACTS_PATH"
   ]
  },
  {
   "cell_type": "code",
   "execution_count": 49,
   "metadata": {},
   "outputs": [],
   "source": [
    "config_path = op.join('conf', 'config.yml')\n",
    "context = create_context(config_path)"
   ]
  },
  {
   "cell_type": "markdown",
   "metadata": {},
   "source": [
    "# 3 Feature Engineering\n",
    "\n",
    "The focus here is the `Pipeline` and not the model. Though the model would inform the pipeline that is needed to train the model, our focus is to set it up in such a way that it can be saved/loaded, tweaked for different model choices and so on."
   ]
  },
  {
   "cell_type": "markdown",
   "metadata": {},
   "source": [
    "## 3.1 Read the Train and Test Data"
   ]
  },
  {
   "cell_type": "code",
   "execution_count": 50,
   "metadata": {},
   "outputs": [
    {
     "name": "stdout",
     "output_type": "stream",
     "text": [
      "(139847, 32) (139847, 1)\n",
      "(34962, 32) (34962, 1)\n"
     ]
    }
   ],
   "source": [
    "train_X = load_dataset(context, 'train/sales/features')\n",
    "train_y = load_dataset(context, 'train/sales/target')\n",
    "print(train_X.shape, train_y.shape)\n",
    "\n",
    "test_X = load_dataset(context, 'test/sales/features')\n",
    "test_y = load_dataset(context, 'test/sales/target')\n",
    "print(test_X.shape, test_y.shape)"
   ]
  },
  {
   "cell_type": "markdown",
   "metadata": {},
   "source": [
    "## 3.2 Feature Engineering Pipelines\n"
   ]
  },
  {
   "cell_type": "markdown",
   "metadata": {},
   "source": [
    "**Dev NOTES**\n",
    "\n",
    "For Feature Engineering and Model Building sklearn.pipeline.Pipeline are leveraged because of the following advantages\n",
    "<details>\n",
    "    \n",
    "1. It helps in automating workflows and are easier to read and comprehend.\n",
    "2. Right Sequence can be ensured and (for example always encodes before imputing)\n",
    "3. Reproducibility is very convenient with pipelines\n",
    "4. Pipelines help you prevent data leakage in your test data\n",
    "5. Code is near implementation ready"
   ]
  },
  {
   "cell_type": "markdown",
   "metadata": {},
   "source": [
    "#### General Steps in the Feature Transformation are as follows\n",
    " - Outlier Treatment\n",
    " - Encoding of Categorical Columns\n",
    " - Missing Values Imputation"
   ]
  },
  {
   "cell_type": "code",
   "execution_count": 51,
   "metadata": {},
   "outputs": [],
   "source": [
    "# collecting different types of columns for transformations\n",
    "cat_columns = train_X.select_dtypes('object').columns\n",
    "num_columns = train_X.select_dtypes('number').columns"
   ]
  },
  {
   "cell_type": "markdown",
   "metadata": {},
   "source": [
    "#### Outlier Handling\n",
    "- A Custom Transformer is used to handle outliers. It is not included as part of the pipeline as outliers handling are optional for test data\n",
    "- An option to either drop or cap the outliers can be passed during the transform call\n",
    "- If we want to treat outliers for some columns them we can pass cols argument to the Transformer\n",
    "- This will go into production code"
   ]
  },
  {
   "cell_type": "code",
   "execution_count": 52,
   "metadata": {},
   "outputs": [
    {
     "name": "stdout",
     "output_type": "stream",
     "text": [
      "(139847, 32)\n",
      "(139847, 32)\n"
     ]
    }
   ],
   "source": [
    "outlier_transformer = Outlier(method='mean')\n",
    "print(train_X.shape)\n",
    "train_X = outlier_transformer.fit_transform(train_X)\n",
    "print(train_X.shape)"
   ]
  },
  {
   "cell_type": "markdown",
   "metadata": {},
   "source": [
    "#### Encoding\n"
   ]
  },
  {
   "cell_type": "markdown",
   "metadata": {},
   "source": [
    "Some sample pipelines showcasing how to create column specific pipelines and integrating them overall is presented below\n",
    "\n",
    "- Commonly target encoding is done for categorical variables with too many levels.\n",
    "- We also group sparse levels. For fewer levels one hot encoding/label encoding is preferred.\n",
    "- If there is one dominant level, we can use binary encoding.\n",
    "- This will go into production code"
   ]
  },
  {
   "cell_type": "code",
   "execution_count": 53,
   "metadata": {},
   "outputs": [],
   "source": [
    "tgt_enc_simple_impt = Pipeline([\n",
    "    ('target_encoding', TargetEncoder(return_df=False)),\n",
    "    ('simple_impute', SimpleImputer(strategy='most_frequent')),\n",
    "])\n",
    "\n",
    "\n",
    "# NOTE: the list of transformations here are not sequential but weighted \n",
    "# (if multiple transforms are specified for a particular column)\n",
    "# for sequential transforms use a pipeline as shown above.\n",
    "features_transformer = ColumnTransformer([\n",
    "    \n",
    "    ## categorical columns\n",
    "    ('tgt_enc', TargetEncoder(return_df=False),\n",
    "     list(set(cat_columns) - set(['technology', 'functional_status', 'platforms']))),\n",
    "    \n",
    "    # NOTE: if the same column gets repeated, then they are weighed in the final output\n",
    "    # If we want a sequence of operations, then we use a pipeline but that doesen't YET support\n",
    "    # get_feature_names. \n",
    "    ('tgt_enc_sim_impt', tgt_enc_simple_impt, ['technology', 'functional_status', 'platforms']),\n",
    "        \n",
    "    ## numeric columns\n",
    "    ('med_enc', SimpleImputer(strategy='median'), num_columns),\n",
    "    \n",
    "])\n"
   ]
  },
  {
   "cell_type": "markdown",
   "metadata": {},
   "source": [
    "**Dev notes(Encoding):**\n",
    "<details>\n",
    "\n",
    "    Some common practices followed in Categorical Feature Encoding are\n",
    "    * For categorical variables with too many levels, target encoding can be done.\n",
    "    * For fewer levels, one hot encoding can be done.\n",
    "    * If one very dominant level is observed, binary encoding can be used.\n",
    "    \n",
    "    \n",
    "</details>"
   ]
  },
  {
   "cell_type": "markdown",
   "metadata": {},
   "source": [
    "## 3.2 Feature analysis\n",
    "\n",
    "Using the pipeline above analyze the features and decide on additional features to add/remove from the pipeline. This section will not be part of the production code, unless input data drifts etc. are explicitly demanded in the project.\n",
    "\n",
    "Here we are primarily focused on feature selection/elimination based on business rules, prior knowledge, data analysis.\n",
    "\n",
    "**We are not building any models at this point.**\n"
   ]
  },
  {
   "cell_type": "markdown",
   "metadata": {},
   "source": [
    "- we create some sample data to analyze that we assume represent the population\n",
    "- train the features transformer and do the analysis as below"
   ]
  },
  {
   "cell_type": "code",
   "execution_count": 54,
   "metadata": {},
   "outputs": [],
   "source": [
    "sample_X = train_X.sample(frac=0.1, random_state=context.random_seed)\n",
    "sample_y = train_y.loc[sample_X.index]\n",
    "\n",
    "sample_train_X = get_dataframe(\n",
    "    features_transformer.fit_transform(sample_X, sample_y), \n",
    "    get_feature_names_from_column_transformer(features_transformer)\n",
    ")\n",
    "\n",
    "# nothing to do for target\n",
    "sample_train_y = sample_y"
   ]
  },
  {
   "cell_type": "markdown",
   "metadata": {},
   "source": [
    "Running the features transformer on the complete data"
   ]
  },
  {
   "cell_type": "code",
   "execution_count": 55,
   "metadata": {},
   "outputs": [],
   "source": [
    "train_X = get_dataframe(\n",
    "    features_transformer.fit_transform(train_X, train_y), \n",
    "    get_feature_names_from_column_transformer(features_transformer)\n",
    ")"
   ]
  },
  {
   "cell_type": "markdown",
   "metadata": {},
   "source": [
    "### 3.2.1 Univariate\n",
    "\n",
    "\n",
    "- Look at each variable independently. This is useful if your models have assumptions on the distribution and/or bounds on the features/target"
   ]
  },
  {
   "cell_type": "code",
   "execution_count": 56,
   "metadata": {},
   "outputs": [
    {
     "data": {},
     "metadata": {},
     "output_type": "display_data"
    },
    {
     "data": {
      "application/vnd.holoviews_exec.v0+json": "",
      "text/html": [
       "<div id='89025'>\n",
       "  <div class=\"bk-root\" id=\"2d7a504c-1941-44a2-885a-3c64634a1493\" data-root-id=\"89025\"></div>\n",
       "</div>\n",
       "<script type=\"application/javascript\">(function(root) {\n",
       "  function embed_document(root) {\n",
       "    var docs_json = {\"808030b0-af58-44c7-b304-1e12909a60c2\":{\"defs\":[{\"extends\":null,\"module\":null,\"name\":\"ReactiveHTML1\",\"overrides\":[],\"properties\":[]},{\"extends\":null,\"module\":null,\"name\":\"FlexBox1\",\"overrides\":[],\"properties\":[{\"default\":\"flex-start\",\"kind\":null,\"name\":\"align_content\"},{\"default\":\"flex-start\",\"kind\":null,\"name\":\"align_items\"},{\"default\":\"row\",\"kind\":null,\"name\":\"flex_direction\"},{\"default\":\"wrap\",\"kind\":null,\"name\":\"flex_wrap\"},{\"default\":\"flex-start\",\"kind\":null,\"name\":\"justify_content\"}]},{\"extends\":null,\"module\":null,\"name\":\"GridStack1\",\"overrides\":[],\"properties\":[{\"default\":\"warn\",\"kind\":null,\"name\":\"mode\"},{\"default\":null,\"kind\":null,\"name\":\"ncols\"},{\"default\":null,\"kind\":null,\"name\":\"nrows\"},{\"default\":true,\"kind\":null,\"name\":\"allow_resize\"},{\"default\":true,\"kind\":null,\"name\":\"allow_drag\"},{\"default\":[],\"kind\":null,\"name\":\"state\"}]},{\"extends\":null,\"module\":null,\"name\":\"click1\",\"overrides\":[],\"properties\":[{\"default\":\"\",\"kind\":null,\"name\":\"terminal_output\"},{\"default\":\"\",\"kind\":null,\"name\":\"debug_name\"},{\"default\":0,\"kind\":null,\"name\":\"clears\"}]},{\"extends\":null,\"module\":null,\"name\":\"NotificationAreaBase1\",\"overrides\":[],\"properties\":[{\"default\":\"bottom-right\",\"kind\":null,\"name\":\"position\"},{\"default\":0,\"kind\":null,\"name\":\"_clear\"}]},{\"extends\":null,\"module\":null,\"name\":\"NotificationArea1\",\"overrides\":[],\"properties\":[{\"default\":[],\"kind\":null,\"name\":\"notifications\"},{\"default\":\"bottom-right\",\"kind\":null,\"name\":\"position\"},{\"default\":0,\"kind\":null,\"name\":\"_clear\"},{\"default\":[{\"background\":\"#ffc107\",\"icon\":{\"className\":\"fas fa-exclamation-triangle\",\"color\":\"white\",\"tagName\":\"i\"},\"type\":\"warning\"},{\"background\":\"#007bff\",\"icon\":{\"className\":\"fas fa-info-circle\",\"color\":\"white\",\"tagName\":\"i\"},\"type\":\"info\"}],\"kind\":null,\"name\":\"types\"}]},{\"extends\":null,\"module\":null,\"name\":\"Notification\",\"overrides\":[],\"properties\":[{\"default\":null,\"kind\":null,\"name\":\"background\"},{\"default\":3000,\"kind\":null,\"name\":\"duration\"},{\"default\":null,\"kind\":null,\"name\":\"icon\"},{\"default\":\"\",\"kind\":null,\"name\":\"message\"},{\"default\":null,\"kind\":null,\"name\":\"notification_type\"},{\"default\":false,\"kind\":null,\"name\":\"_destroyed\"}]},{\"extends\":null,\"module\":null,\"name\":\"TemplateActions1\",\"overrides\":[],\"properties\":[{\"default\":0,\"kind\":null,\"name\":\"open_modal\"},{\"default\":0,\"kind\":null,\"name\":\"close_modal\"}]},{\"extends\":null,\"module\":null,\"name\":\"MaterialTemplateActions1\",\"overrides\":[],\"properties\":[{\"default\":0,\"kind\":null,\"name\":\"open_modal\"},{\"default\":0,\"kind\":null,\"name\":\"close_modal\"}]}],\"roots\":{\"references\":[{\"attributes\":{\"editor\":{\"id\":\"89414\"},\"field\":\"A_50_percent\",\"formatter\":{\"id\":\"89413\"},\"title\":\"50%\"},\"id\":\"89415\",\"type\":\"TableColumn\"},{\"attributes\":{},\"id\":\"89419\",\"type\":\"NumberEditor\"},{\"attributes\":{\"axis_label\":\"brand\",\"coordinates\":null,\"formatter\":{\"id\":\"89064\"},\"group\":null,\"major_label_policy\":{\"id\":\"89065\"},\"ticker\":{\"id\":\"89043\"}},\"id\":\"89042\",\"type\":\"LinearAxis\"},{\"attributes\":{},\"id\":\"89065\",\"type\":\"AllLabels\"},{\"attributes\":{},\"id\":\"89424\",\"type\":\"NumberEditor\"},{\"attributes\":{\"coordinates\":null,\"group\":null,\"text\":\"Density Plot for brand\",\"text_color\":\"black\",\"text_font_size\":\"12pt\"},\"id\":\"89034\",\"type\":\"Title\"},{\"attributes\":{\"children\":[{\"id\":\"89028\"},{\"id\":\"89446\"}],\"margin\":[0,0,0,0],\"name\":\"Column212817\"},\"id\":\"89027\",\"type\":\"Column\"},{\"attributes\":{\"editor\":{\"id\":\"89419\"},\"field\":\"A_75_percent\",\"formatter\":{\"id\":\"89418\"},\"title\":\"75%\"},\"id\":\"89420\",\"type\":\"TableColumn\"},{\"attributes\":{},\"id\":\"89043\",\"type\":\"BasicTicker\"},{\"attributes\":{\"editor\":{\"id\":\"89424\"},\"field\":\"max\",\"formatter\":{\"id\":\"89423\"},\"title\":\"max\"},\"id\":\"89425\",\"type\":\"TableColumn\"},{\"attributes\":{\"client_comm_id\":\"05fe06d5f2dd49f0ab020529497316bd\",\"comm_id\":\"02de9809697d4b80a9c8ef71c1103559\",\"plot_id\":\"89025\"},\"id\":\"89503\",\"type\":\"panel.models.comm_manager.CommManager\"},{\"attributes\":{\"format\":\"0,0.0[00000]\"},\"id\":\"89423\",\"type\":\"NumberFormatter\"},{\"attributes\":{},\"id\":\"89052\",\"type\":\"WheelZoomTool\"},{\"attributes\":{},\"id\":\"89040\",\"type\":\"LinearScale\"},{\"attributes\":{},\"id\":\"89051\",\"type\":\"PanTool\"},{\"attributes\":{},\"id\":\"89068\",\"type\":\"AllLabels\"},{\"attributes\":{\"margin\":[5,5,5,5],\"name\":\"HSpacer212813\",\"sizing_mode\":\"stretch_width\"},\"id\":\"89026\",\"type\":\"Spacer\"},{\"attributes\":{\"axis\":{\"id\":\"89042\"},\"coordinates\":null,\"grid_line_color\":null,\"group\":null,\"ticker\":null},\"id\":\"89045\",\"type\":\"Grid\"},{\"attributes\":{\"axis_label\":\"Frequency\",\"coordinates\":null,\"formatter\":{\"id\":\"89067\"},\"group\":null,\"major_label_policy\":{\"id\":\"89068\"},\"ticker\":{\"id\":\"89047\"}},\"id\":\"89046\",\"type\":\"LinearAxis\"},{\"attributes\":{\"format\":\"0,0.0[00000]\"},\"id\":\"89388\",\"type\":\"NumberFormatter\"},{\"attributes\":{\"children\":[{\"id\":\"89029\"},{\"id\":\"89262\"},{\"id\":\"89445\"}],\"margin\":[0,0,0,0],\"name\":\"Row212816\"},\"id\":\"89028\",\"type\":\"Row\"},{\"attributes\":{\"source\":{\"id\":\"89194\"}},\"id\":\"89238\",\"type\":\"CDSView\"},{\"attributes\":{},\"id\":\"89047\",\"type\":\"BasicTicker\"},{\"attributes\":{\"fill_alpha\":0.5,\"fill_color\":\"#30a2da\",\"hatch_alpha\":0.1,\"hatch_color\":\"#30a2da\",\"line_alpha\":1,\"x\":{\"field\":\"x\"},\"y\":{\"field\":\"y\"}},\"id\":\"89082\",\"type\":\"Patch\"},{\"attributes\":{},\"id\":\"89101\",\"type\":\"UnionRenderers\"},{\"attributes\":{\"axis\":{\"id\":\"89046\"},\"coordinates\":null,\"dimension\":1,\"grid_line_color\":null,\"group\":null,\"ticker\":null},\"id\":\"89049\",\"type\":\"Grid\"},{\"attributes\":{\"fill_alpha\":0.5,\"fill_color\":\"#30a2da\",\"hatch_color\":\"#30a2da\",\"x\":{\"field\":\"x\"},\"y\":{\"field\":\"y\"}},\"id\":\"89086\",\"type\":\"Patch\"},{\"attributes\":{\"fill_alpha\":0.2,\"fill_color\":\"#30a2da\",\"hatch_alpha\":0.2,\"hatch_color\":\"#30a2da\",\"line_alpha\":0.2,\"x\":{\"field\":\"x\"},\"y\":{\"field\":\"y\"}},\"id\":\"89083\",\"type\":\"Patch\"},{\"attributes\":{\"toolbars\":[{\"id\":\"89056\"}],\"tools\":[{\"id\":\"89032\"},{\"id\":\"89050\"},{\"id\":\"89051\"},{\"id\":\"89052\"},{\"id\":\"89053\"},{\"id\":\"89054\"}]},\"id\":\"89258\",\"type\":\"ProxyToolbar\"},{\"attributes\":{},\"id\":\"89050\",\"type\":\"SaveTool\"},{\"attributes\":{\"source\":{\"id\":\"89078\"}},\"id\":\"89085\",\"type\":\"CDSView\"},{\"attributes\":{\"overlay\":{\"id\":\"89055\"}},\"id\":\"89053\",\"type\":\"BoxZoomTool\"},{\"attributes\":{},\"id\":\"89054\",\"type\":\"ResetTool\"},{\"attributes\":{\"coordinates\":null,\"data_source\":{\"id\":\"89078\"},\"glyph\":{\"id\":\"89081\"},\"group\":null,\"hover_glyph\":null,\"muted_glyph\":{\"id\":\"89083\"},\"nonselection_glyph\":{\"id\":\"89082\"},\"selection_glyph\":{\"id\":\"89086\"},\"view\":{\"id\":\"89085\"},\"y_range_name\":\"twiny\"},\"id\":\"89084\",\"type\":\"GlyphRenderer\"},{\"attributes\":{\"bottom_units\":\"screen\",\"coordinates\":null,\"fill_alpha\":0.5,\"fill_color\":\"lightgrey\",\"group\":null,\"left_units\":\"screen\",\"level\":\"overlay\",\"line_alpha\":1.0,\"line_color\":\"black\",\"line_dash\":[4,4],\"line_width\":2,\"right_units\":\"screen\",\"syncable\":false,\"top_units\":\"screen\"},\"id\":\"89055\",\"type\":\"BoxAnnotation\"},{\"attributes\":{\"end\":135585.43,\"reset_end\":147667.3,\"reset_start\":0.0,\"tags\":[[[\"Frequency\",\"Frequency\",null]]]},\"id\":\"89031\",\"type\":\"Range1d\"},{\"attributes\":{\"children\":[{\"id\":\"89259\"},{\"id\":\"89257\"}]},\"id\":\"89260\",\"type\":\"Column\"},{\"attributes\":{\"end\":0.26723906488554644},\"id\":\"89087\",\"type\":\"Range1d\"},{\"attributes\":{\"margin\":[5,5,5,5],\"name\":\"HSpacer212815\",\"sizing_mode\":\"stretch_width\"},\"id\":\"89445\",\"type\":\"Spacer\"},{\"attributes\":{\"children\":[[{\"id\":\"89033\"},0,0],[{\"id\":\"89236\"},1,0]]},\"id\":\"89257\",\"type\":\"GridBox\"},{\"attributes\":{\"children\":[{\"id\":\"89261\"},{\"id\":\"89260\"}]},\"id\":\"89262\",\"type\":\"Column\"},{\"attributes\":{\"children\":[{\"id\":\"89447\"},{\"id\":\"89448\"},{\"id\":\"89450\"}],\"margin\":[0,0,0,0],\"name\":\"Row212812\"},\"id\":\"89446\",\"type\":\"Row\"},{\"attributes\":{\"axis_label\":\"y, brand_density\",\"coordinates\":null,\"formatter\":{\"id\":\"89094\"},\"group\":null,\"major_label_policy\":{\"id\":\"89095\"},\"ticker\":{\"id\":\"89093\"},\"y_range_name\":\"twiny\"},\"id\":\"89088\",\"type\":\"LinearAxis\"},{\"attributes\":{\"data\":{\"A_25_percent\":{\"__ndarray__\":\"XI/C9ShEYUA=\",\"dtype\":\"float64\",\"order\":\"little\",\"shape\":[1]},\"A_50_percent\":{\"__ndarray__\":\"XI/C9ShEYUA=\",\"dtype\":\"float64\",\"order\":\"little\",\"shape\":[1]},\"A_75_percent\":{\"__ndarray__\":\"XI/C9ShEYUA=\",\"dtype\":\"float64\",\"order\":\"little\",\"shape\":[1]},\"count\":{\"__ndarray__\":\"AAAAADgSAUE=\",\"dtype\":\"float64\",\"order\":\"little\",\"shape\":[1]},\"max\":{\"__ndarray__\":\"XI/C9ShEYUA=\",\"dtype\":\"float64\",\"order\":\"little\",\"shape\":[1]},\"mean\":{\"__ndarray__\":\"SOF6FK7nYEA=\",\"dtype\":\"float64\",\"order\":\"little\",\"shape\":[1]},\"min\":{\"__ndarray__\":\"uB6F61E4K0A=\",\"dtype\":\"float64\",\"order\":\"little\",\"shape\":[1]},\"std\":{\"__ndarray__\":\"AAAAAACALkA=\",\"dtype\":\"float64\",\"order\":\"little\",\"shape\":[1]}},\"selected\":{\"id\":\"89195\"},\"selection_policy\":{\"id\":\"89255\"}},\"id\":\"89194\",\"type\":\"ColumnDataSource\"},{\"attributes\":{\"data\":{\"x\":{\"__ndarray__\":\"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\",\"dtype\":\"float64\",\"order\":\"little\",\"shape\":[200]},\"y\":{\"__ndarray__\":\"AAAAAAAAAAAAAAAAAAAAAAAAAAAAAAAAAAAAAAAAAAAAAAAAAAAAAAAAAAAAAAAAAAAAAAAAAAAAAAAAAAAAAAAAAAAAAAAAAAAAAAAAAAAAAAAAAAAAAAAAAAAAAAAAAAAAAAAAAAAAAAAAAAAAAAAAAAAAAAAAAAAAAAAAAAAAAAAAAAAAAAAAAAAAAAAAAAAAAAAAAAAAAAAAAAAAAAAAAAAAAAAAAAAAAAAAAAAAAAAAAAAAAAAAAAAAAAAAAAAAAAAAAAAAAAAAAAAAAAAAAAAAAAAAAAAAAAAAAAAAAAAAAAAAAAAAAAAAAAAAAAAAAAAAAAAAAAAAAAAAAAAAAAAAAAAAAAAAAAAAAAAAAAAAAAAAAAAAAAAAAAAAAAAAAAAAAAAAAAAAAAAAAAAAAAAAAAAAAAAAAAAAAAAAAAAAAAAAAAAAAAAAAAAAAAAAAAAAAAAAAAAAAAAAAAAAAAAAAAAAAAAAAAAAAAAAAAAAAAAAAAAAAAAAAAAAAAAAAAAAAAAAAAAAAAAAAAAAAAAAAAAAAAAAAAAAAAAAAAAAAAAAAAAAAAAAAAAAAAAAAAAAAAAAAAAAAAAAAAAAAAAAAAAAAAAAAAAAAAAAAAAAAAAAAAAAAAAAAAAAAAAAAAAAAAAAAAAAAAAAAAAAAAAAAAAAAAAAAAAAAAAAAAAAAAAAAAAAAAAAAAAAAAAAAAAAAAAAAAAAAAAAAAAAAAAAAAAAAAAAAAAAAAAAAAAAAAAAAAAAAAAAAAAAAAAAAAAAAAAAAAAAAAAAAAAAAAAAAAAAAAAAAAAAAAAAAAAAAAAAAAAAAAAAAAAAAAAAAAAAAAAAAAAAAAAAAAAAAAAAAAAAAAAAAAAAAAAAAAAAAAAAAAAAAAAAAAAAAAAAAAAAAAAAAAAAAAAAAAAAAAAAAAAAAAAAAAAAAAAAAAAAAAAAAAAAAAAAAAAAAAAAAAAAAAAAAAAAAAAAAAAAAAAAAAAAAAAAAAAAAAAAAAAAAAAAAAAAAAAAAAAAAAAAAAAAAAAAAAAAAAAAAAAAAAAAAAAAAAAAAAAAAADAaFfsTXBoP5c1efohkKA/leX7nlV3wj+s/dUJGO/QP7UihBqsi8k/VyJIpHGyrz+xJm+3uiyAP/cwDObYJzs/GQoYZfm/4j6BjNN39kt1Poq+XYpz5fM9dICSLO2TXj0231mLn1OzPE6Lwy8/GPQ7Q24kXGMvITv7KPkbQC04Ono5ah7q+Ts5i03dXpCgKjif9RWvYtgEN8+eaydV2Mo1yVpSB5VvfDSJc/DnZ8YYMwWfi+UiwaEx9Onp/HUNODAy8ZkOGee4MfEjuM1lGisz7Sf0+jdDiDSdrEzsZ93RNcrd9TaYowU3ZkVcpAOPJTjbQfZgn6oxOSzIY/Gx0Cc6ZaIZ4vRnCjtqk9sxFBXYO+JacdulEJI8+ANEVtFKNj3FV8cKWaDGPdvZ96m240I+2BRmjCDxqT4NUEtg2U39PoevtVEeOjs/JMXkObDOZD+B5lhLhyh6P4+Jgg18DHs/jKC8bmQBZz/QtcLkAxhAP3yblNBahQI/qDw3H/yHsT7DndGRXUxLPowillA6e9E9xcWmQ3BqQj3QopOb9umfPF4l0SID0uY7i9KYPxJ0JDzyv2YQudTRPGdietFnkmk97t+AYx8q7j3hYjONT0RdPtZ7lPIoW7c+EYahHnap/j7Gv+/B8I0wPzdb5iTsZ00/LdpIi1d7VT+ZhZAMydBJP/8n822VhCk//ZZBc33S9D5JO3Z7bCG5PgucX4EPjcU+hp3a7vHH0D72278Ed57FPnpZQ50tl6c+OUO+JQ/rlz5OYQy6Oqm6PjUio9Kswc4+5L5w/4I+zT4F5kVvGN+2PpPVU7ztbI0+Eh//K0InTz6APen7APUTPhqNsDIV6WI+hGIWgylPpj6BUCB0gabVPvJc1u8uSPE+1KqJc3Sx9j67Ga0ojoLoPlxt3BkdxsU+0Q3cf/7Rjz6b1eCrMS1DPmnl0L9/SjM+aXa/ECJNlj5H3UJWiZ3mPmCpUhaycyM/B+jUR39KTD+xhhuItFxhPz9jrWssLGI/eqdnVFOxUT9c791S7yI3P6/fLWKkpRw/BpO19xhS9j5HPmhPWnm/Pg==\",\"dtype\":\"float64\",\"order\":\"little\",\"shape\":[200]}},\"selected\":{\"id\":\"89079\"},\"selection_policy\":{\"id\":\"89101\"}},\"id\":\"89078\",\"type\":\"ColumnDataSource\"},{\"attributes\":{\"callback\":null,\"renderers\":[{\"id\":\"89084\"}],\"tags\":[\"hv_created\"],\"tooltips\":[[\"brand\",\"@{brand}\"],[\"Density\",\"@{brand_density}\"]]},\"id\":\"89032\",\"type\":\"HoverTool\"},{\"attributes\":{\"margin\":[5,5,5,5],\"name\":\"HSpacer212818\",\"sizing_mode\":\"stretch_width\"},\"id\":\"89451\",\"type\":\"Spacer\"},{\"attributes\":{},\"id\":\"89255\",\"type\":\"UnionRenderers\"},{\"attributes\":{\"fill_alpha\":0.5,\"fill_color\":\"#30a2da\",\"hatch_color\":\"#30a2da\",\"x\":{\"field\":\"x\"},\"y\":{\"field\":\"y\"}},\"id\":\"89081\",\"type\":\"Patch\"},{\"attributes\":{},\"id\":\"89079\",\"type\":\"Selection\"},{\"attributes\":{\"toolbar\":{\"id\":\"89258\"},\"toolbar_location\":\"above\"},\"id\":\"89259\",\"type\":\"ToolbarBox\"},{\"attributes\":{},\"id\":\"89195\",\"type\":\"Selection\"},{\"attributes\":{},\"id\":\"89070\",\"type\":\"Selection\"},{\"attributes\":{\"bottom\":{\"value\":0},\"fill_alpha\":{\"value\":0.2},\"fill_color\":{\"value\":\"#00fff0\"},\"hatch_alpha\":{\"value\":0.2},\"hatch_color\":{\"value\":\"#00fff0\"},\"left\":{\"field\":\"left\"},\"line_alpha\":{\"value\":0.2},\"right\":{\"field\":\"right\"},\"top\":{\"field\":\"top\"}},\"id\":\"89074\",\"type\":\"Quad\"},{\"attributes\":{\"bottom\":{\"value\":0},\"fill_alpha\":{\"value\":0.1},\"fill_color\":{\"value\":\"#00fff0\"},\"hatch_alpha\":{\"value\":0.1},\"hatch_color\":{\"value\":\"#00fff0\"},\"left\":{\"field\":\"left\"},\"line_alpha\":{\"value\":0.1},\"right\":{\"field\":\"right\"},\"top\":{\"field\":\"top\"}},\"id\":\"89073\",\"type\":\"Quad\"},{\"attributes\":{},\"id\":\"89099\",\"type\":\"UnionRenderers\"},{\"attributes\":{\"coordinates\":null,\"data_source\":{\"id\":\"89069\"},\"glyph\":{\"id\":\"89072\"},\"group\":null,\"hover_glyph\":null,\"muted_glyph\":{\"id\":\"89074\"},\"nonselection_glyph\":{\"id\":\"89073\"},\"selection_glyph\":{\"id\":\"89077\"},\"view\":{\"id\":\"89076\"}},\"id\":\"89075\",\"type\":\"GlyphRenderer\"},{\"attributes\":{\"source\":{\"id\":\"89069\"}},\"id\":\"89076\",\"type\":\"CDSView\"},{\"attributes\":{\"editor\":{\"id\":\"89404\"},\"field\":\"min\",\"formatter\":{\"id\":\"89403\"},\"title\":\"min\"},\"id\":\"89405\",\"type\":\"TableColumn\"},{\"attributes\":{},\"id\":\"89414\",\"type\":\"NumberEditor\"},{\"attributes\":{\"format\":\"0,0.0[00000]\"},\"id\":\"89398\",\"type\":\"NumberFormatter\"},{\"attributes\":{},\"id\":\"89038\",\"type\":\"LinearScale\"},{\"attributes\":{\"format\":\"0,0.0[00000]\"},\"id\":\"89418\",\"type\":\"NumberFormatter\"},{\"attributes\":{\"columns\":[{\"id\":\"89390\"},{\"id\":\"89395\"},{\"id\":\"89400\"},{\"id\":\"89405\"},{\"id\":\"89410\"},{\"id\":\"89415\"},{\"id\":\"89420\"},{\"id\":\"89425\"}],\"height\":60,\"reorderable\":false,\"source\":{\"id\":\"89194\"},\"view\":{\"id\":\"89238\"}},\"id\":\"89236\",\"type\":\"DataTable\"},{\"attributes\":{\"margin\":[5,5,5,5],\"name\":\"HSpacer212814\",\"sizing_mode\":\"stretch_width\"},\"id\":\"89029\",\"type\":\"Spacer\"},{\"attributes\":{\"below\":[{\"id\":\"89042\"}],\"center\":[{\"id\":\"89045\"},{\"id\":\"89049\"}],\"extra_y_ranges\":{\"twiny\":{\"id\":\"89087\"}},\"height\":300,\"left\":[{\"id\":\"89046\"}],\"margin\":null,\"min_border_bottom\":10,\"min_border_left\":10,\"min_border_right\":10,\"min_border_top\":10,\"renderers\":[{\"id\":\"89075\"},{\"id\":\"89084\"}],\"right\":[{\"id\":\"89088\"}],\"sizing_mode\":\"fixed\",\"title\":{\"id\":\"89034\"},\"toolbar\":{\"id\":\"89056\"},\"toolbar_location\":null,\"x_range\":{\"id\":\"89030\"},\"x_scale\":{\"id\":\"89038\"},\"y_range\":{\"id\":\"89031\"},\"y_scale\":{\"id\":\"89040\"}},\"id\":\"89033\",\"subtype\":\"Figure\",\"type\":\"Plot\"},{\"attributes\":{\"format\":\"0,0.0[00000]\"},\"id\":\"89403\",\"type\":\"NumberFormatter\"},{\"attributes\":{\"data\":{\"left\":{\"__ndarray__\":\"nAqZdl02K0CXJxphENUzQODJ5wbyDjpAFbZa1mkkQEA6h0GpWkFDQF5YKHxLXkZAgykPTzx7SUCn+vUhLZhMQMzL3PQdtU9AeM7hYwdpUUAKN1XNf/dSQJyfyDb4hVRAMAg8oHAUVkDCcK8J6aJXQFTZInNhMVlA5kGW3Nm/WkB4qglGUk5cQAoTfa/K3F1AnnvwGENrX0AY8jHB3XxgQA==\",\"dtype\":\"float64\",\"order\":\"little\",\"shape\":[20]},\"right\":{\"__ndarray__\":\"lycaYRDVM0DgyecG8g46QBW2WtZpJEBAOodBqVpBQ0BeWCh8S15GQIMpD088e0lAp/r1IS2YTEDMy9z0HbVPQHjO4WMHaVFACjdVzX/3UkCcn8g2+IVUQDAIPKBwFFZAwnCvCemiV0BU2SJzYTFZQOZBltzZv1pAeKoJRlJOXEAKE32vytxdQJ578BhDa19AGPIxwd18YEBhpuv1GURhQA==\",\"dtype\":\"float64\",\"order\":\"little\",\"shape\":[20]},\"top\":[1302,0,11,0,2,0,2,657,0,0,0,3630,0,0,0,0,0,0,0,134243]},\"selected\":{\"id\":\"89070\"},\"selection_policy\":{\"id\":\"89099\"}},\"id\":\"89069\",\"type\":\"ColumnDataSource\"},{\"attributes\":{},\"id\":\"89094\",\"type\":\"BasicTickFormatter\"},{\"attributes\":{\"format\":\"0,0.0[00000]\"},\"id\":\"89413\",\"type\":\"NumberFormatter\"},{\"attributes\":{\"tools\":[{\"id\":\"89032\"},{\"id\":\"89050\"},{\"id\":\"89051\"},{\"id\":\"89052\"},{\"id\":\"89053\"},{\"id\":\"89054\"}]},\"id\":\"89056\",\"type\":\"Toolbar\"},{\"attributes\":{},\"id\":\"89093\",\"type\":\"BasicTicker\"},{\"attributes\":{\"editor\":{\"id\":\"89389\"},\"field\":\"count\",\"formatter\":{\"id\":\"89388\"},\"title\":\"count\"},\"id\":\"89390\",\"type\":\"TableColumn\"},{\"attributes\":{},\"id\":\"89095\",\"type\":\"AllLabels\"},{\"attributes\":{},\"id\":\"89404\",\"type\":\"NumberEditor\"},{\"attributes\":{\"end\":149.06024072505184,\"reset_end\":149.06024072505184,\"reset_start\":2.6741101149784354,\"start\":2.6741101149784354,\"tags\":[[[\"x\",\"x\",null]]]},\"id\":\"89030\",\"type\":\"Range1d\"},{\"attributes\":{},\"id\":\"89067\",\"type\":\"BasicTickFormatter\"},{\"attributes\":{\"children\":[{\"id\":\"89026\"},{\"id\":\"89027\"},{\"id\":\"89451\"}],\"margin\":[0,0,0,0],\"name\":\"Row212804\"},\"id\":\"89025\",\"type\":\"Row\"},{\"attributes\":{\"editor\":{\"id\":\"89394\"},\"field\":\"mean\",\"formatter\":{\"id\":\"89393\"},\"title\":\"mean\"},\"id\":\"89395\",\"type\":\"TableColumn\"},{\"attributes\":{\"style\":{\"white-space\":\"nowrap\"},\"text\":\"<span style=\\\"color:black;font-family:Arial;font-style:bold;font-weight:bold;font-size:12pt\\\">col: brand</span>\",\"width\":450},\"id\":\"89261\",\"type\":\"Div\"},{\"attributes\":{\"margin\":[5,5,5,5],\"name\":\"HSpacer212810\",\"sizing_mode\":\"stretch_width\"},\"id\":\"89447\",\"type\":\"Spacer\"},{\"attributes\":{\"format\":\"0,0.0[00000]\"},\"id\":\"89408\",\"type\":\"NumberFormatter\"},{\"attributes\":{},\"id\":\"89389\",\"type\":\"NumberEditor\"},{\"attributes\":{\"margin\":[5,5,5,5],\"name\":\"HSpacer212811\",\"sizing_mode\":\"stretch_width\"},\"id\":\"89450\",\"type\":\"Spacer\"},{\"attributes\":{\"editor\":{\"id\":\"89399\"},\"field\":\"std\",\"formatter\":{\"id\":\"89398\"},\"title\":\"std\"},\"id\":\"89400\",\"type\":\"TableColumn\"},{\"attributes\":{\"bottom\":{\"value\":0},\"fill_alpha\":{\"value\":1.0},\"fill_color\":{\"value\":\"#00fff0\"},\"hatch_alpha\":{\"value\":1.0},\"hatch_color\":{\"value\":\"#00fff0\"},\"hatch_scale\":{\"value\":12.0},\"hatch_weight\":{\"value\":1.0},\"left\":{\"field\":\"left\"},\"line_alpha\":{\"value\":1.0},\"line_cap\":{\"value\":\"butt\"},\"line_color\":{\"value\":\"black\"},\"line_dash\":{\"value\":[]},\"line_dash_offset\":{\"value\":0},\"line_join\":{\"value\":\"bevel\"},\"line_width\":{\"value\":1},\"right\":{\"field\":\"right\"},\"top\":{\"field\":\"top\"}},\"id\":\"89077\",\"type\":\"Quad\"},{\"attributes\":{\"format\":\"0,0.0[00000]\"},\"id\":\"89393\",\"type\":\"NumberFormatter\"},{\"attributes\":{\"children\":[{\"id\":\"89449\"}],\"css_classes\":[\"panel-widget-box\"],\"margin\":[5,5,5,5],\"name\":\"WidgetBox212805\"},\"id\":\"89448\",\"type\":\"Column\"},{\"attributes\":{},\"id\":\"89409\",\"type\":\"NumberEditor\"},{\"attributes\":{},\"id\":\"89394\",\"type\":\"NumberEditor\"},{\"attributes\":{},\"id\":\"89399\",\"type\":\"NumberEditor\"},{\"attributes\":{},\"id\":\"89064\",\"type\":\"BasicTickFormatter\"},{\"attributes\":{\"margin\":[20,20,20,20],\"min_width\":250,\"options\":[\"brand\",\"condition\"],\"title\":\"col\",\"value\":\"brand\",\"width\":250},\"id\":\"89449\",\"type\":\"panel.models.widgets.CustomSelect\"},{\"attributes\":{\"bottom\":{\"value\":0},\"fill_color\":{\"value\":\"#00fff0\"},\"hatch_color\":{\"value\":\"#00fff0\"},\"left\":{\"field\":\"left\"},\"right\":{\"field\":\"right\"},\"top\":{\"field\":\"top\"}},\"id\":\"89072\",\"type\":\"Quad\"},{\"attributes\":{\"editor\":{\"id\":\"89409\"},\"field\":\"A_25_percent\",\"formatter\":{\"id\":\"89408\"},\"title\":\"25%\"},\"id\":\"89410\",\"type\":\"TableColumn\"}],\"root_ids\":[\"89025\",\"89503\"]},\"title\":\"Bokeh Application\",\"version\":\"2.4.3\"}};\n",
       "    var render_items = [{\"docid\":\"808030b0-af58-44c7-b304-1e12909a60c2\",\"root_ids\":[\"89025\"],\"roots\":{\"89025\":\"2d7a504c-1941-44a2-885a-3c64634a1493\"}}];\n",
       "    root.Bokeh.embed.embed_items_notebook(docs_json, render_items);\n",
       "  }\n",
       "  if (root.Bokeh !== undefined && root.Bokeh.Panel !== undefined) {\n",
       "    embed_document(root);\n",
       "  } else {\n",
       "    var attempts = 0;\n",
       "    var timer = setInterval(function(root) {\n",
       "      if (root.Bokeh !== undefined && root.Bokeh.Panel !== undefined) {\n",
       "        clearInterval(timer);\n",
       "        embed_document(root);\n",
       "      } else if (document.readyState == \"complete\") {\n",
       "        attempts++;\n",
       "        if (attempts > 200) {\n",
       "          clearInterval(timer);\n",
       "          console.log(\"Bokeh: ERROR: Unable to run BokehJS code because BokehJS library is missing\");\n",
       "        }\n",
       "      }\n",
       "    }, 25, root)\n",
       "  }\n",
       "})(window);</script>"
      ],
      "text/plain": [
       ":DynamicMap   [col]\n",
       "   :Layout\n",
       "      .Overlay.I :Overlay\n",
       "         .Histogram.I    :Histogram   [x]   (Frequency)\n",
       "         .Distribution.I :Distribution   [brand]   (Density)\n",
       "      .Table.I   :Table   [count,mean,std,min,25%,50%,75%,max]"
      ]
     },
     "execution_count": 56,
     "metadata": {
      "application/vnd.holoviews_exec.v0+json": {
       "id": "89025"
      }
     },
     "output_type": "execute_result"
    }
   ],
   "source": [
    "out = eda.get_density_plots(train_X, cols=['brand', 'condition'])\n",
    "out"
   ]
  },
  {
   "cell_type": "code",
   "execution_count": 57,
   "metadata": {},
   "outputs": [],
   "source": [
    "# save the plots are html\n",
    "reports.create_report({'univariate': out}, name='feature_analysis_univariate')"
   ]
  },
  {
   "cell_type": "markdown",
   "metadata": {},
   "source": [
    "A report containing the above plot is available [here](https://drive.google.com/file/d/16ntqUc_zvpg0at5pTtO-ljBjw5UVGFnp/view?usp=sharing)\n"
   ]
  },
  {
   "cell_type": "markdown",
   "metadata": {},
   "source": [
    "Alternatively, the above plots can be generated as a single html as below. The output from this is available [here](https://drive.google.com/file/d/1vUaCcs1PJ4IYo1em9-eZIEj9WuDsnFKT/view?usp=sharing)"
   ]
  },
  {
   "cell_type": "code",
   "execution_count": 58,
   "metadata": {},
   "outputs": [
    {
     "name": "stderr",
     "output_type": "stream",
     "text": [
      "p-value may not be accurate for N > 5000.\n"
     ]
    }
   ],
   "source": [
    "reports.feature_analysis(train_X,'./feature_analysis_report.html')"
   ]
  },
  {
   "cell_type": "markdown",
   "metadata": {},
   "source": [
    "### 3.2.2 Bivariate - mutual interactions"
   ]
  },
  {
   "cell_type": "markdown",
   "metadata": {},
   "source": [
    "- Find columns with high correlations and drop them"
   ]
  },
  {
   "cell_type": "code",
   "execution_count": 59,
   "metadata": {},
   "outputs": [
    {
     "data": {
      "text/html": [
       "<div>\n",
       "<style scoped>\n",
       "    .dataframe tbody tr th:only-of-type {\n",
       "        vertical-align: middle;\n",
       "    }\n",
       "\n",
       "    .dataframe tbody tr th {\n",
       "        vertical-align: top;\n",
       "    }\n",
       "\n",
       "    .dataframe thead th {\n",
       "        text-align: right;\n",
       "    }\n",
       "</style>\n",
       "<table border=\"1\" class=\"dataframe\">\n",
       "  <thead>\n",
       "    <tr style=\"text-align: right;\">\n",
       "      <th></th>\n",
       "      <th>Variable 1</th>\n",
       "      <th>Variable 2</th>\n",
       "      <th>Corr Coef</th>\n",
       "      <th>Abs Corr Coef</th>\n",
       "    </tr>\n",
       "  </thead>\n",
       "  <tbody>\n",
       "    <tr>\n",
       "      <th>0</th>\n",
       "      <td>brand</td>\n",
       "      <td>manufacturer</td>\n",
       "      <td>0.999720</td>\n",
       "      <td>0.999720</td>\n",
       "    </tr>\n",
       "    <tr>\n",
       "      <th>1</th>\n",
       "      <td>selling_cost</td>\n",
       "      <td>selling_price</td>\n",
       "      <td>0.989539</td>\n",
       "      <td>0.989539</td>\n",
       "    </tr>\n",
       "    <tr>\n",
       "      <th>2</th>\n",
       "      <td>inventory_id</td>\n",
       "      <td>sku</td>\n",
       "      <td>0.988895</td>\n",
       "      <td>0.988895</td>\n",
       "    </tr>\n",
       "    <tr>\n",
       "      <th>3</th>\n",
       "      <td>invoice_no</td>\n",
       "      <td>order_no</td>\n",
       "      <td>0.988130</td>\n",
       "      <td>0.988130</td>\n",
       "    </tr>\n",
       "    <tr>\n",
       "      <th>4</th>\n",
       "      <td>ext_model_family</td>\n",
       "      <td>model_family</td>\n",
       "      <td>0.983545</td>\n",
       "      <td>0.983545</td>\n",
       "    </tr>\n",
       "    <tr>\n",
       "      <th>5</th>\n",
       "      <td>channel</td>\n",
       "      <td>source_channel</td>\n",
       "      <td>0.967496</td>\n",
       "      <td>0.967496</td>\n",
       "    </tr>\n",
       "    <tr>\n",
       "      <th>6</th>\n",
       "      <td>condition</td>\n",
       "      <td>ext_grade</td>\n",
       "      <td>0.959041</td>\n",
       "      <td>0.959041</td>\n",
       "    </tr>\n",
       "    <tr>\n",
       "      <th>7</th>\n",
       "      <td>ext_model_family</td>\n",
       "      <td>tgt_enc_sim_impt_x2</td>\n",
       "      <td>0.949098</td>\n",
       "      <td>0.949098</td>\n",
       "    </tr>\n",
       "    <tr>\n",
       "      <th>8</th>\n",
       "      <td>model_family</td>\n",
       "      <td>tgt_enc_sim_impt_x2</td>\n",
       "      <td>0.947178</td>\n",
       "      <td>0.947178</td>\n",
       "    </tr>\n",
       "    <tr>\n",
       "      <th>9</th>\n",
       "      <td>inventory_id</td>\n",
       "      <td>model_family</td>\n",
       "      <td>0.924122</td>\n",
       "      <td>0.924122</td>\n",
       "    </tr>\n",
       "    <tr>\n",
       "      <th>10</th>\n",
       "      <td>model_family</td>\n",
       "      <td>sku</td>\n",
       "      <td>0.917067</td>\n",
       "      <td>0.917067</td>\n",
       "    </tr>\n",
       "    <tr>\n",
       "      <th>11</th>\n",
       "      <td>ext_model_family</td>\n",
       "      <td>inventory_id</td>\n",
       "      <td>0.909772</td>\n",
       "      <td>0.909772</td>\n",
       "    </tr>\n",
       "    <tr>\n",
       "      <th>12</th>\n",
       "      <td>ext_model_family</td>\n",
       "      <td>sku</td>\n",
       "      <td>0.902652</td>\n",
       "      <td>0.902652</td>\n",
       "    </tr>\n",
       "    <tr>\n",
       "      <th>13</th>\n",
       "      <td>inventory_id</td>\n",
       "      <td>tgt_enc_sim_impt_x2</td>\n",
       "      <td>0.894981</td>\n",
       "      <td>0.894981</td>\n",
       "    </tr>\n",
       "    <tr>\n",
       "      <th>14</th>\n",
       "      <td>quantity</td>\n",
       "      <td>selling_price</td>\n",
       "      <td>0.889678</td>\n",
       "      <td>0.889678</td>\n",
       "    </tr>\n",
       "    <tr>\n",
       "      <th>15</th>\n",
       "      <td>sku</td>\n",
       "      <td>tgt_enc_sim_impt_x2</td>\n",
       "      <td>0.885265</td>\n",
       "      <td>0.885265</td>\n",
       "    </tr>\n",
       "    <tr>\n",
       "      <th>16</th>\n",
       "      <td>quantity</td>\n",
       "      <td>selling_cost</td>\n",
       "      <td>0.871403</td>\n",
       "      <td>0.871403</td>\n",
       "    </tr>\n",
       "    <tr>\n",
       "      <th>17</th>\n",
       "      <td>inventory_id</td>\n",
       "      <td>unit_cost</td>\n",
       "      <td>0.859735</td>\n",
       "      <td>0.859735</td>\n",
       "    </tr>\n",
       "    <tr>\n",
       "      <th>18</th>\n",
       "      <td>model_family</td>\n",
       "      <td>unit_cost</td>\n",
       "      <td>0.858565</td>\n",
       "      <td>0.858565</td>\n",
       "    </tr>\n",
       "    <tr>\n",
       "      <th>19</th>\n",
       "      <td>sku</td>\n",
       "      <td>unit_cost</td>\n",
       "      <td>0.856862</td>\n",
       "      <td>0.856862</td>\n",
       "    </tr>\n",
       "    <tr>\n",
       "      <th>20</th>\n",
       "      <td>ext_model_family</td>\n",
       "      <td>unit_cost</td>\n",
       "      <td>0.853177</td>\n",
       "      <td>0.853177</td>\n",
       "    </tr>\n",
       "    <tr>\n",
       "      <th>21</th>\n",
       "      <td>tgt_enc_sim_impt_x2</td>\n",
       "      <td>unit_cost</td>\n",
       "      <td>0.824691</td>\n",
       "      <td>0.824691</td>\n",
       "    </tr>\n",
       "    <tr>\n",
       "      <th>22</th>\n",
       "      <td>memory_size</td>\n",
       "      <td>model_family</td>\n",
       "      <td>0.636147</td>\n",
       "      <td>0.636147</td>\n",
       "    </tr>\n",
       "  </tbody>\n",
       "</table>\n",
       "</div>"
      ],
      "text/plain": [
       "             Variable 1           Variable 2  Corr Coef  Abs Corr Coef\n",
       "0                 brand         manufacturer   0.999720       0.999720\n",
       "1          selling_cost        selling_price   0.989539       0.989539\n",
       "2          inventory_id                  sku   0.988895       0.988895\n",
       "3            invoice_no             order_no   0.988130       0.988130\n",
       "4      ext_model_family         model_family   0.983545       0.983545\n",
       "5               channel       source_channel   0.967496       0.967496\n",
       "6             condition            ext_grade   0.959041       0.959041\n",
       "7      ext_model_family  tgt_enc_sim_impt_x2   0.949098       0.949098\n",
       "8          model_family  tgt_enc_sim_impt_x2   0.947178       0.947178\n",
       "9          inventory_id         model_family   0.924122       0.924122\n",
       "10         model_family                  sku   0.917067       0.917067\n",
       "11     ext_model_family         inventory_id   0.909772       0.909772\n",
       "12     ext_model_family                  sku   0.902652       0.902652\n",
       "13         inventory_id  tgt_enc_sim_impt_x2   0.894981       0.894981\n",
       "14             quantity        selling_price   0.889678       0.889678\n",
       "15                  sku  tgt_enc_sim_impt_x2   0.885265       0.885265\n",
       "16             quantity         selling_cost   0.871403       0.871403\n",
       "17         inventory_id            unit_cost   0.859735       0.859735\n",
       "18         model_family            unit_cost   0.858565       0.858565\n",
       "19                  sku            unit_cost   0.856862       0.856862\n",
       "20     ext_model_family            unit_cost   0.853177       0.853177\n",
       "21  tgt_enc_sim_impt_x2            unit_cost   0.824691       0.824691\n",
       "22          memory_size         model_family   0.636147       0.636147"
      ]
     },
     "execution_count": 59,
     "metadata": {},
     "output_type": "execute_result"
    }
   ],
   "source": [
    "out = eda.get_correlation_table(train_X)\n",
    "out[out[\"Abs Corr Coef\"] > 0.6]"
   ]
  },
  {
   "cell_type": "code",
   "execution_count": 60,
   "metadata": {},
   "outputs": [
    {
     "data": {
      "text/html": [
       "<div>\n",
       "<style scoped>\n",
       "    .dataframe tbody tr th:only-of-type {\n",
       "        vertical-align: middle;\n",
       "    }\n",
       "\n",
       "    .dataframe tbody tr th {\n",
       "        vertical-align: top;\n",
       "    }\n",
       "\n",
       "    .dataframe thead th {\n",
       "        text-align: right;\n",
       "    }\n",
       "</style>\n",
       "<table border=\"1\" class=\"dataframe\">\n",
       "  <thead>\n",
       "    <tr style=\"text-align: right;\">\n",
       "      <th></th>\n",
       "      <th>Variable 1</th>\n",
       "      <th>Variable 2</th>\n",
       "      <th>Corr Coef</th>\n",
       "      <th>Abs Corr Coef</th>\n",
       "    </tr>\n",
       "  </thead>\n",
       "  <tbody>\n",
       "    <tr>\n",
       "      <th>0</th>\n",
       "      <td>model_family</td>\n",
       "      <td>tgt_enc_sim_impt_x2</td>\n",
       "      <td>0.947178</td>\n",
       "      <td>0.947178</td>\n",
       "    </tr>\n",
       "    <tr>\n",
       "      <th>1</th>\n",
       "      <td>model_family</td>\n",
       "      <td>sku</td>\n",
       "      <td>0.917067</td>\n",
       "      <td>0.917067</td>\n",
       "    </tr>\n",
       "    <tr>\n",
       "      <th>2</th>\n",
       "      <td>sku</td>\n",
       "      <td>tgt_enc_sim_impt_x2</td>\n",
       "      <td>0.885265</td>\n",
       "      <td>0.885265</td>\n",
       "    </tr>\n",
       "    <tr>\n",
       "      <th>3</th>\n",
       "      <td>model_family</td>\n",
       "      <td>unit_cost</td>\n",
       "      <td>0.858565</td>\n",
       "      <td>0.858565</td>\n",
       "    </tr>\n",
       "    <tr>\n",
       "      <th>4</th>\n",
       "      <td>sku</td>\n",
       "      <td>unit_cost</td>\n",
       "      <td>0.856862</td>\n",
       "      <td>0.856862</td>\n",
       "    </tr>\n",
       "    <tr>\n",
       "      <th>5</th>\n",
       "      <td>tgt_enc_sim_impt_x2</td>\n",
       "      <td>unit_cost</td>\n",
       "      <td>0.824691</td>\n",
       "      <td>0.824691</td>\n",
       "    </tr>\n",
       "    <tr>\n",
       "      <th>6</th>\n",
       "      <td>memory_size</td>\n",
       "      <td>model_family</td>\n",
       "      <td>0.636147</td>\n",
       "      <td>0.636147</td>\n",
       "    </tr>\n",
       "  </tbody>\n",
       "</table>\n",
       "</div>"
      ],
      "text/plain": [
       "            Variable 1           Variable 2  Corr Coef  Abs Corr Coef\n",
       "0         model_family  tgt_enc_sim_impt_x2   0.947178       0.947178\n",
       "1         model_family                  sku   0.917067       0.917067\n",
       "2                  sku  tgt_enc_sim_impt_x2   0.885265       0.885265\n",
       "3         model_family            unit_cost   0.858565       0.858565\n",
       "4                  sku            unit_cost   0.856862       0.856862\n",
       "5  tgt_enc_sim_impt_x2            unit_cost   0.824691       0.824691\n",
       "6          memory_size         model_family   0.636147       0.636147"
      ]
     },
     "execution_count": 60,
     "metadata": {},
     "output_type": "execute_result"
    }
   ],
   "source": [
    "# channel and source_channel highly correlated. So discarding source_channel\n",
    "# brand and manufacturer are almost same so discarding manufacturer.\n",
    "# Similarly keeping sku between inventory and sku\n",
    "# Similarly keeping condition between conditions and ext_grade\n",
    "# Similarly keeping model_family between platforms, ext_model_family and model_family\n",
    "# Discarding selling price & selling cost as they are multiples of unit price/cost & quantity.\n",
    "# Discarding gp as it is the of selling price and selling cost\n",
    "# order_no, line, invoice_no & customername cannot be IDVs\n",
    "curated_columns = list(\n",
    "    set(train_X.columns.to_list()) \n",
    "    - set(['manufacturer', 'inventory_id', 'ext_grade', 'source_channel',\n",
    "           'tgt_enc_iter_impt_platforms', 'ext_model_family',\n",
    "           'order_no', 'line', 'inventory_id',\n",
    "           'gp', 'selling_price', 'selling_cost','invoice_no','customername'])\n",
    ")\n",
    "\n",
    "train_X = train_X[curated_columns]\n",
    "\n",
    "out = eda.get_correlation_table(train_X)\n",
    "out[out[\"Abs Corr Coef\"] > 0.6]"
   ]
  },
  {
   "cell_type": "code",
   "execution_count": 61,
   "metadata": {},
   "outputs": [
    {
     "data": {},
     "metadata": {},
     "output_type": "display_data"
    },
    {
     "data": {
      "application/vnd.holoviews_exec.v0+json": "",
      "text/html": [
       "<div id='112441'>\n",
       "  <div class=\"bk-root\" id=\"09c6437d-e646-4ea3-a37c-6251fa90ea11\" data-root-id=\"112441\"></div>\n",
       "</div>\n",
       "<script type=\"application/javascript\">(function(root) {\n",
       "  function embed_document(root) {\n",
       "    var docs_json = {\"b33c9533-60dc-45e5-a519-80b225b75e0a\":{\"defs\":[{\"extends\":null,\"module\":null,\"name\":\"ReactiveHTML1\",\"overrides\":[],\"properties\":[]},{\"extends\":null,\"module\":null,\"name\":\"FlexBox1\",\"overrides\":[],\"properties\":[{\"default\":\"flex-start\",\"kind\":null,\"name\":\"align_content\"},{\"default\":\"flex-start\",\"kind\":null,\"name\":\"align_items\"},{\"default\":\"row\",\"kind\":null,\"name\":\"flex_direction\"},{\"default\":\"wrap\",\"kind\":null,\"name\":\"flex_wrap\"},{\"default\":\"flex-start\",\"kind\":null,\"name\":\"justify_content\"}]},{\"extends\":null,\"module\":null,\"name\":\"GridStack1\",\"overrides\":[],\"properties\":[{\"default\":\"warn\",\"kind\":null,\"name\":\"mode\"},{\"default\":null,\"kind\":null,\"name\":\"ncols\"},{\"default\":null,\"kind\":null,\"name\":\"nrows\"},{\"default\":true,\"kind\":null,\"name\":\"allow_resize\"},{\"default\":true,\"kind\":null,\"name\":\"allow_drag\"},{\"default\":[],\"kind\":null,\"name\":\"state\"}]},{\"extends\":null,\"module\":null,\"name\":\"click1\",\"overrides\":[],\"properties\":[{\"default\":\"\",\"kind\":null,\"name\":\"terminal_output\"},{\"default\":\"\",\"kind\":null,\"name\":\"debug_name\"},{\"default\":0,\"kind\":null,\"name\":\"clears\"}]},{\"extends\":null,\"module\":null,\"name\":\"NotificationAreaBase1\",\"overrides\":[],\"properties\":[{\"default\":\"bottom-right\",\"kind\":null,\"name\":\"position\"},{\"default\":0,\"kind\":null,\"name\":\"_clear\"}]},{\"extends\":null,\"module\":null,\"name\":\"NotificationArea1\",\"overrides\":[],\"properties\":[{\"default\":[],\"kind\":null,\"name\":\"notifications\"},{\"default\":\"bottom-right\",\"kind\":null,\"name\":\"position\"},{\"default\":0,\"kind\":null,\"name\":\"_clear\"},{\"default\":[{\"background\":\"#ffc107\",\"icon\":{\"className\":\"fas fa-exclamation-triangle\",\"color\":\"white\",\"tagName\":\"i\"},\"type\":\"warning\"},{\"background\":\"#007bff\",\"icon\":{\"className\":\"fas fa-info-circle\",\"color\":\"white\",\"tagName\":\"i\"},\"type\":\"info\"}],\"kind\":null,\"name\":\"types\"}]},{\"extends\":null,\"module\":null,\"name\":\"Notification\",\"overrides\":[],\"properties\":[{\"default\":null,\"kind\":null,\"name\":\"background\"},{\"default\":3000,\"kind\":null,\"name\":\"duration\"},{\"default\":null,\"kind\":null,\"name\":\"icon\"},{\"default\":\"\",\"kind\":null,\"name\":\"message\"},{\"default\":null,\"kind\":null,\"name\":\"notification_type\"},{\"default\":false,\"kind\":null,\"name\":\"_destroyed\"}]},{\"extends\":null,\"module\":null,\"name\":\"TemplateActions1\",\"overrides\":[],\"properties\":[{\"default\":0,\"kind\":null,\"name\":\"open_modal\"},{\"default\":0,\"kind\":null,\"name\":\"close_modal\"}]},{\"extends\":null,\"module\":null,\"name\":\"MaterialTemplateActions1\",\"overrides\":[],\"properties\":[{\"default\":0,\"kind\":null,\"name\":\"open_modal\"},{\"default\":0,\"kind\":null,\"name\":\"close_modal\"}]}],\"roots\":{\"references\":[{\"attributes\":{},\"id\":\"112467\",\"type\":\"ResetTool\"},{\"attributes\":{},\"id\":\"112490\",\"type\":\"AllLabels\"},{\"attributes\":{\"aspect_scale\":3.963378582216073,\"fill_alpha\":{\"value\":0.2},\"fill_color\":{\"field\":\"Count\",\"transform\":{\"id\":\"112476\"}},\"hatch_alpha\":{\"value\":0.2},\"hatch_color\":{\"field\":\"Count\",\"transform\":{\"id\":\"112476\"}},\"line_alpha\":{\"value\":0.2},\"line_color\":{\"field\":\"Count\",\"transform\":{\"id\":\"112476\"}},\"q\":{\"field\":\"q\"},\"r\":{\"field\":\"r\"},\"size\":6.580370361306615},\"id\":\"112482\",\"type\":\"HexTile\"},{\"attributes\":{},\"id\":\"112489\",\"type\":\"BasicTickFormatter\"},{\"attributes\":{\"aspect_scale\":3.963378582216073,\"fill_color\":{\"field\":\"Count\",\"transform\":{\"id\":\"112476\"}},\"hatch_color\":{\"field\":\"Count\",\"transform\":{\"id\":\"112476\"}},\"line_color\":{\"field\":\"Count\",\"transform\":{\"id\":\"112476\"}},\"q\":{\"field\":\"q\"},\"r\":{\"field\":\"r\"},\"size\":6.580370361306615},\"id\":\"112480\",\"type\":\"HexTile\"},{\"attributes\":{\"below\":[{\"id\":\"112455\"}],\"center\":[{\"id\":\"112458\"},{\"id\":\"112462\"}],\"height\":300,\"left\":[{\"id\":\"112459\"}],\"margin\":[5,5,5,5],\"min_border_bottom\":10,\"min_border_left\":10,\"min_border_right\":10,\"min_border_top\":10,\"renderers\":[{\"id\":\"112483\"}],\"right\":[{\"id\":\"112486\"}],\"sizing_mode\":\"fixed\",\"title\":{\"id\":\"112447\"},\"toolbar\":{\"id\":\"112469\"},\"x_range\":{\"id\":\"112443\"},\"x_scale\":{\"id\":\"112451\"},\"y_range\":{\"id\":\"112444\"},\"y_scale\":{\"id\":\"112453\"}},\"id\":\"112446\",\"subtype\":\"Figure\",\"type\":\"Plot\"},{\"attributes\":{},\"id\":\"112492\",\"type\":\"BasicTickFormatter\"},{\"attributes\":{},\"id\":\"112485\",\"type\":\"BasicTicker\"},{\"attributes\":{\"aspect_scale\":3.963378582216073,\"fill_alpha\":{\"value\":0.1},\"fill_color\":{\"field\":\"Count\",\"transform\":{\"id\":\"112476\"}},\"hatch_alpha\":{\"value\":0.1},\"hatch_color\":{\"field\":\"Count\",\"transform\":{\"id\":\"112476\"}},\"line_alpha\":{\"value\":0.1},\"line_color\":{\"field\":\"Count\",\"transform\":{\"id\":\"112476\"}},\"q\":{\"field\":\"q\"},\"r\":{\"field\":\"r\"},\"size\":6.580370361306615},\"id\":\"112481\",\"type\":\"HexTile\"},{\"attributes\":{},\"id\":\"112456\",\"type\":\"BasicTicker\"},{\"attributes\":{},\"id\":\"112498\",\"type\":\"NoOverlap\"},{\"attributes\":{\"axis_label\":\"color\",\"coordinates\":null,\"formatter\":{\"id\":\"112492\"},\"group\":null,\"major_label_policy\":{\"id\":\"112493\"},\"ticker\":{\"id\":\"112460\"}},\"id\":\"112459\",\"type\":\"LinearAxis\"},{\"attributes\":{\"margin\":[5,5,5,5],\"name\":\"HSpacer261874\",\"sizing_mode\":\"stretch_width\"},\"id\":\"112442\",\"type\":\"Spacer\"},{\"attributes\":{\"coordinates\":null,\"data_source\":{\"id\":\"112477\"},\"glyph\":{\"id\":\"112480\"},\"group\":null,\"hover_glyph\":null,\"muted_glyph\":{\"id\":\"112482\"},\"nonselection_glyph\":{\"id\":\"112481\"},\"selection_glyph\":{\"id\":\"112487\"},\"view\":{\"id\":\"112484\"}},\"id\":\"112483\",\"type\":\"GlyphRenderer\"},{\"attributes\":{\"bottom_units\":\"screen\",\"coordinates\":null,\"fill_alpha\":0.5,\"fill_color\":\"lightgrey\",\"group\":null,\"left_units\":\"screen\",\"level\":\"overlay\",\"line_alpha\":1.0,\"line_color\":\"black\",\"line_dash\":[4,4],\"line_width\":2,\"right_units\":\"screen\",\"syncable\":false,\"top_units\":\"screen\"},\"id\":\"112468\",\"type\":\"BoxAnnotation\"},{\"attributes\":{\"axis\":{\"id\":\"112455\"},\"coordinates\":null,\"grid_line_color\":null,\"group\":null,\"ticker\":null},\"id\":\"112458\",\"type\":\"Grid\"},{\"attributes\":{\"end\":138.12816902184844,\"reset_end\":138.12816902184844,\"reset_start\":13.606181818181817,\"start\":13.606181818181817,\"tags\":[[[\"brand\",\"brand\",null]]]},\"id\":\"112443\",\"type\":\"Range1d\"},{\"attributes\":{\"source\":{\"id\":\"112477\"}},\"id\":\"112484\",\"type\":\"CDSView\"},{\"attributes\":{\"margin\":[5,5,5,5],\"name\":\"HSpacer261875\",\"sizing_mode\":\"stretch_width\"},\"id\":\"112505\",\"type\":\"Spacer\"},{\"attributes\":{},\"id\":\"112453\",\"type\":\"LinearScale\"},{\"attributes\":{\"axis_label\":\"brand\",\"coordinates\":null,\"formatter\":{\"id\":\"112489\"},\"group\":null,\"major_label_policy\":{\"id\":\"112490\"},\"ticker\":{\"id\":\"112456\"}},\"id\":\"112455\",\"type\":\"LinearAxis\"},{\"attributes\":{},\"id\":\"112502\",\"type\":\"UnionRenderers\"},{\"attributes\":{},\"id\":\"112451\",\"type\":\"LinearScale\"},{\"attributes\":{\"tools\":[{\"id\":\"112445\"},{\"id\":\"112463\"},{\"id\":\"112464\"},{\"id\":\"112465\"},{\"id\":\"112466\"},{\"id\":\"112467\"}]},\"id\":\"112469\",\"type\":\"Toolbar\"},{\"attributes\":{},\"id\":\"112464\",\"type\":\"PanTool\"},{\"attributes\":{\"children\":[{\"id\":\"112442\"},{\"id\":\"112446\"},{\"id\":\"112505\"}],\"margin\":[0,0,0,0],\"name\":\"Row261870\",\"tags\":[\"embedded\"]},\"id\":\"112441\",\"type\":\"Row\"},{\"attributes\":{\"callback\":null,\"renderers\":[{\"id\":\"112483\"}],\"tags\":[\"hv_created\"],\"tooltips\":[[\"Count\",\"@{Count}\"]]},\"id\":\"112445\",\"type\":\"HoverTool\"},{\"attributes\":{\"high\":46541,\"low\":1,\"palette\":[\"#b3fef5\",\"#b0fef5\",\"#adfdf5\",\"#a9fcf5\",\"#a6fbf6\",\"#a3faf6\",\"#a0faf6\",\"#9df9f6\",\"#9af8f6\",\"#97f7f6\",\"#93f7f6\",\"#90f6f6\",\"#8df5f6\",\"#8af4f7\",\"#87f3f7\",\"#83f2f7\",\"#80f2f7\",\"#7df1f7\",\"#79f0f7\",\"#76eff7\",\"#73eef7\",\"#6fedf8\",\"#6cecf8\",\"#68ecf8\",\"#65ebf8\",\"#61eaf8\",\"#5ee9f8\",\"#5ae8f8\",\"#57e7f8\",\"#53e6f8\",\"#50e5f9\",\"#4ce4f9\",\"#49e3f9\",\"#45e2f9\",\"#42e1f9\",\"#3ee0f9\",\"#3bdff9\",\"#38def9\",\"#35ddf9\",\"#32dcf9\",\"#30dbfa\",\"#2ed9fa\",\"#2dd8fa\",\"#2cd7fa\",\"#2bd6fa\",\"#2bd5fa\",\"#2ad3fa\",\"#2ad2fa\",\"#29d1fa\",\"#29d0fb\",\"#29cffb\",\"#28cdfb\",\"#28ccfb\",\"#28cbfb\",\"#28cafb\",\"#28c8fb\",\"#28c7fb\",\"#29c6fb\",\"#29c5fb\",\"#29c4fb\",\"#29c2fb\",\"#2ac1fb\",\"#2ac0fb\",\"#2bbffb\",\"#2bbdfc\",\"#2cbcfc\",\"#2dbbfc\",\"#2db9fc\",\"#2eb8fc\",\"#2fb7fc\",\"#2fb6fc\",\"#30b4fc\",\"#31b3fc\",\"#32b2fc\",\"#32b0fc\",\"#33affc\",\"#33aefc\",\"#34adfc\",\"#34abfc\",\"#34aafc\",\"#35a9fc\",\"#35a8fc\",\"#35a6fc\",\"#35a5fc\",\"#35a4fc\",\"#35a3fc\",\"#35a1fc\",\"#35a0fc\",\"#359ffc\",\"#359dfc\",\"#359cfc\",\"#359bfc\",\"#349afd\",\"#3498fd\",\"#3497fd\",\"#3396fd\",\"#3395fd\",\"#3293fd\",\"#3292fd\",\"#3191fd\",\"#3090fd\",\"#308ffd\",\"#2f8dfd\",\"#2f8cfd\",\"#2e8bfd\",\"#2e8afd\",\"#2d88fd\",\"#2d87fd\",\"#2c86fd\",\"#2c84fd\",\"#2c83fd\",\"#2c82fd\",\"#2b81fd\",\"#2b7ffd\",\"#2b7efd\",\"#2b7dfd\",\"#2b7bfd\",\"#2b7afd\",\"#2b79fd\",\"#2b77fd\",\"#2b76fd\",\"#2b75fd\",\"#2b73fd\",\"#2c72fd\",\"#2c71fd\",\"#2c6ffd\",\"#2c6efd\",\"#2d6cfd\",\"#2d6bfd\",\"#2d6afc\",\"#2e68fc\",\"#2e67fc\",\"#2e65fc\",\"#2e64fc\",\"#2f62fc\",\"#2f61fc\",\"#2f5ffc\",\"#2f5efc\",\"#2f5dfc\",\"#2f5bfc\",\"#2f5afc\",\"#2f58fb\",\"#2f57fb\",\"#2f55fb\",\"#2f53fb\",\"#2f52fb\",\"#2f50fb\",\"#2f4ffb\",\"#2f4dfb\",\"#2e4cfb\",\"#2e4afb\",\"#2e48fb\",\"#2e47fa\",\"#2d45fa\",\"#2d43fa\",\"#2d42fa\",\"#2d40fa\",\"#2c3efa\",\"#2c3dfa\",\"#2b3bf9\",\"#2b39f9\",\"#2a37f9\",\"#2a36f8\",\"#2934f8\",\"#2832f7\",\"#2831f7\",\"#272ff6\",\"#262ef5\",\"#252cf5\",\"#252af4\",\"#2429f3\",\"#2327f2\",\"#2226f1\",\"#2124f0\",\"#2023ef\",\"#1f22ee\",\"#1e20ed\",\"#1d1feb\",\"#1c1eea\",\"#1b1ce9\",\"#1a1be7\",\"#181ae6\",\"#1719e5\",\"#1618e3\",\"#1417e1\",\"#1316e0\",\"#1215de\",\"#1014dc\",\"#0f13db\",\"#0e12d9\",\"#0d11d7\",\"#0c10d5\",\"#0b0fd3\",\"#0a0ed1\",\"#090dd0\",\"#080dce\",\"#080ccc\",\"#070bca\",\"#070ac8\",\"#0709c6\",\"#0708c4\",\"#0707c2\",\"#0707bf\",\"#0806bd\",\"#0806bb\",\"#0905b9\",\"#0904b7\",\"#0a04b5\",\"#0a04b2\",\"#0b03b0\",\"#0c03ae\",\"#0d02ab\",\"#0e02a9\",\"#0e02a7\",\"#0f02a4\",\"#0f01a2\",\"#1001a0\",\"#10019d\",\"#10019b\",\"#100199\",\"#100197\",\"#100194\",\"#0f0192\",\"#0f0190\",\"#0f018e\",\"#0e018b\",\"#0e0189\",\"#0d0187\",\"#0d0185\",\"#0c0183\",\"#0b0181\",\"#0b017e\",\"#0a017c\",\"#09017a\",\"#090178\",\"#080276\",\"#070274\",\"#060272\",\"#060270\",\"#05026e\",\"#04026c\",\"#030269\",\"#030267\",\"#020265\",\"#010263\",\"#010261\",\"#00025f\",\"#00025d\",\"#00025b\",\"#000259\",\"#000257\",\"#000255\",\"#000154\",\"#000152\",\"#000150\",\"#00004e\"]},\"id\":\"112476\",\"type\":\"LinearColorMapper\"},{\"attributes\":{},\"id\":\"112460\",\"type\":\"BasicTicker\"},{\"attributes\":{\"data\":{\"Count\":[46541,23566,8479,17548,28115,2557,532,391,1680,1647,1016,665,60,375,2096,719,352,742,257,867,45,111,83,412,117,236,20,1,162,7,90,26,19,73,36,20,15,27,29,2,1,1,12,6,2,15,12,2,10,8,1,2,3,2,2,7,1,3,3,1,3,2,1,3,2,3,1,1,1],\"q\":[55,56,51,53,56,63,11,33,35,54,53,37,10,34,58,50,7,52,52,54,25,24,33,26,41,13,41,50,32,7,31,34,9,28,57,12,10,74,74,18,16,19,31,13,20,24,14,11,14,12,7,23,38,8,14,9,23,6,8,15,19,12,10,44,15,37,13,22,10],\"r\":[-14,-16,-6,-10,-15,-29,-10,-6,-11,-12,-9,-15,-11,-8,-20,-3,-2,-8,-7,-11,-8,-6,-7,-11,-22,-15,-23,-4,-5,-3,-2,-9,-8,-15,-18,-12,-8,-52,-51,-15,-10,-8,-3,-14,-29,-7,-16,-11,-15,-15,-4,-11,-16,-6,-6,-6,-15,-3,-3,-8,-16,-3,-10,-29,-20,-14,-16,-3,-9]},\"selected\":{\"id\":\"112478\"},\"selection_policy\":{\"id\":\"112502\"}},\"id\":\"112477\",\"type\":\"ColumnDataSource\"},{\"attributes\":{\"bar_line_color\":\"black\",\"color_mapper\":{\"id\":\"112476\"},\"coordinates\":null,\"group\":null,\"label_standoff\":8,\"location\":[0,0],\"major_label_policy\":{\"id\":\"112498\"},\"major_tick_line_color\":\"black\",\"ticker\":{\"id\":\"112485\"}},\"id\":\"112486\",\"type\":\"ColorBar\"},{\"attributes\":{\"axis\":{\"id\":\"112459\"},\"coordinates\":null,\"dimension\":1,\"grid_line_color\":null,\"group\":null,\"ticker\":null},\"id\":\"112462\",\"type\":\"Grid\"},{\"attributes\":{\"end\":557.130555485674,\"reset_end\":557.130555485674,\"reset_start\":-35.10277703192141,\"start\":-35.10277703192141,\"tags\":[[[\"color\",\"color\",null]]]},\"id\":\"112444\",\"type\":\"Range1d\"},{\"attributes\":{\"coordinates\":null,\"group\":null,\"text\":\"Correlation: 0.198\",\"text_color\":\"black\",\"text_font_size\":\"12pt\"},\"id\":\"112447\",\"type\":\"Title\"},{\"attributes\":{},\"id\":\"112463\",\"type\":\"SaveTool\"},{\"attributes\":{\"aspect_scale\":3.963378582216073,\"fill_alpha\":{\"value\":1.0},\"fill_color\":{\"field\":\"Count\",\"transform\":{\"id\":\"112476\"}},\"hatch_alpha\":{\"value\":1.0},\"hatch_color\":{\"field\":\"Count\",\"transform\":{\"id\":\"112476\"}},\"hatch_scale\":{\"value\":12.0},\"hatch_weight\":{\"value\":1.0},\"line_alpha\":{\"value\":1.0},\"line_cap\":{\"value\":\"butt\"},\"line_color\":{\"field\":\"Count\",\"transform\":{\"id\":\"112476\"}},\"line_dash\":{\"value\":[]},\"line_dash_offset\":{\"value\":0},\"line_join\":{\"value\":\"bevel\"},\"line_width\":{\"value\":1},\"q\":{\"field\":\"q\"},\"r\":{\"field\":\"r\"},\"scale\":{\"value\":1.0},\"size\":6.580370361306615},\"id\":\"112487\",\"type\":\"HexTile\"},{\"attributes\":{},\"id\":\"112465\",\"type\":\"WheelZoomTool\"},{\"attributes\":{\"overlay\":{\"id\":\"112468\"}},\"id\":\"112466\",\"type\":\"BoxZoomTool\"},{\"attributes\":{},\"id\":\"112493\",\"type\":\"AllLabels\"},{\"attributes\":{},\"id\":\"112478\",\"type\":\"Selection\"}],\"root_ids\":[\"112441\"]},\"title\":\"Bokeh Application\",\"version\":\"2.4.3\"}};\n",
       "    var render_items = [{\"docid\":\"b33c9533-60dc-45e5-a519-80b225b75e0a\",\"root_ids\":[\"112441\"],\"roots\":{\"112441\":\"09c6437d-e646-4ea3-a37c-6251fa90ea11\"}}];\n",
       "    root.Bokeh.embed.embed_items_notebook(docs_json, render_items);\n",
       "  }\n",
       "  if (root.Bokeh !== undefined && root.Bokeh.Panel !== undefined) {\n",
       "    embed_document(root);\n",
       "  } else {\n",
       "    var attempts = 0;\n",
       "    var timer = setInterval(function(root) {\n",
       "      if (root.Bokeh !== undefined && root.Bokeh.Panel !== undefined) {\n",
       "        clearInterval(timer);\n",
       "        embed_document(root);\n",
       "      } else if (document.readyState == \"complete\") {\n",
       "        attempts++;\n",
       "        if (attempts > 200) {\n",
       "          clearInterval(timer);\n",
       "          console.log(\"Bokeh: ERROR: Unable to run BokehJS code because BokehJS library is missing\");\n",
       "        }\n",
       "      }\n",
       "    }, 25, root)\n",
       "  }\n",
       "})(window);</script>"
      ],
      "text/plain": [
       ":HexTiles   [brand,color]"
      ]
     },
     "execution_count": 61,
     "metadata": {
      "application/vnd.holoviews_exec.v0+json": {
       "id": "112441"
      }
     },
     "output_type": "execute_result"
    }
   ],
   "source": [
    "out = eda.get_bivariate_plots(train_X, x_cols=['brand'], y_cols=['color'])\n",
    "out"
   ]
  },
  {
   "cell_type": "code",
   "execution_count": 62,
   "metadata": {},
   "outputs": [
    {
     "name": "stdout",
     "output_type": "stream",
     "text": [
      "CPU times: user 22.2 s, sys: 406 ms, total: 22.6 s\n",
      "Wall time: 36.9 s\n"
     ]
    }
   ],
   "source": [
    "%%time\n",
    "# create reports as needed\n",
    "cols = train_X.columns.to_list()\n",
    "all_plots = {}\n",
    "for ii, col1 in enumerate(cols): \n",
    "    for jj in range(ii+1, len(cols)):\n",
    "        col2 = cols[jj]\n",
    "        out = eda.get_bivariate_plots(train_X, x_cols=[col1], y_cols=[col2])\n",
    "        all_plots.update({f'{col2} vs {col1}': out})\n",
    "\n",
    "reports.create_report(all_plots, name='feature_analysis_bivariate')"
   ]
  },
  {
   "cell_type": "markdown",
   "metadata": {},
   "source": [
    "A report containing the bivariate plot is available [here](https://drive.google.com/file/d/1WSGT3586tY-rOmZ57xGILbmL5ll9cSVT/view?usp=sharing)\n",
    "\n",
    "Alternatively, the above plots can be generated as a single html as below. The output from this is available [here](https://drive.google.com/file/d/1A2fz_bjYv8I3iaFDT75JQSDKeJEXxCtp/view?usp=sharing)"
   ]
  },
  {
   "cell_type": "code",
   "execution_count": 63,
   "metadata": {},
   "outputs": [],
   "source": [
    "reports.feature_interactions(train_X,'./feature_interaction_report.html')"
   ]
  },
  {
   "cell_type": "markdown",
   "metadata": {},
   "source": [
    "### 3.2.3 Key Drivers - Interaction with Target variable"
   ]
  },
  {
   "cell_type": "code",
   "execution_count": 64,
   "metadata": {},
   "outputs": [
    {
     "data": {},
     "metadata": {},
     "output_type": "display_data"
    },
    {
     "data": {},
     "metadata": {},
     "output_type": "display_data"
    },
    {
     "data": {
      "application/vnd.holoviews_exec.v0+json": "",
      "text/html": [
       "<div id='134635'>\n",
       "  <div class=\"bk-root\" id=\"ca19f5ff-1686-4d20-bc35-135f4d7e0508\" data-root-id=\"134635\"></div>\n",
       "</div>\n",
       "<script type=\"application/javascript\">(function(root) {\n",
       "  function embed_document(root) {\n",
       "    var docs_json = {\"aa2ab7d9-dd47-4fca-ab62-52ba63f6315d\":{\"defs\":[{\"extends\":null,\"module\":null,\"name\":\"ReactiveHTML1\",\"overrides\":[],\"properties\":[]},{\"extends\":null,\"module\":null,\"name\":\"FlexBox1\",\"overrides\":[],\"properties\":[{\"default\":\"flex-start\",\"kind\":null,\"name\":\"align_content\"},{\"default\":\"flex-start\",\"kind\":null,\"name\":\"align_items\"},{\"default\":\"row\",\"kind\":null,\"name\":\"flex_direction\"},{\"default\":\"wrap\",\"kind\":null,\"name\":\"flex_wrap\"},{\"default\":\"flex-start\",\"kind\":null,\"name\":\"justify_content\"}]},{\"extends\":null,\"module\":null,\"name\":\"GridStack1\",\"overrides\":[],\"properties\":[{\"default\":\"warn\",\"kind\":null,\"name\":\"mode\"},{\"default\":null,\"kind\":null,\"name\":\"ncols\"},{\"default\":null,\"kind\":null,\"name\":\"nrows\"},{\"default\":true,\"kind\":null,\"name\":\"allow_resize\"},{\"default\":true,\"kind\":null,\"name\":\"allow_drag\"},{\"default\":[],\"kind\":null,\"name\":\"state\"}]},{\"extends\":null,\"module\":null,\"name\":\"click1\",\"overrides\":[],\"properties\":[{\"default\":\"\",\"kind\":null,\"name\":\"terminal_output\"},{\"default\":\"\",\"kind\":null,\"name\":\"debug_name\"},{\"default\":0,\"kind\":null,\"name\":\"clears\"}]},{\"extends\":null,\"module\":null,\"name\":\"NotificationAreaBase1\",\"overrides\":[],\"properties\":[{\"default\":\"bottom-right\",\"kind\":null,\"name\":\"position\"},{\"default\":0,\"kind\":null,\"name\":\"_clear\"}]},{\"extends\":null,\"module\":null,\"name\":\"NotificationArea1\",\"overrides\":[],\"properties\":[{\"default\":[],\"kind\":null,\"name\":\"notifications\"},{\"default\":\"bottom-right\",\"kind\":null,\"name\":\"position\"},{\"default\":0,\"kind\":null,\"name\":\"_clear\"},{\"default\":[{\"background\":\"#ffc107\",\"icon\":{\"className\":\"fas fa-exclamation-triangle\",\"color\":\"white\",\"tagName\":\"i\"},\"type\":\"warning\"},{\"background\":\"#007bff\",\"icon\":{\"className\":\"fas fa-info-circle\",\"color\":\"white\",\"tagName\":\"i\"},\"type\":\"info\"}],\"kind\":null,\"name\":\"types\"}]},{\"extends\":null,\"module\":null,\"name\":\"Notification\",\"overrides\":[],\"properties\":[{\"default\":null,\"kind\":null,\"name\":\"background\"},{\"default\":3000,\"kind\":null,\"name\":\"duration\"},{\"default\":null,\"kind\":null,\"name\":\"icon\"},{\"default\":\"\",\"kind\":null,\"name\":\"message\"},{\"default\":null,\"kind\":null,\"name\":\"notification_type\"},{\"default\":false,\"kind\":null,\"name\":\"_destroyed\"}]},{\"extends\":null,\"module\":null,\"name\":\"TemplateActions1\",\"overrides\":[],\"properties\":[{\"default\":0,\"kind\":null,\"name\":\"open_modal\"},{\"default\":0,\"kind\":null,\"name\":\"close_modal\"}]},{\"extends\":null,\"module\":null,\"name\":\"MaterialTemplateActions1\",\"overrides\":[],\"properties\":[{\"default\":0,\"kind\":null,\"name\":\"open_modal\"},{\"default\":0,\"kind\":null,\"name\":\"close_modal\"}]}],\"roots\":{\"references\":[{\"attributes\":{},\"id\":\"134678\",\"type\":\"BasicTickFormatter\"},{\"attributes\":{\"fill_color\":{\"value\":\"#30a2da\"},\"hatch_color\":{\"value\":\"#30a2da\"},\"height\":{\"value\":0.8},\"right\":{\"field\":\"Pearson_correlation_with_Target\"},\"y\":{\"field\":\"index\"}},\"id\":\"134671\",\"type\":\"HBar\"},{\"attributes\":{},\"id\":\"134646\",\"type\":\"CategoricalScale\"},{\"attributes\":{\"fill_alpha\":{\"value\":0.2},\"fill_color\":{\"value\":\"#30a2da\"},\"hatch_alpha\":{\"value\":0.2},\"hatch_color\":{\"value\":\"#30a2da\"},\"height\":{\"value\":0.8},\"line_alpha\":{\"value\":0.2},\"right\":{\"field\":\"Pearson_correlation_with_Target\"},\"y\":{\"field\":\"index\"}},\"id\":\"134673\",\"type\":\"HBar\"},{\"attributes\":{},\"id\":\"134657\",\"type\":\"WheelZoomTool\"},{\"attributes\":{},\"id\":\"134679\",\"type\":\"AllLabels\"},{\"attributes\":{\"coordinates\":null,\"group\":null,\"text\":\"Feature Correlation with Target Function\",\"text_color\":\"black\",\"text_font_size\":\"12pt\"},\"id\":\"134640\",\"type\":\"Title\"},{\"attributes\":{\"bottom_units\":\"screen\",\"coordinates\":null,\"fill_alpha\":0.5,\"fill_color\":\"lightgrey\",\"group\":null,\"left_units\":\"screen\",\"level\":\"overlay\",\"line_alpha\":1.0,\"line_color\":\"black\",\"line_dash\":[4,4],\"line_width\":2,\"right_units\":\"screen\",\"syncable\":false,\"top_units\":\"screen\"},\"id\":\"134660\",\"type\":\"BoxAnnotation\"},{\"attributes\":{\"axis_label\":\"Pearson_correlation_with_Target\",\"coordinates\":null,\"formatter\":{\"id\":\"134678\"},\"group\":null,\"major_label_policy\":{\"id\":\"134679\"},\"ticker\":{\"id\":\"134649\"}},\"id\":\"134648\",\"type\":\"LinearAxis\"},{\"attributes\":{},\"id\":\"134653\",\"type\":\"CategoricalTicker\"},{\"attributes\":{\"fill_alpha\":{\"value\":1.0},\"fill_color\":{\"value\":\"#30a2da\"},\"hatch_alpha\":{\"value\":1.0},\"hatch_color\":{\"value\":\"#30a2da\"},\"hatch_scale\":{\"value\":12.0},\"hatch_weight\":{\"value\":1.0},\"height\":{\"value\":0.8},\"left\":{\"value\":0},\"line_alpha\":{\"value\":1.0},\"line_cap\":{\"value\":\"butt\"},\"line_color\":{\"value\":\"black\"},\"line_dash\":{\"value\":[]},\"line_dash_offset\":{\"value\":0},\"line_join\":{\"value\":\"bevel\"},\"line_width\":{\"value\":1},\"right\":{\"field\":\"Pearson_correlation_with_Target\"},\"y\":{\"field\":\"index\"}},\"id\":\"134676\",\"type\":\"HBar\"},{\"attributes\":{},\"id\":\"134681\",\"type\":\"CategoricalTickFormatter\"},{\"attributes\":{\"axis_label\":\"\",\"coordinates\":null,\"formatter\":{\"id\":\"134681\"},\"group\":null,\"major_label_policy\":{\"id\":\"134682\"},\"ticker\":{\"id\":\"134653\"}},\"id\":\"134652\",\"type\":\"CategoricalAxis\"},{\"attributes\":{\"data\":{\"Pearson_correlation_with_Target\":{\"__ndarray__\":\"fMra87vNuL+kZ7ZpU9KPP6WHFrt4jq4//i7LKxwcsj9vmoh1DiK4P6iK8flF+r8/8QFQ5ktbwT8KjH5aS1zBP2QwVT2MF8Q/4aEnOEJnzj/58SMIY2rQPx8Cg7F2wNQ/K2d/3p9f1j8NEdA1Z+/ZP2ykSDTcUOM/Pt6MIqAA7D+30kuRMaTsP5TyyjRAA+4/Jirhv4E17j8=\",\"dtype\":\"float64\",\"order\":\"little\",\"shape\":[19]},\"index\":[\"business_unit\",\"lock_status\",\"days_since_last_purchase\",\"first_time_customer\",\"order_type\",\"carrier\",\"brand\",\"quantity\",\"tgt_enc_sim_impt_x1\",\"tgt_enc_sim_impt_x0\",\"sales_person\",\"color\",\"channel\",\"condition\",\"memory_size\",\"unit_cost\",\"tgt_enc_sim_impt_x2\",\"model_family\",\"sku\"]},\"selected\":{\"id\":\"134669\"},\"selection_policy\":{\"id\":\"134690\"}},\"id\":\"134668\",\"type\":\"ColumnDataSource\"},{\"attributes\":{\"overlay\":{\"id\":\"134660\"}},\"id\":\"134658\",\"type\":\"BoxZoomTool\"},{\"attributes\":{},\"id\":\"134656\",\"type\":\"PanTool\"},{\"attributes\":{},\"id\":\"134682\",\"type\":\"AllLabels\"},{\"attributes\":{\"axis\":{\"id\":\"134648\"},\"coordinates\":null,\"grid_line_color\":null,\"group\":null,\"ticker\":null},\"id\":\"134651\",\"type\":\"Grid\"},{\"attributes\":{\"coordinates\":null,\"data_source\":{\"id\":\"134668\"},\"glyph\":{\"id\":\"134671\"},\"group\":null,\"hover_glyph\":null,\"muted_glyph\":{\"id\":\"134673\"},\"nonselection_glyph\":{\"id\":\"134672\"},\"selection_glyph\":{\"id\":\"134676\"},\"view\":{\"id\":\"134675\"}},\"id\":\"134674\",\"type\":\"GlyphRenderer\"},{\"attributes\":{\"client_comm_id\":\"b182af95c1134ce98ba721cc19f3d73a\",\"comm_id\":\"e8a072c8de2d4159bf03ca66bfb8cf0a\",\"plot_id\":\"134635\"},\"id\":\"134724\",\"type\":\"panel.models.comm_manager.CommManager\"},{\"attributes\":{\"factors\":[\"business_unit\",\"lock_status\",\"days_since_last_purchase\",\"first_time_customer\",\"order_type\",\"carrier\",\"brand\",\"quantity\",\"tgt_enc_sim_impt_x1\",\"tgt_enc_sim_impt_x0\",\"sales_person\",\"color\",\"channel\",\"condition\",\"memory_size\",\"unit_cost\",\"tgt_enc_sim_impt_x2\",\"model_family\",\"sku\"],\"tags\":[[[\"index\",\"index\",null]]]},\"id\":\"134637\",\"type\":\"FactorRange\"},{\"attributes\":{\"child\":{\"id\":\"134639\"},\"name\":\"feature_correlation\",\"title\":\"feature_correlation\"},\"id\":\"134693\",\"type\":\"Panel\"},{\"attributes\":{},\"id\":\"134644\",\"type\":\"LinearScale\"},{\"attributes\":{\"margin\":[0,0,0,0],\"tabs\":[{\"id\":\"134693\"}]},\"id\":\"134635\",\"type\":\"panel.models.tabs.Tabs\"},{\"attributes\":{\"source\":{\"id\":\"134668\"}},\"id\":\"134675\",\"type\":\"CDSView\"},{\"attributes\":{},\"id\":\"134659\",\"type\":\"ResetTool\"},{\"attributes\":{\"below\":[{\"id\":\"134648\"}],\"center\":[{\"id\":\"134651\"},{\"id\":\"134654\"}],\"height\":300,\"left\":[{\"id\":\"134652\"}],\"margin\":[5,5,5,5],\"min_border_bottom\":10,\"min_border_left\":10,\"min_border_right\":10,\"min_border_top\":10,\"renderers\":[{\"id\":\"134674\"}],\"sizing_mode\":\"fixed\",\"title\":{\"id\":\"134640\"},\"toolbar\":{\"id\":\"134661\"},\"width\":700,\"x_range\":{\"id\":\"134636\"},\"x_scale\":{\"id\":\"134644\"},\"y_range\":{\"id\":\"134637\"},\"y_scale\":{\"id\":\"134646\"}},\"id\":\"134639\",\"subtype\":\"Figure\",\"type\":\"Plot\"},{\"attributes\":{\"end\":1.0481236810156842,\"reset_end\":1.0481236810156842,\"reset_start\":-0.20098133965948525,\"start\":-0.20098133965948525,\"tags\":[[[\"Pearson_correlation_with_Target\",\"Pearson_correlation_with_Target\",null]]]},\"id\":\"134636\",\"type\":\"Range1d\"},{\"attributes\":{},\"id\":\"134690\",\"type\":\"UnionRenderers\"},{\"attributes\":{},\"id\":\"134669\",\"type\":\"Selection\"},{\"attributes\":{\"fill_alpha\":{\"value\":0.1},\"fill_color\":{\"value\":\"#30a2da\"},\"hatch_alpha\":{\"value\":0.1},\"hatch_color\":{\"value\":\"#30a2da\"},\"height\":{\"value\":0.8},\"line_alpha\":{\"value\":0.1},\"right\":{\"field\":\"Pearson_correlation_with_Target\"},\"y\":{\"field\":\"index\"}},\"id\":\"134672\",\"type\":\"HBar\"},{\"attributes\":{\"tools\":[{\"id\":\"134638\"},{\"id\":\"134655\"},{\"id\":\"134656\"},{\"id\":\"134657\"},{\"id\":\"134658\"},{\"id\":\"134659\"}]},\"id\":\"134661\",\"type\":\"Toolbar\"},{\"attributes\":{\"axis\":{\"id\":\"134652\"},\"coordinates\":null,\"dimension\":1,\"grid_line_color\":null,\"group\":null,\"ticker\":null},\"id\":\"134654\",\"type\":\"Grid\"},{\"attributes\":{\"callback\":null,\"renderers\":[{\"id\":\"134674\"}],\"tags\":[\"hv_created\"],\"tooltips\":[[\"index\",\"@{index}\"],[\"Pearson_correlation_with_Target\",\"@{Pearson_correlation_with_Target}\"]]},\"id\":\"134638\",\"type\":\"HoverTool\"},{\"attributes\":{},\"id\":\"134655\",\"type\":\"SaveTool\"},{\"attributes\":{},\"id\":\"134649\",\"type\":\"BasicTicker\"}],\"root_ids\":[\"134635\",\"134724\"]},\"title\":\"Bokeh Application\",\"version\":\"2.4.3\"}};\n",
       "    var render_items = [{\"docid\":\"aa2ab7d9-dd47-4fca-ab62-52ba63f6315d\",\"root_ids\":[\"134635\"],\"roots\":{\"134635\":\"ca19f5ff-1686-4d20-bc35-135f4d7e0508\"}}];\n",
       "    root.Bokeh.embed.embed_items_notebook(docs_json, render_items);\n",
       "  }\n",
       "  if (root.Bokeh !== undefined && root.Bokeh.Panel !== undefined) {\n",
       "    embed_document(root);\n",
       "  } else {\n",
       "    var attempts = 0;\n",
       "    var timer = setInterval(function(root) {\n",
       "      if (root.Bokeh !== undefined && root.Bokeh.Panel !== undefined) {\n",
       "        clearInterval(timer);\n",
       "        embed_document(root);\n",
       "      } else if (document.readyState == \"complete\") {\n",
       "        attempts++;\n",
       "        if (attempts > 200) {\n",
       "          clearInterval(timer);\n",
       "          console.log(\"Bokeh: ERROR: Unable to run BokehJS code because BokehJS library is missing\");\n",
       "        }\n",
       "      }\n",
       "    }, 25, root)\n",
       "  }\n",
       "})(window);</script>"
      ],
      "text/plain": [
       "Tabs\n",
       "    [0] HoloViews(Bars, name='feature_correlation')"
      ]
     },
     "execution_count": 64,
     "metadata": {
      "application/vnd.holoviews_exec.v0+json": {
       "id": "134635"
      }
     },
     "output_type": "execute_result"
    }
   ],
   "source": [
    "out = eda.get_target_correlation(train_X, train_y, y_continuous=True)\n",
    "display_as_tabs([(k, v) for k,v in out.items()])"
   ]
  },
  {
   "cell_type": "code",
   "execution_count": 65,
   "metadata": {},
   "outputs": [
    {
     "data": {
      "text/plain": [
       "0         170.0\n",
       "1          55.0\n",
       "2         110.0\n",
       "3          88.0\n",
       "4          51.0\n",
       "          ...  \n",
       "139842    160.0\n",
       "139843    130.0\n",
       "139844     90.0\n",
       "139845     35.0\n",
       "139846    105.0\n",
       "Name: unit_price, Length: 139847, dtype: float64"
      ]
     },
     "execution_count": 65,
     "metadata": {},
     "output_type": "execute_result"
    }
   ],
   "source": [
    "train_y['unit_price']"
   ]
  },
  {
   "cell_type": "code",
   "execution_count": 66,
   "metadata": {},
   "outputs": [
    {
     "data": {},
     "metadata": {},
     "output_type": "display_data"
    },
    {
     "data": {},
     "metadata": {},
     "output_type": "display_data"
    },
    {
     "data": {
      "application/vnd.holoviews_exec.v0+json": "",
      "text/html": [
       "<div id='134775'>\n",
       "  <div class=\"bk-root\" id=\"7a1dc889-95d7-4440-95db-e4e106334fbe\" data-root-id=\"134775\"></div>\n",
       "</div>\n",
       "<script type=\"application/javascript\">(function(root) {\n",
       "  function embed_document(root) {\n",
       "    var docs_json = {\"df14d827-9c64-4f02-ac81-b201ff5aae66\":{\"defs\":[{\"extends\":null,\"module\":null,\"name\":\"ReactiveHTML1\",\"overrides\":[],\"properties\":[]},{\"extends\":null,\"module\":null,\"name\":\"FlexBox1\",\"overrides\":[],\"properties\":[{\"default\":\"flex-start\",\"kind\":null,\"name\":\"align_content\"},{\"default\":\"flex-start\",\"kind\":null,\"name\":\"align_items\"},{\"default\":\"row\",\"kind\":null,\"name\":\"flex_direction\"},{\"default\":\"wrap\",\"kind\":null,\"name\":\"flex_wrap\"},{\"default\":\"flex-start\",\"kind\":null,\"name\":\"justify_content\"}]},{\"extends\":null,\"module\":null,\"name\":\"GridStack1\",\"overrides\":[],\"properties\":[{\"default\":\"warn\",\"kind\":null,\"name\":\"mode\"},{\"default\":null,\"kind\":null,\"name\":\"ncols\"},{\"default\":null,\"kind\":null,\"name\":\"nrows\"},{\"default\":true,\"kind\":null,\"name\":\"allow_resize\"},{\"default\":true,\"kind\":null,\"name\":\"allow_drag\"},{\"default\":[],\"kind\":null,\"name\":\"state\"}]},{\"extends\":null,\"module\":null,\"name\":\"click1\",\"overrides\":[],\"properties\":[{\"default\":\"\",\"kind\":null,\"name\":\"terminal_output\"},{\"default\":\"\",\"kind\":null,\"name\":\"debug_name\"},{\"default\":0,\"kind\":null,\"name\":\"clears\"}]},{\"extends\":null,\"module\":null,\"name\":\"NotificationAreaBase1\",\"overrides\":[],\"properties\":[{\"default\":\"bottom-right\",\"kind\":null,\"name\":\"position\"},{\"default\":0,\"kind\":null,\"name\":\"_clear\"}]},{\"extends\":null,\"module\":null,\"name\":\"NotificationArea1\",\"overrides\":[],\"properties\":[{\"default\":[],\"kind\":null,\"name\":\"notifications\"},{\"default\":\"bottom-right\",\"kind\":null,\"name\":\"position\"},{\"default\":0,\"kind\":null,\"name\":\"_clear\"},{\"default\":[{\"background\":\"#ffc107\",\"icon\":{\"className\":\"fas fa-exclamation-triangle\",\"color\":\"white\",\"tagName\":\"i\"},\"type\":\"warning\"},{\"background\":\"#007bff\",\"icon\":{\"className\":\"fas fa-info-circle\",\"color\":\"white\",\"tagName\":\"i\"},\"type\":\"info\"}],\"kind\":null,\"name\":\"types\"}]},{\"extends\":null,\"module\":null,\"name\":\"Notification\",\"overrides\":[],\"properties\":[{\"default\":null,\"kind\":null,\"name\":\"background\"},{\"default\":3000,\"kind\":null,\"name\":\"duration\"},{\"default\":null,\"kind\":null,\"name\":\"icon\"},{\"default\":\"\",\"kind\":null,\"name\":\"message\"},{\"default\":null,\"kind\":null,\"name\":\"notification_type\"},{\"default\":false,\"kind\":null,\"name\":\"_destroyed\"}]},{\"extends\":null,\"module\":null,\"name\":\"TemplateActions1\",\"overrides\":[],\"properties\":[{\"default\":0,\"kind\":null,\"name\":\"open_modal\"},{\"default\":0,\"kind\":null,\"name\":\"close_modal\"}]},{\"extends\":null,\"module\":null,\"name\":\"MaterialTemplateActions1\",\"overrides\":[],\"properties\":[{\"default\":0,\"kind\":null,\"name\":\"open_modal\"},{\"default\":0,\"kind\":null,\"name\":\"close_modal\"}]}],\"roots\":{\"references\":[{\"attributes\":{\"bottom_units\":\"screen\",\"coordinates\":null,\"fill_alpha\":0.5,\"fill_color\":\"lightgrey\",\"group\":null,\"left_units\":\"screen\",\"level\":\"overlay\",\"line_alpha\":1.0,\"line_color\":\"black\",\"line_dash\":[4,4],\"line_width\":2,\"right_units\":\"screen\",\"syncable\":false,\"top_units\":\"screen\"},\"id\":\"134800\",\"type\":\"BoxAnnotation\"},{\"attributes\":{\"margin\":[0,0,0,0],\"tabs\":[{\"id\":\"134833\"},{\"id\":\"134835\"}]},\"id\":\"134775\",\"type\":\"panel.models.tabs.Tabs\"},{\"attributes\":{\"fill_alpha\":{\"value\":1.0},\"fill_color\":{\"value\":\"#30a2da\"},\"hatch_alpha\":{\"value\":1.0},\"hatch_color\":{\"value\":\"#30a2da\"},\"hatch_scale\":{\"value\":12.0},\"hatch_weight\":{\"value\":1.0},\"height\":{\"value\":0.8},\"left\":{\"value\":0},\"line_alpha\":{\"value\":1.0},\"line_cap\":{\"value\":\"butt\"},\"line_color\":{\"value\":\"black\"},\"line_dash\":{\"value\":[]},\"line_dash_offset\":{\"value\":0},\"line_join\":{\"value\":\"bevel\"},\"line_width\":{\"value\":1},\"right\":{\"field\":\"importance\"},\"y\":{\"field\":\"index\"}},\"id\":\"134816\",\"type\":\"HBar\"},{\"attributes\":{\"fill_color\":{\"value\":\"#30a2da\"},\"hatch_color\":{\"value\":\"#30a2da\"},\"height\":{\"value\":0.8},\"right\":{\"field\":\"importance\"},\"y\":{\"field\":\"index\"}},\"id\":\"134811\",\"type\":\"HBar\"},{\"attributes\":{\"child\":{\"id\":\"134779\"},\"name\":\"from_model\",\"title\":\"from_model\"},\"id\":\"134833\",\"type\":\"Panel\"},{\"attributes\":{\"client_comm_id\":\"cce4cb580e0b4ec99ee5b8e29361b395\",\"comm_id\":\"175eb68b85a14176a524bbfd2dde2249\",\"plot_id\":\"134775\"},\"id\":\"134866\",\"type\":\"panel.models.comm_manager.CommManager\"},{\"attributes\":{},\"id\":\"134830\",\"type\":\"UnionRenderers\"},{\"attributes\":{\"factors\":[\"tgt_enc_sim_impt_x1\",\"color\",\"tgt_enc_sim_impt_x0\",\"carrier\",\"first_time_customer\",\"lock_status\",\"tgt_enc_sim_impt_x2\",\"days_since_last_purchase\",\"quantity\",\"memory_size\",\"channel\",\"brand\",\"unit_cost\",\"sales_person\",\"order_type\",\"condition\",\"business_unit\",\"sku\",\"model_family\"],\"tags\":[[[\"index\",\"index\",null]]]},\"id\":\"134777\",\"type\":\"FactorRange\"},{\"attributes\":{\"axis\":{\"id\":\"134788\"},\"coordinates\":null,\"grid_line_color\":null,\"group\":null,\"ticker\":null},\"id\":\"134791\",\"type\":\"Grid\"},{\"attributes\":{},\"id\":\"134819\",\"type\":\"AllLabels\"},{\"attributes\":{},\"id\":\"134796\",\"type\":\"PanTool\"},{\"attributes\":{},\"id\":\"134793\",\"type\":\"CategoricalTicker\"},{\"attributes\":{\"fill_alpha\":{\"value\":0.1},\"fill_color\":{\"value\":\"#30a2da\"},\"hatch_alpha\":{\"value\":0.1},\"hatch_color\":{\"value\":\"#30a2da\"},\"height\":{\"value\":0.8},\"line_alpha\":{\"value\":0.1},\"right\":{\"field\":\"importance\"},\"y\":{\"field\":\"index\"}},\"id\":\"134812\",\"type\":\"HBar\"},{\"attributes\":{},\"id\":\"134799\",\"type\":\"ResetTool\"},{\"attributes\":{\"source\":{\"id\":\"134808\"}},\"id\":\"134815\",\"type\":\"CDSView\"},{\"attributes\":{\"end\":15167.700061793419,\"reset_end\":15167.700061793419,\"reset_start\":-4513.920667815908,\"start\":-4513.920667815908,\"tags\":[[[\"importance\",\"importance\",null]]]},\"id\":\"134776\",\"type\":\"Range1d\"},{\"attributes\":{\"data\":{\"importance\":{\"__ndarray__\":\"/ioVO5JzpsCuSlPcJzp2wAsxdAsg2W3AAAAAAAAAAIAAAAAAAAAAAAAAAAAAAAAAAAAAAAAAAIAAAAAAAAAAALwIgFM5Oj1AlIySFgJSVECqCOLymOaYQPKNl/I2taFAIoWV65sLp0CeOBBkZrmrQPHicHJ3xrBAeYdUDGWEuUBts/Bj9Fu+QGcWNAnxJMRAzdjzUchrykA=\",\"dtype\":\"float64\",\"order\":\"little\",\"shape\":[19]},\"index\":[\"tgt_enc_sim_impt_x1\",\"color\",\"tgt_enc_sim_impt_x0\",\"carrier\",\"first_time_customer\",\"lock_status\",\"tgt_enc_sim_impt_x2\",\"days_since_last_purchase\",\"quantity\",\"memory_size\",\"channel\",\"brand\",\"unit_cost\",\"sales_person\",\"order_type\",\"condition\",\"business_unit\",\"sku\",\"model_family\"]},\"selected\":{\"id\":\"134809\"},\"selection_policy\":{\"id\":\"134830\"}},\"id\":\"134808\",\"type\":\"ColumnDataSource\"},{\"attributes\":{\"overlay\":{\"id\":\"134800\"}},\"id\":\"134798\",\"type\":\"BoxZoomTool\"},{\"attributes\":{},\"id\":\"134786\",\"type\":\"CategoricalScale\"},{\"attributes\":{},\"id\":\"134821\",\"type\":\"CategoricalTickFormatter\"},{\"attributes\":{\"child\":{\"id\":\"134834\"},\"name\":\"shap_values\",\"title\":\"shap_values\"},\"id\":\"134835\",\"type\":\"Panel\"},{\"attributes\":{\"tools\":[{\"id\":\"134778\"},{\"id\":\"134795\"},{\"id\":\"134796\"},{\"id\":\"134797\"},{\"id\":\"134798\"},{\"id\":\"134799\"}]},\"id\":\"134801\",\"type\":\"Toolbar\"},{\"attributes\":{},\"id\":\"134818\",\"type\":\"BasicTickFormatter\"},{\"attributes\":{\"coordinates\":null,\"group\":null,\"text\":\"Feature Importances from LassoCV\",\"text_color\":\"black\",\"text_font_size\":\"12pt\"},\"id\":\"134780\",\"type\":\"Title\"},{\"attributes\":{\"below\":[{\"id\":\"134788\"}],\"center\":[{\"id\":\"134791\"},{\"id\":\"134794\"}],\"height\":300,\"left\":[{\"id\":\"134792\"}],\"margin\":[5,5,5,5],\"min_border_bottom\":10,\"min_border_left\":10,\"min_border_right\":10,\"min_border_top\":10,\"renderers\":[{\"id\":\"134814\"}],\"sizing_mode\":\"fixed\",\"title\":{\"id\":\"134780\"},\"toolbar\":{\"id\":\"134801\"},\"width\":700,\"x_range\":{\"id\":\"134776\"},\"x_scale\":{\"id\":\"134784\"},\"y_range\":{\"id\":\"134777\"},\"y_scale\":{\"id\":\"134786\"}},\"id\":\"134779\",\"subtype\":\"Figure\",\"type\":\"Plot\"},{\"attributes\":{},\"id\":\"134797\",\"type\":\"WheelZoomTool\"},{\"attributes\":{},\"id\":\"134795\",\"type\":\"SaveTool\"},{\"attributes\":{},\"id\":\"134789\",\"type\":\"BasicTicker\"},{\"attributes\":{},\"id\":\"134809\",\"type\":\"Selection\"},{\"attributes\":{\"height\":910,\"margin\":[5,5,5,5],\"name\":\"shap_values\",\"text\":\"&lt;img src=&quot;data:image/png;base64,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&quot; width=&quot;800px&quot; height=&quot;910px&quot; alt=&quot;&quot;&gt;&lt;/img&gt;\",\"width\":800},\"id\":\"134834\",\"type\":\"panel.models.markup.HTML\"},{\"attributes\":{},\"id\":\"134822\",\"type\":\"AllLabels\"},{\"attributes\":{\"axis_label\":\"Features\",\"coordinates\":null,\"formatter\":{\"id\":\"134821\"},\"group\":null,\"major_label_policy\":{\"id\":\"134822\"},\"ticker\":{\"id\":\"134793\"}},\"id\":\"134792\",\"type\":\"CategoricalAxis\"},{\"attributes\":{},\"id\":\"134784\",\"type\":\"LinearScale\"},{\"attributes\":{\"coordinates\":null,\"data_source\":{\"id\":\"134808\"},\"glyph\":{\"id\":\"134811\"},\"group\":null,\"hover_glyph\":null,\"muted_glyph\":{\"id\":\"134813\"},\"nonselection_glyph\":{\"id\":\"134812\"},\"selection_glyph\":{\"id\":\"134816\"},\"view\":{\"id\":\"134815\"}},\"id\":\"134814\",\"type\":\"GlyphRenderer\"},{\"attributes\":{\"callback\":null,\"renderers\":[{\"id\":\"134814\"}],\"tags\":[\"hv_created\"],\"tooltips\":[[\"index\",\"@{index}\"],[\"importance\",\"@{importance}\"]]},\"id\":\"134778\",\"type\":\"HoverTool\"},{\"attributes\":{\"fill_alpha\":{\"value\":0.2},\"fill_color\":{\"value\":\"#30a2da\"},\"hatch_alpha\":{\"value\":0.2},\"hatch_color\":{\"value\":\"#30a2da\"},\"height\":{\"value\":0.8},\"line_alpha\":{\"value\":0.2},\"right\":{\"field\":\"importance\"},\"y\":{\"field\":\"index\"}},\"id\":\"134813\",\"type\":\"HBar\"},{\"attributes\":{\"axis\":{\"id\":\"134792\"},\"coordinates\":null,\"dimension\":1,\"grid_line_color\":null,\"group\":null,\"ticker\":null},\"id\":\"134794\",\"type\":\"Grid\"},{\"attributes\":{\"axis_label\":\"Feature Importance [determined by coeff * mean(x)]\",\"coordinates\":null,\"formatter\":{\"id\":\"134818\"},\"group\":null,\"major_label_policy\":{\"id\":\"134819\"},\"ticker\":{\"id\":\"134789\"}},\"id\":\"134788\",\"type\":\"LinearAxis\"}],\"root_ids\":[\"134775\",\"134866\"]},\"title\":\"Bokeh Application\",\"version\":\"2.4.3\"}};\n",
       "    var render_items = [{\"docid\":\"df14d827-9c64-4f02-ac81-b201ff5aae66\",\"root_ids\":[\"134775\"],\"roots\":{\"134775\":\"7a1dc889-95d7-4440-95db-e4e106334fbe\"}}];\n",
       "    root.Bokeh.embed.embed_items_notebook(docs_json, render_items);\n",
       "  }\n",
       "  if (root.Bokeh !== undefined && root.Bokeh.Panel !== undefined) {\n",
       "    embed_document(root);\n",
       "  } else {\n",
       "    var attempts = 0;\n",
       "    var timer = setInterval(function(root) {\n",
       "      if (root.Bokeh !== undefined && root.Bokeh.Panel !== undefined) {\n",
       "        clearInterval(timer);\n",
       "        embed_document(root);\n",
       "      } else if (document.readyState == \"complete\") {\n",
       "        attempts++;\n",
       "        if (attempts > 200) {\n",
       "          clearInterval(timer);\n",
       "          console.log(\"Bokeh: ERROR: Unable to run BokehJS code because BokehJS library is missing\");\n",
       "        }\n",
       "      }\n",
       "    }, 25, root)\n",
       "  }\n",
       "})(window);</script>"
      ],
      "text/plain": [
       "Tabs\n",
       "    [0] HoloViews(Bars, name='from_model')\n",
       "    [1] Matplotlib(Figure, name='shap_values')"
      ]
     },
     "execution_count": 66,
     "metadata": {
      "application/vnd.holoviews_exec.v0+json": {
       "id": "134775"
      }
     },
     "output_type": "execute_result"
    }
   ],
   "source": [
    "out = eda.get_feature_importances(train_X, train_y, y_continuous=True)\n",
    "display_as_tabs([(k, v) for k,v in out.items()])"
   ]
  },
  {
   "cell_type": "markdown",
   "metadata": {},
   "source": [
    "Key drivers report like feature importance, bivariate plots can be obtained as below"
   ]
  },
  {
   "cell_type": "code",
   "execution_count": 67,
   "metadata": {},
   "outputs": [],
   "source": [
    "reports.key_drivers(train_X,train_y, './key_drivers_report.html', y_continuous=True)"
   ]
  },
  {
   "cell_type": "markdown",
   "metadata": {},
   "source": [
    "**Dev Notes**\n",
    "<details>\n",
    "    \n",
    "- The SHAP plots and bivariate plots in key drivers reports can be obtained by including quick=False as a parameter to key_drivers function call. \n",
    "- SHAP plots and bivariate plots often take long depending on data shape.\n",
    "- The plot with shap is present [here](https://drive.google.com/file/d/1JOTMBLiv3LEqZ-kxZz0RokW9v5UyiGva/view?usp=sharing)\n",
    "\n",
    "</details>"
   ]
  },
  {
   "cell_type": "markdown",
   "metadata": {},
   "source": [
    "\n",
    "All the plots like feature analysis, interaction, key drivers can be obtained as a single plot using data exploration method as shown below. The output from this is available [here](https://drive.google.com/file/d/1209MzmSSEhiTYuPfHpaVXFXUVbkaJm0B/view?usp=sharing)"
   ]
  },
  {
   "cell_type": "code",
   "execution_count": 68,
   "metadata": {},
   "outputs": [
    {
     "name": "stderr",
     "output_type": "stream",
     "text": [
      "p-value may not be accurate for N > 5000.\n"
     ]
    }
   ],
   "source": [
    "reports.data_exploration(train_X,train_y,'./data_exploration_report.html', y_continuous=True)"
   ]
  },
  {
   "cell_type": "code",
   "execution_count": 69,
   "metadata": {},
   "outputs": [],
   "source": [
    "# saving the list of relevant columns\n",
    "save_pipeline(curated_columns, op.abspath(op.join(artifacts_folder, 'curated_columns.joblib')))\n",
    "\n",
    "# save the feature pipeline\n",
    "save_pipeline(features_transformer, op.abspath(op.join(artifacts_folder, 'features.joblib')))"
   ]
  },
  {
   "cell_type": "markdown",
   "metadata": {},
   "source": [
    "# 4 Modelling"
   ]
  },
  {
   "cell_type": "markdown",
   "metadata": {},
   "source": [
    "## 4.1 Modelling - Linear Regression"
   ]
  },
  {
   "cell_type": "markdown",
   "metadata": {},
   "source": [
    "### 4.1.1 Feature Selection(Specific to Regression)\n",
    "\n",
    "- Selecting Features specific to regression\n",
    "- VIF : measure of the amount of multi-collinearity in a set of multiple regressor variables. \n",
    "- On a case to case basis VIF thresholds change. Generally 5 or 10 are acceptable levels.\n",
    "- Usually on a recursive basis when removing the most collinear variable, there can be shuffle in VIF. \n",
    "- Often this section will not be part of the production code."
   ]
  },
  {
   "cell_type": "code",
   "execution_count": 70,
   "metadata": {},
   "outputs": [],
   "source": [
    "cols = list(train_X.columns)\n",
    "vif = eda.calc_vif(train_X)\n",
    "while max(vif.VIF) > 15:\n",
    "    #removing the largest variable from VIF\n",
    "    cols.remove(vif[(vif.VIF==vif.VIF.max())].variables.tolist()[0])\n",
    "    vif = eda.calc_vif(train_X[cols])"
   ]
  },
  {
   "cell_type": "code",
   "execution_count": 71,
   "metadata": {},
   "outputs": [],
   "source": [
    "reg_vars = vif.query('VIF < 15').variables\n",
    "reg_vars = list(reg_vars)"
   ]
  },
  {
   "cell_type": "markdown",
   "metadata": {},
   "source": [
    "### 4.1.2 Data transformations"
   ]
  },
  {
   "cell_type": "code",
   "execution_count": 72,
   "metadata": {},
   "outputs": [],
   "source": [
    "# Custom Transformations like these can be utilised\n",
    "def _custom_data_transform(df, cols2keep=None):\n",
    "    \"\"\"Transformation to drop some columns in the data\n",
    "    \n",
    "    Parameters\n",
    "    ----------\n",
    "        df - pd.DataFrame\n",
    "        cols2keep - columns to keep in the dataframe\n",
    "    \"\"\"\n",
    "    cols2keep = cols2keep or []\n",
    "    if len(cols2keep):\n",
    "        return (df\n",
    "                .select_columns(cols2keep))\n",
    "    else:\n",
    "        return df"
   ]
  },
  {
   "cell_type": "markdown",
   "metadata": {},
   "source": [
    "### 4.1.3 Model training pipeline\n",
    "\n",
    "- Here we focus on creating a collection of pipelines that can be used for training respective models.\n",
    "- Each model pipeline will essentially be of the form\n",
    "```\n",
    "[\n",
    "('preprocessing', preprocessing_pipeline),\n",
    "('feature_selection', feature_selection_pipeline),\n",
    "('estimator', estimator),\n",
    "]\n",
    "```"
   ]
  },
  {
   "cell_type": "markdown",
   "metadata": {},
   "source": [
    "### 4.1.4 Model Pipeline Build\n",
    "\n",
    "- This will be part of the production code (training only)."
   ]
  },
  {
   "cell_type": "code",
   "execution_count": 73,
   "metadata": {},
   "outputs": [
    {
     "data": {
      "text/html": [
       "<style>#sk-container-id-4 {color: black;background-color: white;}#sk-container-id-4 pre{padding: 0;}#sk-container-id-4 div.sk-toggleable {background-color: white;}#sk-container-id-4 label.sk-toggleable__label {cursor: pointer;display: block;width: 100%;margin-bottom: 0;padding: 0.3em;box-sizing: border-box;text-align: center;}#sk-container-id-4 label.sk-toggleable__label-arrow:before {content: \"▸\";float: left;margin-right: 0.25em;color: #696969;}#sk-container-id-4 label.sk-toggleable__label-arrow:hover:before {color: black;}#sk-container-id-4 div.sk-estimator:hover label.sk-toggleable__label-arrow:before {color: black;}#sk-container-id-4 div.sk-toggleable__content {max-height: 0;max-width: 0;overflow: hidden;text-align: left;background-color: #f0f8ff;}#sk-container-id-4 div.sk-toggleable__content pre {margin: 0.2em;color: black;border-radius: 0.25em;background-color: #f0f8ff;}#sk-container-id-4 input.sk-toggleable__control:checked~div.sk-toggleable__content {max-height: 200px;max-width: 100%;overflow: auto;}#sk-container-id-4 input.sk-toggleable__control:checked~label.sk-toggleable__label-arrow:before {content: \"▾\";}#sk-container-id-4 div.sk-estimator input.sk-toggleable__control:checked~label.sk-toggleable__label {background-color: #d4ebff;}#sk-container-id-4 div.sk-label input.sk-toggleable__control:checked~label.sk-toggleable__label {background-color: #d4ebff;}#sk-container-id-4 input.sk-hidden--visually {border: 0;clip: rect(1px 1px 1px 1px);clip: rect(1px, 1px, 1px, 1px);height: 1px;margin: -1px;overflow: hidden;padding: 0;position: absolute;width: 1px;}#sk-container-id-4 div.sk-estimator {font-family: monospace;background-color: #f0f8ff;border: 1px dotted black;border-radius: 0.25em;box-sizing: border-box;margin-bottom: 0.5em;}#sk-container-id-4 div.sk-estimator:hover {background-color: #d4ebff;}#sk-container-id-4 div.sk-parallel-item::after {content: \"\";width: 100%;border-bottom: 1px solid gray;flex-grow: 1;}#sk-container-id-4 div.sk-label:hover label.sk-toggleable__label {background-color: #d4ebff;}#sk-container-id-4 div.sk-serial::before {content: \"\";position: absolute;border-left: 1px solid gray;box-sizing: border-box;top: 0;bottom: 0;left: 50%;z-index: 0;}#sk-container-id-4 div.sk-serial {display: flex;flex-direction: column;align-items: center;background-color: white;padding-right: 0.2em;padding-left: 0.2em;position: relative;}#sk-container-id-4 div.sk-item {position: relative;z-index: 1;}#sk-container-id-4 div.sk-parallel {display: flex;align-items: stretch;justify-content: center;background-color: white;position: relative;}#sk-container-id-4 div.sk-item::before, #sk-container-id-4 div.sk-parallel-item::before {content: \"\";position: absolute;border-left: 1px solid gray;box-sizing: border-box;top: 0;bottom: 0;left: 50%;z-index: -1;}#sk-container-id-4 div.sk-parallel-item {display: flex;flex-direction: column;z-index: 1;position: relative;background-color: white;}#sk-container-id-4 div.sk-parallel-item:first-child::after {align-self: flex-end;width: 50%;}#sk-container-id-4 div.sk-parallel-item:last-child::after {align-self: flex-start;width: 50%;}#sk-container-id-4 div.sk-parallel-item:only-child::after {width: 0;}#sk-container-id-4 div.sk-dashed-wrapped {border: 1px dashed gray;margin: 0 0.4em 0.5em 0.4em;box-sizing: border-box;padding-bottom: 0.4em;background-color: white;}#sk-container-id-4 div.sk-label label {font-family: monospace;font-weight: bold;display: inline-block;line-height: 1.2em;}#sk-container-id-4 div.sk-label-container {text-align: center;}#sk-container-id-4 div.sk-container {/* jupyter's `normalize.less` sets `[hidden] { display: none; }` but bootstrap.min.css set `[hidden] { display: none !important; }` so we also need the `!important` here to be able to override the default hidden behavior on the sphinx rendered scikit-learn.org. See: https://github.com/scikit-learn/scikit-learn/issues/21755 */display: inline-block !important;position: relative;}#sk-container-id-4 div.sk-text-repr-fallback {display: none;}</style><div id=\"sk-container-id-4\" class=\"sk-top-container\"><div class=\"sk-text-repr-fallback\"><pre>Pipeline(steps=[(&#x27;&#x27;,\n",
       "                 FunctionTransformer(func=&lt;function _custom_data_transform at 0x7f8039525ca0&gt;,\n",
       "                                     kw_args={&#x27;cols2keep&#x27;: [&#x27;unit_cost&#x27;,\n",
       "                                                            &#x27;quantity&#x27;, &#x27;color&#x27;,\n",
       "                                                            &#x27;memory_size&#x27;,\n",
       "                                                            &#x27;first_time_customer&#x27;,\n",
       "                                                            &#x27;tgt_enc_sim_impt_x2&#x27;,\n",
       "                                                            &#x27;channel&#x27;,\n",
       "                                                            &#x27;condition&#x27;,\n",
       "                                                            &#x27;days_since_last_purchase&#x27;]})),\n",
       "                (&#x27;estimator&#x27;, SKLStatsmodelOLS())])</pre><b>In a Jupyter environment, please rerun this cell to show the HTML representation or trust the notebook. <br />On GitHub, the HTML representation is unable to render, please try loading this page with nbviewer.org.</b></div><div class=\"sk-container\" hidden><div class=\"sk-item sk-dashed-wrapped\"><div class=\"sk-label-container\"><div class=\"sk-label sk-toggleable\"><input class=\"sk-toggleable__control sk-hidden--visually\" id=\"sk-estimator-id-9\" type=\"checkbox\" ><label for=\"sk-estimator-id-9\" class=\"sk-toggleable__label sk-toggleable__label-arrow\">Pipeline</label><div class=\"sk-toggleable__content\"><pre>Pipeline(steps=[(&#x27;&#x27;,\n",
       "                 FunctionTransformer(func=&lt;function _custom_data_transform at 0x7f8039525ca0&gt;,\n",
       "                                     kw_args={&#x27;cols2keep&#x27;: [&#x27;unit_cost&#x27;,\n",
       "                                                            &#x27;quantity&#x27;, &#x27;color&#x27;,\n",
       "                                                            &#x27;memory_size&#x27;,\n",
       "                                                            &#x27;first_time_customer&#x27;,\n",
       "                                                            &#x27;tgt_enc_sim_impt_x2&#x27;,\n",
       "                                                            &#x27;channel&#x27;,\n",
       "                                                            &#x27;condition&#x27;,\n",
       "                                                            &#x27;days_since_last_purchase&#x27;]})),\n",
       "                (&#x27;estimator&#x27;, SKLStatsmodelOLS())])</pre></div></div></div><div class=\"sk-serial\"><div class=\"sk-item\"><div class=\"sk-estimator sk-toggleable\"><input class=\"sk-toggleable__control sk-hidden--visually\" id=\"sk-estimator-id-10\" type=\"checkbox\" ><label for=\"sk-estimator-id-10\" class=\"sk-toggleable__label sk-toggleable__label-arrow\">FunctionTransformer</label><div class=\"sk-toggleable__content\"><pre>FunctionTransformer(func=&lt;function _custom_data_transform at 0x7f8039525ca0&gt;,\n",
       "                    kw_args={&#x27;cols2keep&#x27;: [&#x27;unit_cost&#x27;, &#x27;quantity&#x27;, &#x27;color&#x27;,\n",
       "                                           &#x27;memory_size&#x27;, &#x27;first_time_customer&#x27;,\n",
       "                                           &#x27;tgt_enc_sim_impt_x2&#x27;, &#x27;channel&#x27;,\n",
       "                                           &#x27;condition&#x27;,\n",
       "                                           &#x27;days_since_last_purchase&#x27;]})</pre></div></div></div><div class=\"sk-item\"><div class=\"sk-estimator sk-toggleable\"><input class=\"sk-toggleable__control sk-hidden--visually\" id=\"sk-estimator-id-11\" type=\"checkbox\" ><label for=\"sk-estimator-id-11\" class=\"sk-toggleable__label sk-toggleable__label-arrow\">SKLStatsmodelOLS</label><div class=\"sk-toggleable__content\"><pre>SKLStatsmodelOLS()</pre></div></div></div></div></div></div></div>"
      ],
      "text/plain": [
       "Pipeline(steps=[('',\n",
       "                 FunctionTransformer(func=<function _custom_data_transform at 0x7f8039525ca0>,\n",
       "                                     kw_args={'cols2keep': ['unit_cost',\n",
       "                                                            'quantity', 'color',\n",
       "                                                            'memory_size',\n",
       "                                                            'first_time_customer',\n",
       "                                                            'tgt_enc_sim_impt_x2',\n",
       "                                                            'channel',\n",
       "                                                            'condition',\n",
       "                                                            'days_since_last_purchase']})),\n",
       "                ('estimator', SKLStatsmodelOLS())])"
      ]
     },
     "execution_count": 73,
     "metadata": {},
     "output_type": "execute_result"
    }
   ],
   "source": [
    "reg_ppln_ols = Pipeline([\n",
    "    ('',FunctionTransformer(_custom_data_transform, kw_args={'cols2keep':reg_vars})),\n",
    "    ('estimator', SKLStatsmodelOLS())\n",
    "])\n",
    "reg_ppln_ols.fit(train_X, train_y.values.ravel())\n"
   ]
  },
  {
   "cell_type": "code",
   "execution_count": 74,
   "metadata": {},
   "outputs": [
    {
     "data": {
      "text/html": [
       "<table class=\"simpletable\">\n",
       "<caption>OLS Regression Results</caption>\n",
       "<tr>\n",
       "  <th>Dep. Variable:</th>            <td>y</td>        <th>  R-squared:         </th>  <td>   0.886</td>  \n",
       "</tr>\n",
       "<tr>\n",
       "  <th>Model:</th>                   <td>OLS</td>       <th>  Adj. R-squared:    </th>  <td>   0.886</td>  \n",
       "</tr>\n",
       "<tr>\n",
       "  <th>Method:</th>             <td>Least Squares</td>  <th>  F-statistic:       </th>  <td>1.205e+05</td> \n",
       "</tr>\n",
       "<tr>\n",
       "  <th>Date:</th>             <td>Sun, 16 Jul 2023</td> <th>  Prob (F-statistic):</th>   <td>  0.00</td>   \n",
       "</tr>\n",
       "<tr>\n",
       "  <th>Time:</th>                 <td>20:47:37</td>     <th>  Log-Likelihood:    </th> <td>-7.0720e+05</td>\n",
       "</tr>\n",
       "<tr>\n",
       "  <th>No. Observations:</th>      <td>139847</td>      <th>  AIC:               </th>  <td>1.414e+06</td> \n",
       "</tr>\n",
       "<tr>\n",
       "  <th>Df Residuals:</th>          <td>139837</td>      <th>  BIC:               </th>  <td>1.415e+06</td> \n",
       "</tr>\n",
       "<tr>\n",
       "  <th>Df Model:</th>              <td>     9</td>      <th>                     </th>      <td> </td>     \n",
       "</tr>\n",
       "<tr>\n",
       "  <th>Covariance Type:</th>      <td>nonrobust</td>    <th>                     </th>      <td> </td>     \n",
       "</tr>\n",
       "</table>\n",
       "<table class=\"simpletable\">\n",
       "<tr>\n",
       "              <td></td>                <th>coef</th>     <th>std err</th>      <th>t</th>      <th>P>|t|</th>  <th>[0.025</th>    <th>0.975]</th>  \n",
       "</tr>\n",
       "<tr>\n",
       "  <th>intercept</th>                <td>  -66.3704</td> <td>    0.572</td> <td> -115.991</td> <td> 0.000</td> <td>  -67.492</td> <td>  -65.249</td>\n",
       "</tr>\n",
       "<tr>\n",
       "  <th>unit_cost</th>                <td>    0.4018</td> <td>    0.002</td> <td>  176.506</td> <td> 0.000</td> <td>    0.397</td> <td>    0.406</td>\n",
       "</tr>\n",
       "<tr>\n",
       "  <th>quantity</th>                 <td>   -0.0194</td> <td>    0.003</td> <td>   -7.185</td> <td> 0.000</td> <td>   -0.025</td> <td>   -0.014</td>\n",
       "</tr>\n",
       "<tr>\n",
       "  <th>color</th>                    <td>    0.0247</td> <td>    0.003</td> <td>    8.307</td> <td> 0.000</td> <td>    0.019</td> <td>    0.031</td>\n",
       "</tr>\n",
       "<tr>\n",
       "  <th>memory_size</th>              <td>    0.2001</td> <td>    0.002</td> <td>  109.690</td> <td> 0.000</td> <td>    0.197</td> <td>    0.204</td>\n",
       "</tr>\n",
       "<tr>\n",
       "  <th>first_time_customer</th>      <td>   34.4731</td> <td>    1.085</td> <td>   31.786</td> <td> 0.000</td> <td>   32.347</td> <td>   36.599</td>\n",
       "</tr>\n",
       "<tr>\n",
       "  <th>tgt_enc_sim_impt_x2</th>      <td>    0.6000</td> <td>    0.002</td> <td>  329.261</td> <td> 0.000</td> <td>    0.596</td> <td>    0.604</td>\n",
       "</tr>\n",
       "<tr>\n",
       "  <th>channel</th>                  <td>    0.0133</td> <td>    0.003</td> <td>    4.478</td> <td> 0.000</td> <td>    0.007</td> <td>    0.019</td>\n",
       "</tr>\n",
       "<tr>\n",
       "  <th>condition</th>                <td>    0.3240</td> <td>    0.003</td> <td>  129.540</td> <td> 0.000</td> <td>    0.319</td> <td>    0.329</td>\n",
       "</tr>\n",
       "<tr>\n",
       "  <th>days_since_last_purchase</th> <td>    3.2138</td> <td>    0.167</td> <td>   19.201</td> <td> 0.000</td> <td>    2.886</td> <td>    3.542</td>\n",
       "</tr>\n",
       "</table>\n",
       "<table class=\"simpletable\">\n",
       "<tr>\n",
       "  <th>Omnibus:</th>       <td>39540.139</td> <th>  Durbin-Watson:     </th>  <td>   2.006</td>  \n",
       "</tr>\n",
       "<tr>\n",
       "  <th>Prob(Omnibus):</th>  <td> 0.000</td>   <th>  Jarque-Bera (JB):  </th> <td>2389066.457</td>\n",
       "</tr>\n",
       "<tr>\n",
       "  <th>Skew:</th>           <td> 0.512</td>   <th>  Prob(JB):          </th>  <td>    0.00</td>  \n",
       "</tr>\n",
       "<tr>\n",
       "  <th>Kurtosis:</th>       <td>23.223</td>   <th>  Cond. No.          </th>  <td>3.63e+03</td>  \n",
       "</tr>\n",
       "</table><br/><br/>Notes:<br/>[1] Standard Errors assume that the covariance matrix of the errors is correctly specified.<br/>[2] The condition number is large, 3.63e+03. This might indicate that there are<br/>strong multicollinearity or other numerical problems."
      ],
      "text/plain": [
       "<class 'statsmodels.iolib.summary.Summary'>\n",
       "\"\"\"\n",
       "                            OLS Regression Results                            \n",
       "==============================================================================\n",
       "Dep. Variable:                      y   R-squared:                       0.886\n",
       "Model:                            OLS   Adj. R-squared:                  0.886\n",
       "Method:                 Least Squares   F-statistic:                 1.205e+05\n",
       "Date:                Sun, 16 Jul 2023   Prob (F-statistic):               0.00\n",
       "Time:                        20:47:37   Log-Likelihood:            -7.0720e+05\n",
       "No. Observations:              139847   AIC:                         1.414e+06\n",
       "Df Residuals:                  139837   BIC:                         1.415e+06\n",
       "Df Model:                           9                                         \n",
       "Covariance Type:            nonrobust                                         \n",
       "============================================================================================\n",
       "                               coef    std err          t      P>|t|      [0.025      0.975]\n",
       "--------------------------------------------------------------------------------------------\n",
       "intercept                  -66.3704      0.572   -115.991      0.000     -67.492     -65.249\n",
       "unit_cost                    0.4018      0.002    176.506      0.000       0.397       0.406\n",
       "quantity                    -0.0194      0.003     -7.185      0.000      -0.025      -0.014\n",
       "color                        0.0247      0.003      8.307      0.000       0.019       0.031\n",
       "memory_size                  0.2001      0.002    109.690      0.000       0.197       0.204\n",
       "first_time_customer         34.4731      1.085     31.786      0.000      32.347      36.599\n",
       "tgt_enc_sim_impt_x2          0.6000      0.002    329.261      0.000       0.596       0.604\n",
       "channel                      0.0133      0.003      4.478      0.000       0.007       0.019\n",
       "condition                    0.3240      0.003    129.540      0.000       0.319       0.329\n",
       "days_since_last_purchase     3.2138      0.167     19.201      0.000       2.886       3.542\n",
       "==============================================================================\n",
       "Omnibus:                    39540.139   Durbin-Watson:                   2.006\n",
       "Prob(Omnibus):                  0.000   Jarque-Bera (JB):          2389066.457\n",
       "Skew:                           0.512   Prob(JB):                         0.00\n",
       "Kurtosis:                      23.223   Cond. No.                     3.63e+03\n",
       "==============================================================================\n",
       "\n",
       "Notes:\n",
       "[1] Standard Errors assume that the covariance matrix of the errors is correctly specified.\n",
       "[2] The condition number is large, 3.63e+03. This might indicate that there are\n",
       "strong multicollinearity or other numerical problems.\n",
       "\"\"\""
      ]
     },
     "execution_count": 74,
     "metadata": {},
     "output_type": "execute_result"
    }
   ],
   "source": [
    "reg_ppln_ols['estimator'].summary()"
   ]
  },
  {
   "cell_type": "markdown",
   "metadata": {},
   "source": [
    "### 4.1.5 Model Evaluation(Linear Model)\n",
    "\n",
    "This will be part of the production code."
   ]
  },
  {
   "cell_type": "code",
   "execution_count": 75,
   "metadata": {},
   "outputs": [],
   "source": [
    "reg_ppln = Pipeline([\n",
    "    ('', FunctionTransformer(_custom_data_transform, kw_args={'cols2keep':reg_vars})),\n",
    "    ('Linear Regression', SKLStatsmodelOLS())\n",
    "])\n",
    "\n",
    "test_X = get_dataframe(\n",
    "    features_transformer.transform(test_X), \n",
    "    get_feature_names_from_column_transformer(features_transformer)\n",
    ")\n",
    "test_X = test_X[curated_columns]"
   ]
  },
  {
   "cell_type": "code",
   "execution_count": 76,
   "metadata": {},
   "outputs": [
    {
     "name": "stderr",
     "output_type": "stream",
     "text": [
      "divide by zero encountered in true_divide\n",
      "divide by zero encountered in true_divide\n",
      "2023-07-16 20:47:38 - WARNING - tigerml.model_eval.plotters.interpretation::get_errorbucket_profiles::849 - Residual Analysis: Ignoring 17 observations in train data for error analysis where y=0\n",
      "2023-07-16 20:47:38 - WARNING - tigerml.model_eval.plotters.interpretation::get_errorbucket_profiles::868 - Residual Analysis: Ignoring 7 observations in test data for error analysis where y=0\n"
     ]
    }
   ],
   "source": [
    "reg_linear_report = RegressionReport(model=reg_ppln, x_train=train_X, y_train=train_y, x_test= test_X, y_test= test_y, refit=True)\n",
    "reg_linear_report.get_report(include_shap=False, file_path='regression_linear_model_report')"
   ]
  },
  {
   "cell_type": "markdown",
   "metadata": {},
   "source": [
    "**Dev Notes**\n",
    "Use SHAP for variable interpretability.\n",
    "<details>\n",
    "\n",
    "    1. Use SHAP=True to generate variable interpretability plots in the report\n",
    "    2. SHAP is recommended for non parameteric models such as RF, xgboost.\n",
    "    3. However, SHAP reports are time consuming depending on no.of records and model complexity.\n",
    "    \n",
    "A sample of regerssion report with SHAP can be found [here](https://drive.google.com/file/d/18RlQTsT1ze09Cgz-qpb4ha_cvyWbN5F5/view?usp=sharing).\n",
    "</details>"
   ]
  },
  {
   "cell_type": "markdown",
   "metadata": {},
   "source": [
    "### 4.1.6 Residual Analysis\n",
    "- After scoring the model, it is recommended to do a residual analysis to know the distribution of errors\n",
    "- we took a threshold of 30% above which it is marked as over prediction or underprediction\n",
    "- This will not be part of the production code."
   ]
  },
  {
   "cell_type": "code",
   "execution_count": 77,
   "metadata": {},
   "outputs": [],
   "source": [
    "threshold=0.3\n",
    "residual_analysis = test_X.copy()\n",
    "residual_analysis['prediction'] = reg_ppln_ols.predict(test_X)\n",
    "residual_analysis['actuals'] = test_y.reset_index(drop = True).iloc[:,0].values\n",
    "residual_analysis['forecast_flag'] = 'good'\n",
    "residual_analysis.loc[((residual_analysis['prediction'] > (1+threshold) * residual_analysis['actuals'])\\\n",
    "                       & (residual_analysis['actuals']>100)),'forecast_flag'] = 'over predict'\n",
    "residual_analysis.loc[((residual_analysis['prediction'] < (1-threshold) * residual_analysis['actuals'])\\\n",
    "                       & (residual_analysis['actuals']>100)),'forecast_flag'] = 'under predict'"
   ]
  },
  {
   "cell_type": "code",
   "execution_count": 78,
   "metadata": {},
   "outputs": [
    {
     "data": {},
     "metadata": {},
     "output_type": "display_data"
    },
    {
     "data": {
      "application/vnd.holoviews_exec.v0+json": "",
      "text/html": [
       "<div id='168352'>\n",
       "  <div class=\"bk-root\" id=\"62c0be21-7588-4c6b-915d-44a9a4809e32\" data-root-id=\"168352\"></div>\n",
       "</div>\n",
       "<script type=\"application/javascript\">(function(root) {\n",
       "  function embed_document(root) {\n",
       "    var docs_json = {\"00306d73-6962-4932-9dc7-75e1d40ea34b\":{\"defs\":[{\"extends\":null,\"module\":null,\"name\":\"ReactiveHTML1\",\"overrides\":[],\"properties\":[]},{\"extends\":null,\"module\":null,\"name\":\"FlexBox1\",\"overrides\":[],\"properties\":[{\"default\":\"flex-start\",\"kind\":null,\"name\":\"align_content\"},{\"default\":\"flex-start\",\"kind\":null,\"name\":\"align_items\"},{\"default\":\"row\",\"kind\":null,\"name\":\"flex_direction\"},{\"default\":\"wrap\",\"kind\":null,\"name\":\"flex_wrap\"},{\"default\":\"flex-start\",\"kind\":null,\"name\":\"justify_content\"}]},{\"extends\":null,\"module\":null,\"name\":\"GridStack1\",\"overrides\":[],\"properties\":[{\"default\":\"warn\",\"kind\":null,\"name\":\"mode\"},{\"default\":null,\"kind\":null,\"name\":\"ncols\"},{\"default\":null,\"kind\":null,\"name\":\"nrows\"},{\"default\":true,\"kind\":null,\"name\":\"allow_resize\"},{\"default\":true,\"kind\":null,\"name\":\"allow_drag\"},{\"default\":[],\"kind\":null,\"name\":\"state\"}]},{\"extends\":null,\"module\":null,\"name\":\"click1\",\"overrides\":[],\"properties\":[{\"default\":\"\",\"kind\":null,\"name\":\"terminal_output\"},{\"default\":\"\",\"kind\":null,\"name\":\"debug_name\"},{\"default\":0,\"kind\":null,\"name\":\"clears\"}]},{\"extends\":null,\"module\":null,\"name\":\"NotificationAreaBase1\",\"overrides\":[],\"properties\":[{\"default\":\"bottom-right\",\"kind\":null,\"name\":\"position\"},{\"default\":0,\"kind\":null,\"name\":\"_clear\"}]},{\"extends\":null,\"module\":null,\"name\":\"NotificationArea1\",\"overrides\":[],\"properties\":[{\"default\":[],\"kind\":null,\"name\":\"notifications\"},{\"default\":\"bottom-right\",\"kind\":null,\"name\":\"position\"},{\"default\":0,\"kind\":null,\"name\":\"_clear\"},{\"default\":[{\"background\":\"#ffc107\",\"icon\":{\"className\":\"fas fa-exclamation-triangle\",\"color\":\"white\",\"tagName\":\"i\"},\"type\":\"warning\"},{\"background\":\"#007bff\",\"icon\":{\"className\":\"fas fa-info-circle\",\"color\":\"white\",\"tagName\":\"i\"},\"type\":\"info\"}],\"kind\":null,\"name\":\"types\"}]},{\"extends\":null,\"module\":null,\"name\":\"Notification\",\"overrides\":[],\"properties\":[{\"default\":null,\"kind\":null,\"name\":\"background\"},{\"default\":3000,\"kind\":null,\"name\":\"duration\"},{\"default\":null,\"kind\":null,\"name\":\"icon\"},{\"default\":\"\",\"kind\":null,\"name\":\"message\"},{\"default\":null,\"kind\":null,\"name\":\"notification_type\"},{\"default\":false,\"kind\":null,\"name\":\"_destroyed\"}]},{\"extends\":null,\"module\":null,\"name\":\"TemplateActions1\",\"overrides\":[],\"properties\":[{\"default\":0,\"kind\":null,\"name\":\"open_modal\"},{\"default\":0,\"kind\":null,\"name\":\"close_modal\"}]},{\"extends\":null,\"module\":null,\"name\":\"MaterialTemplateActions1\",\"overrides\":[],\"properties\":[{\"default\":0,\"kind\":null,\"name\":\"open_modal\"},{\"default\":0,\"kind\":null,\"name\":\"close_modal\"}]}],\"roots\":{\"references\":[{\"attributes\":{\"fill_alpha\":0.5,\"fill_color\":\"#fc4f30\",\"hatch_alpha\":0.1,\"hatch_color\":\"#fc4f30\",\"line_alpha\":0.7,\"x\":{\"field\":\"x\"},\"y\":{\"field\":\"y\"}},\"id\":\"168420\",\"type\":\"Patch\"},{\"attributes\":{},\"id\":\"168457\",\"type\":\"UnionRenderers\"},{\"attributes\":{\"below\":[{\"id\":\"168368\"}],\"center\":[{\"id\":\"168371\"},{\"id\":\"168375\"},{\"id\":\"168413\"}],\"height\":400,\"left\":[{\"id\":\"168372\"}],\"margin\":[5,5,5,5],\"min_border_bottom\":10,\"min_border_left\":10,\"min_border_right\":10,\"min_border_top\":10,\"renderers\":[{\"id\":\"168401\"},{\"id\":\"168422\"},{\"id\":\"168444\"}],\"sizing_mode\":\"fixed\",\"title\":{\"id\":\"168360\"},\"toolbar\":{\"id\":\"168382\"},\"width\":800,\"x_range\":{\"id\":\"168354\"},\"x_scale\":{\"id\":\"168364\"},\"y_range\":{\"id\":\"168355\"},\"y_scale\":{\"id\":\"168366\"}},\"id\":\"168359\",\"subtype\":\"Figure\",\"type\":\"Plot\"},{\"attributes\":{},\"id\":\"168410\",\"type\":\"UnionRenderers\"},{\"attributes\":{},\"id\":\"168369\",\"type\":\"BasicTicker\"},{\"attributes\":{\"coordinates\":null,\"data_source\":{\"id\":\"168416\"},\"glyph\":{\"id\":\"168419\"},\"group\":null,\"hover_glyph\":null,\"muted_glyph\":{\"id\":\"168421\"},\"nonselection_glyph\":{\"id\":\"168420\"},\"selection_glyph\":{\"id\":\"168437\"},\"view\":{\"id\":\"168423\"}},\"id\":\"168422\",\"type\":\"GlyphRenderer\"},{\"attributes\":{\"axis\":{\"id\":\"168368\"},\"coordinates\":null,\"grid_line_color\":null,\"group\":null,\"ticker\":null},\"id\":\"168371\",\"type\":\"Grid\"},{\"attributes\":{\"data\":{\"x\":{\"__ndarray__\":\"2qtTfZDGQsAaWzfMELE5wAC9jjsBqivAYB529QaP/79oNTF+P8YjQE6XiO0vvzVA9En8DaDNQEBCSDQlqLtGQI5GbDywqUxAbSLSKdxLUUCUIW414EJUQLsgCkHkOVdA4R+mTOgwWkAHH0JY7CddQBgP7zF4D2BAqg69N/qKYUA+Dos9fAZjQNANWUP+gWRAZA0nSYD9ZUD4DPVOAnlnQIoMw1SE9GhAHgyRWgZwakCyC19giOtrQEQLLWYKZ21A2Ar7a4zibkA2heQ4By9wQP+EyzvI7HBAyYSyPomqcUCThJlBSmhyQFyEgEQLJnNAJoRnR8zjc0Dvg05KjaF0QLmDNU1OX3VAg4McUA8ddkBMgwNT0Np2QBaD6lWRmHdA34LRWFJWeECpgrhbExR5QHOCn17U0XlAPIKGYZWPekAGgm1kVk17QNCBVGcXC3xAmYE7atjIfEBjgSJtmYZ9QC2BCXBaRH5A94DwchsCf0C/gNd13L9/QERAX7zOPoBAKcDSPa+dgEAOQEa/j/yAQPO/uUBwW4FA1z8twlC6gUC8v6BDMRmCQKE/FMUReIJAhr+HRvLWgkBrP/vH0jWDQFC/bkmzlINAND/iypPzg0AZv1VMdFKEQP4+yc1UsYRA4748TzUQhUDIPrDQFW+FQKy+I1L2zYVAkT6X09YshkB2vgpVt4uGQFs+ftaX6oZAQL7xV3hJh0AkPmXZWKiHQAm+2Fo5B4hA7j1M3BlmiEDTvb9d+sSIQLg9M9/aI4lAnL2mYLuCiUCBPRrim+GJQGa9jWN8QIpASz0B5VyfikAwvXRmPf6KQBU96OcdXYtA+bxbaf67i0DePM/q3hqMQMO8Qmy/eYxAqDy27Z/YjECNvClvgDeNQHE8nfBglo1AVrwQckH1jUA7PITzIVSOQCC893QCs45ABDxr9uIRj0Dqu953w3CPQM47Uvmjz49A2t1iPUIXkEDMnRx+skaQQL5d1r4idpBAsR2Q/5KlkECj3UlAA9WQQJadA4FzBJFAiF29weMzkUB6HXcCVGORQG3dMEPEkpFAX53qgzTCkUBfneqDNMKRQG3dMEPEkpFAeh13AlRjkUCIXb3B4zORQJadA4FzBJFAo91JQAPVkECxHZD/kqWQQL5d1r4idpBAzJ0cfrJGkEDa3WI9QheQQM47Uvmjz49A6rved8Nwj0AEPGv24hGPQCC893QCs45AOzyE8yFUjkBWvBByQfWNQHE8nfBglo1Ajbwpb4A3jUCoPLbtn9iMQMO8Qmy/eYxA3jzP6t4ajED5vFtp/ruLQBU96OcdXYtAML10Zj3+ikBLPQHlXJ+KQGa9jWN8QIpAgT0a4pvhiUCcvaZgu4KJQLg9M9/aI4lA072/XfrEiEDuPUzcGWaIQAm+2Fo5B4hAJD5l2Vioh0BAvvFXeEmHQFs+ftaX6oZAdr4KVbeLhkCRPpfT1iyGQKy+I1L2zYVAyD6w0BVvhUDjvjxPNRCFQP4+yc1UsYRAGb9VTHRShEA0P+LKk/ODQFC/bkmzlINAaz/7x9I1g0CGv4dG8taCQKE/FMUReIJAvL+gQzEZgkDXPy3CULqBQPO/uUBwW4FADkBGv4/8gEApwNI9r52AQERAX7zOPoBAv4DXddy/f0D3gPByGwJ/QC2BCXBaRH5AY4EibZmGfUCZgTtq2Mh8QNCBVGcXC3xABoJtZFZNe0A8goZhlY96QHOCn17U0XlAqYK4WxMUeUDfgtFYUlZ4QBaD6lWRmHdATIMDU9DadkCDgxxQDx12QLmDNU1OX3VA74NOSo2hdEAmhGdHzONzQFyEgEQLJnNAk4SZQUpockDJhLI+iapxQP+EyzvI7HBANoXkOAcvcEDYCvtrjOJuQEQLLWYKZ21AsgtfYIjra0AeDJFaBnBqQIoMw1SE9GhA+Az1TgJ5Z0BkDSdJgP1lQNANWUP+gWRAPg6LPXwGY0CqDr03+ophQBgP7zF4D2BABx9CWOwnXUDhH6ZM6DBaQLsgCkHkOVdAlCFuNeBCVEBtItIp3EtRQI5GbDywqUxAQkg0Jai7RkD0SfwNoM1AQE6XiO0vvzVAaDUxfj/GI0BgHnb1Bo//vwC9jjsBqivAGls3zBCxOcDaq1N9kMZCwA==\",\"dtype\":\"float64\",\"order\":\"little\",\"shape\":[200]},\"y\":{\"__ndarray__\":\"AAAAAAAAAAAAAAAAAAAAAAAAAAAAAAAAAAAAAAAAAAAAAAAAAAAAAAAAAAAAAAAAAAAAAAAAAAAAAAAAAAAAAAAAAAAAAAAAAAAAAAAAAAAAAAAAAAAAAAAAAAAAAAAAAAAAAAAAAAAAAAAAAAAAAAAAAAAAAAAAAAAAAAAAAAAAAAAAAAAAAAAAAAAAAAAAAAAAAAAAAAAAAAAAAAAAAAAAAAAAAAAAAAAAAAAAAAAAAAAAAAAAAAAAAAAAAAAAAAAAAAAAAAAAAAAAAAAAAAAAAAAAAAAAAAAAAAAAAAAAAAAAAAAAAAAAAAAAAAAAAAAAAAAAAAAAAAAAAAAAAAAAAAAAAAAAAAAAAAAAAAAAAAAAAAAAAAAAAAAAAAAAAAAAAAAAAAAAAAAAAAAAAAAAAAAAAAAAAAAAAAAAAAAAAAAAAAAAAAAAAAAAAAAAAAAAAAAAAAAAAAAAAAAAAAAAAAAAAAAAAAAAAAAAAAAAAAAAAAAAAAAAAAAAAAAAAAAAAAAAAAAAAAAAAAAAAAAAAAAAAAAAAAAAAAAAAAAAAAAAAAAAAAAAAAAAAAAAAAAAAAAAAAAAAAAAAAAAAAAAAAAAAAAAAAAAAAAAAAAAAAAAAAAAAAAAAAAAAAAAAAAAAAAAAAAAAAAAAAAAAAAAAAAAAAAAAAAAAAAAAAAAAAAAAAAAAAAAAAAAAAAAAAAAAAAAAAAAAAAAAAAAAAAAAAAAAAAAAAAAAAAAAAAAAAAAAAAAAAAAAAAAAAAAAAAAAAAAAAAAAAAAAAAAAAAAAAAAAAAAAAAAAAAAAAAAAAAAAAAAAAAAAAAAAAAAAAAAAAAAAAAAAAAAAAAAAAAAAAAAAAAAAAAAAAAAAAAAAAAAAAAAAAAAAAAAAAAAAAAAAAAAAAAAAAAAAAAAAAAAAAAAAAAAAAAAAAAAAAAAAAAAAAAAAAAAAAAAAAAAAAAAAAAAAAAAAAAAAAAAAAAAAAAAAAAAAAAAAAAAAAAAAAAAAAAAAAAAAAAAAAAAAAAAAAAAAAAAAAAAAAAAAAAAAAAAAAAAAAAAAAAAAAB078vSKlh0PrHEsN9P2qs+oOEzcvcTzz7xFLd1/kLcPjY9MVo38tQ+60N+ab9OuT7c0MWklCOKPncE9bOgbos+Xj+MHYmHvD6pFBtchFTZPpb7iuvLVOI+o+VQe9qg1T5eVexNyZ+1PnTPsnrAZLI+7NGaDCBW4D4UGziDvY/6PqZuTUAFnAE/6onYrZoH8z7NdCs0XMTQPlNPAlQqRZw+SxPvVfijsD4sccsd4ibaPrwelpq1FfE+BEmHoQzf8j6x0pAy8tjnPtIi/nZleus+qGSK1One8T6E1I8FLbbmPlMWlB+4p9E+S/oqLPKu0T6OlDFzZMfcPtLsbWbbO+Y+rDLQKXge9T46Gwofq5P3Pk5/SwNnI+c+LZQNZ0Ci0D4r8nZWnPnXPhrckOaEEug+iltH62uK8T6Ud/yR8CbwPl3dYWRVM+4+AZFYdYJW8j56n+scOkLuPs8RQVvhKOs+frAQuUdr9T7L/H5GEzL6Po5ZfHMw5vo+PEuxXdEQAD8+9h0OwAD8PkSmw/XVBOs+/ImBbQ1+3D4TiGAAGxfpPigIEDzdTQI/8pWJ1yRbFz/tC8lIk3cgP5YnxKV1Mhw/Ro5N4EqxFz8BpYzAl1QcP45MttX7ViE/IUPDCBF6Hj9NuXN7XZkXP4i8I4y0PRo/eLOf1oC9ID+NB1EJONwjP4ZQkqqMDCw/VcSWtro1Mj8pOYD9ZYUxP4iLVcUlgTA/oPtpixMwND+VxcqamYg3P3ITNU8pDTg/yYRm2vSWPD+MirTHEP1CP9/8s9lAIkg/NzhU/0luST8UzC0iF+5JP8xN1wUOw0w/98Qx2ExiSz/V7tpIl0ZHP7Kd75sGYk0/G6tHTCpCWD/q4i4UJiNfP/NJ2TaY52A/TgK572VYZD9j3d1BwOBpP5vNH6Ya9G8/fIW08TsHcj/uZJgCQzZzPwZfbacQQ3U/uXv9d74iej9ipZuNfr9+P7aL7eQ+jH8/3SFPlwE5fj+iiF1aV5p7Py6TN2HEM3Q/1FyIMy+FZD+k7ovlWVdQP85e/tf0YjQ/8PwH0Uj8DD8PSGUGIu7SPg==\",\"dtype\":\"float64\",\"order\":\"little\",\"shape\":[200]}},\"selected\":{\"id\":\"168396\"},\"selection_policy\":{\"id\":\"168410\"}},\"id\":\"168395\",\"type\":\"ColumnDataSource\"},{\"attributes\":{\"source\":{\"id\":\"168395\"}},\"id\":\"168402\",\"type\":\"CDSView\"},{\"attributes\":{\"fill_alpha\":0.5,\"fill_color\":\"#30a2da\",\"hatch_alpha\":0.7,\"hatch_color\":\"#30a2da\",\"line_alpha\":0.7,\"x\":{\"field\":\"x\"},\"y\":{\"field\":\"y\"}},\"id\":\"168398\",\"type\":\"Patch\"},{\"attributes\":{},\"id\":\"168390\",\"type\":\"BasicTickFormatter\"},{\"attributes\":{\"margin\":[5,5,5,5],\"name\":\"HSpacer397320\",\"sizing_mode\":\"stretch_width\"},\"id\":\"168574\",\"type\":\"Spacer\"},{\"attributes\":{},\"id\":\"168373\",\"type\":\"BasicTicker\"},{\"attributes\":{},\"id\":\"168364\",\"type\":\"LinearScale\"},{\"attributes\":{\"axis_label\":\"density\",\"coordinates\":null,\"formatter\":{\"id\":\"168393\"},\"group\":null,\"major_label_policy\":{\"id\":\"168394\"},\"ticker\":{\"id\":\"168373\"}},\"id\":\"168372\",\"type\":\"LinearAxis\"},{\"attributes\":{},\"id\":\"168391\",\"type\":\"AllLabels\"},{\"attributes\":{\"click_policy\":\"mute\",\"coordinates\":null,\"group\":null,\"items\":[{\"id\":\"168414\"},{\"id\":\"168436\"},{\"id\":\"168460\"}],\"title\":\"forecast_flag\"},\"id\":\"168413\",\"type\":\"Legend\"},{\"attributes\":{\"end\":6225.188754332198,\"reset_end\":6225.188754332198,\"reset_start\":-164.61675433219872,\"start\":-164.61675433219872,\"tags\":[[[\"unit_cost\",\"unit_cost\",null]]]},\"id\":\"168354\",\"type\":\"Range1d\"},{\"attributes\":{\"fill_alpha\":0.5,\"fill_color\":\"#30a2da\",\"hatch_alpha\":0.1,\"hatch_color\":\"#30a2da\",\"line_alpha\":0.7,\"x\":{\"field\":\"x\"},\"y\":{\"field\":\"y\"}},\"id\":\"168399\",\"type\":\"Patch\"},{\"attributes\":{},\"id\":\"168378\",\"type\":\"WheelZoomTool\"},{\"attributes\":{},\"id\":\"168376\",\"type\":\"SaveTool\"},{\"attributes\":{},\"id\":\"168433\",\"type\":\"UnionRenderers\"},{\"attributes\":{\"coordinates\":null,\"data_source\":{\"id\":\"168438\"},\"glyph\":{\"id\":\"168441\"},\"group\":null,\"hover_glyph\":null,\"muted_glyph\":{\"id\":\"168443\"},\"nonselection_glyph\":{\"id\":\"168442\"},\"selection_glyph\":{\"id\":\"168461\"},\"view\":{\"id\":\"168445\"}},\"id\":\"168444\",\"type\":\"GlyphRenderer\"},{\"attributes\":{\"overlay\":{\"id\":\"168381\"}},\"id\":\"168379\",\"type\":\"BoxZoomTool\"},{\"attributes\":{},\"id\":\"168380\",\"type\":\"ResetTool\"},{\"attributes\":{\"fill_alpha\":0.2,\"fill_color\":\"#fc4f30\",\"hatch_alpha\":0.2,\"hatch_color\":\"#fc4f30\",\"line_alpha\":0.2,\"x\":{\"field\":\"x\"},\"y\":{\"field\":\"y\"}},\"id\":\"168421\",\"type\":\"Patch\"},{\"attributes\":{},\"id\":\"168393\",\"type\":\"BasicTickFormatter\"},{\"attributes\":{\"bottom_units\":\"screen\",\"coordinates\":null,\"fill_alpha\":0.5,\"fill_color\":\"lightgrey\",\"group\":null,\"left_units\":\"screen\",\"level\":\"overlay\",\"line_alpha\":1.0,\"line_color\":\"black\",\"line_dash\":[4,4],\"line_width\":2,\"right_units\":\"screen\",\"syncable\":false,\"top_units\":\"screen\"},\"id\":\"168381\",\"type\":\"BoxAnnotation\"},{\"attributes\":{\"fill_alpha\":0.5,\"fill_color\":\"#30a2da\",\"hatch_alpha\":0.7,\"hatch_color\":\"#30a2da\",\"line_alpha\":0.7,\"x\":{\"field\":\"x\"},\"y\":{\"field\":\"y\"}},\"id\":\"168415\",\"type\":\"Patch\"},{\"attributes\":{\"tools\":[{\"id\":\"168356\"},{\"id\":\"168376\"},{\"id\":\"168377\"},{\"id\":\"168378\"},{\"id\":\"168379\"},{\"id\":\"168380\"}]},\"id\":\"168382\",\"type\":\"Toolbar\"},{\"attributes\":{\"fill_alpha\":0.2,\"fill_color\":\"#30a2da\",\"hatch_alpha\":0.2,\"hatch_color\":\"#30a2da\",\"line_alpha\":0.2,\"x\":{\"field\":\"x\"},\"y\":{\"field\":\"y\"}},\"id\":\"168400\",\"type\":\"Patch\"},{\"attributes\":{\"data\":{\"x\":{\"__ndarray__\":\"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\",\"dtype\":\"float64\",\"order\":\"little\",\"shape\":[200]},\"y\":{\"__ndarray__\":\"AAAAAAAAAAAAAAAAAAAAAAAAAAAAAAAAAAAAAAAAAAAAAAAAAAAAAAAAAAAAAAAAAAAAAAAAAAAAAAAAAAAAAAAAAAAAAAAAAAAAAAAAAAAAAAAAAAAAAAAAAAAAAAAAAAAAAAAAAAAAAAAAAAAAAAAAAAAAAAAAAAAAAAAAAAAAAAAAAAAAAAAAAAAAAAAAAAAAAAAAAAAAAAAAAAAAAAAAAAAAAAAAAAAAAAAAAAAAAAAAAAAAAAAAAAAAAAAAAAAAAAAAAAAAAAAAAAAAAAAAAAAAAAAAAAAAAAAAAAAAAAAAAAAAAAAAAAAAAAAAAAAAAAAAAAAAAAAAAAAAAAAAAAAAAAAAAAAAAAAAAAAAAAAAAAAAAAAAAAAAAAAAAAAAAAAAAAAAAAAAAAAAAAAAAAAAAAAAAAAAAAAAAAAAAAAAAAAAAAAAAAAAAAAAAAAAAAAAAAAAAAAAAAAAAAAAAAAAAAAAAAAAAAAAAAAAAAAAAAAAAAAAAAAAAAAAAAAAAAAAAAAAAAAAAAAAAAAAAAAAAAAAAAAAAAAAAAAAAAAAAAAAAAAAAAAAAAAAAAAAAAAAAAAAAAAAAAAAAAAAAAAAAAAAAAAAAAAAAAAAAAAAAAAAAAAAAAAAAAAAAAAAAAAAAAAAAAAAAAAAAAAAAAAAAAAAAAAAAAAAAAAAAAAAAAAAAAAAAAAAAAAAAAAAAAAAAAAAAAAAAAAAAAAAAAAAAAAAAAAAAAAAAAAAAAAAAAAAAAAAAAAAAAAAAAAAAAAAAAAAAAAAAAAAAAAAAAAAAAAAAAAAAAAAAAAAAAAAAAAAAAAAAAAAAAAAAAAAAAAAAAAAAAAAAAAAAAAAAAAAAAAAAAAAAAAAAAAAAAAAAAAAAAAAAAAAAAAAAAAAAAAAAAAAAAAAAAAAAAAAAAAAAAAAAAAAAAAAAAAAAAAAAAAAAAAAAAAAAAAAAAAAAAAAAAAAAAAAAAAAAAAAAAAAAAAAAAAAAAAAAAAAAAAAAAAAAAAAAAAAAAAAAAAAAAAAAAAAAAAAAAAAAAAAAAAAAAAAAAAAAAAAAAAKHmEnr0aHPh5yYBursZw+gF3X3KgosD6wPoK9mqnAPryVUE1rjM8+QFAJ+BqE2z6UD5eggTTmPpIuLyp7qfA+vn0vB5Zf9z75ax6zr8z+PrGzNWukIgM/hiGtSCl4Bj8Tstwf3/EIP1GaJ5j7LAo/HkBwjpz/CT+qLqwfbJ0IP0ynzyFPogY/qM/hI6LxBD87Sz3MfXAEP7xhyQ4AvAU/P+9lsv4ECT+q3evMhiYOP6inAA/zchI/V8XRsPqVFj9EiGuU94QbP0Wf6kTyoCA/G58cOI7SIz/QtCJoeScnP6nfJ4ryXCo/iQe17XwvLT/MjU1qMmkvP0dliBvocjA/oS9SbqjIMD9QlUuGCrUwP/T/SpitRDA/uqRp5YkrLz/VpVvw2K4tP8WPNGnlgyw/tKqVzXUTLD+dRAUTOaIsPzID2LC9PS4/yqgu3HpeMD8ymoQA5OsxP3WBKkz5pTM/O7HNYOx8NT/Y0YtPQnM3P2oQYsoukjk/ozYjIkvdOz+EcRAq51I+Py+ElvUzfUA/fabnAZv5QT8usBhOXrlDP2nKvCbh1UU/nXjJFv1VSD9cBdlfiiNLP16RPv3xD04/ObOmNghzUD/j3YNjIL9RPzQ1J4ES5FI/Hk/pRS/jUz8qsN5mFcJUP2TlAV7GiFU/z8w5bARGVj+koDZUARdXPzrX2/UdLFg/HdEu/3zGWT+QfYYoCy9cP/rw4Dmuql8/NlWLpR83Yj+5oNf09UhlP9/uIGltAWk/L9sWW9U6bT9dBDnXhNhwP+AM9zdgBHM/j7QbHrfwdD/jPmTFtnV2PwreO/FYe3c/qRKHiMf4dz9XpzGmlu13P+IKNsxRXHc/2DX1d0tNdj+xQHwsGtl0P1hKpEzWMXM/VVxtOFagcT/qp4HhA3FwPwEI4d/eq28/5pAFxxeXbz/4/T8lWQ9wP9N2LsT5MXA/wbOR6LKCbz+s3zUvwPFsP/FLC14evmg/Ayq9BhqBYz+oABIxTzJcP3fQidCxn1I/ICpIqYZuRj9c/UG9xJk4P+n7wDwGiyg/LdxIIuZCFj/YFXydpFkCPw==\",\"dtype\":\"float64\",\"order\":\"little\",\"shape\":[200]}},\"selected\":{\"id\":\"168439\"},\"selection_policy\":{\"id\":\"168457\"}},\"id\":\"168438\",\"type\":\"ColumnDataSource\"},{\"attributes\":{\"children\":[{\"id\":\"168353\"},{\"id\":\"168359\"},{\"id\":\"168574\"}],\"margin\":[0,0,0,0],\"name\":\"Row397315\",\"tags\":[\"embedded\"]},\"id\":\"168352\",\"type\":\"Row\"},{\"attributes\":{\"label\":{\"value\":\"good\"},\"renderers\":[{\"id\":\"168401\"}]},\"id\":\"168414\",\"type\":\"LegendItem\"},{\"attributes\":{\"fill_alpha\":0.5,\"fill_color\":\"#fc4f30\",\"hatch_alpha\":0.7,\"hatch_color\":\"#fc4f30\",\"line_alpha\":0.7,\"x\":{\"field\":\"x\"},\"y\":{\"field\":\"y\"}},\"id\":\"168437\",\"type\":\"Patch\"},{\"attributes\":{\"data\":{\"x\":{\"__ndarray__\":\"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\",\"dtype\":\"float64\",\"order\":\"little\",\"shape\":[200]},\"y\":{\"__ndarray__\":\"AAAAAAAAAAAAAAAAAAAAAAAAAAAAAAAAAAAAAAAAAAAAAAAAAAAAAAAAAAAAAAAAAAAAAAAAAAAAAAAAAAAAAAAAAAAAAAAAAAAAAAAAAAAAAAAAAAAAAAAAAAAAAAAAAAAAAAAAAAAAAAAAAAAAAAAAAAAAAAAAAAAAAAAAAAAAAAAAAAAAAAAAAAAAAAAAAAAAAAAAAAAAAAAAAAAAAAAAAAAAAAAAAAAAAAAAAAAAAAAAAAAAAAAAAAAAAAAAAAAAAAAAAAAAAAAAAAAAAAAAAAAAAAAAAAAAAAAAAAAAAAAAAAAAAAAAAAAAAAAAAAAAAAAAAAAAAAAAAAAAAAAAAAAAAAAAAAAAAAAAAAAAAAAAAAAAAAAAAAAAAAAAAAAAAAAAAAAAAAAAAAAAAAAAAAAAAAAAAAAAAAAAAAAAAAAAAAAAAAAAAAAAAAAAAAAAAAAAAAAAAAAAAAAAAAAAAAAAAAAAAAAAAAAAAAAAAAAAAAAAAAAAAAAAAAAAAAAAAAAAAAAAAAAAAAAAAAAAAAAAAAAAAAAAAAAAAAAAAAAAAAAAAAAAAAAAAAAAAAAAAAAAAAAAAAAAAAAAAAAAAAAAAAAAAAAAAAAAAAAAAAAAAAAAAAAAAAAAAAAAAAAAAAAAAAAAAAAAAAAAAAAAAAAAAAAAAAAAAAAAAAAAAAAAAAAAAAAAAAAAAAAAAAAAAAAAAAAAAAAAAAAAAAAAAAAAAAAAAAAAAAAAAAAAAAAAAAAAAAAAAAAAAAAAAAAAAAAAAAAAAAAAAAAAAAAAAAAAAAAAAAAAAAAAAAAAAAAAAAAAAAAAAAAAAAAAAAAAAAAAAAAAAAAAAAAAAAAAAAAAAAAAAAAAAAAAAAAAAAAAAAAAAAAAAAAAAAAAAAAAAAAAAAAAAAAAAAAAAAAAAAAAAAAAAAAAAAAAAAAAAAAAAAAAAAAAAAAAAAAAAAAAAAAAAAAAAAAAAAAAAAAAAAAAAAAAAAAAAAAAAAAAAAAAAAAAAAAAAAAAAAAAAAAAAAAAAAAAAAAAAAAAAAAAAAAAAAAAAAAAAAAAAADZNtYDF8hzPk2mUhzWGLU+k4ZV67iP1j7Xi8MdhDHYPv/USDiwA7o+HgWVfIYMfD689iDnQlMePjfIDR4ecKA9iMD3pYneAT3hKShqdXpDPHX3I9ZUSmU7slWooaRVZzriUWd0GaVJOd9iZGvXQgw4uzUfT7Q6rzYgh/1WQ00xNWXCukRCOZMzpBcmbtpq1TF7SED9O+33L6nQcNmVzfotoDCWm3gb3isFEmUMp/SgKfaGbgl1JkMnHDZY1xywxSS5Rn9SDKEoIimRgmWqC2wfmtEBqfoCkByjFKERIlWSGa2oAckZDHUWty92V+Q6OBNdVHgfa/jbD5JXcT4tMGAM8VsMvxjKwgi4viv/SN4FBbA2yJ1whSkBPAAAAAAAAAAAAAAAAAAAAAAAAAAAAAAAAAAAAAAAAAAAAAAAAAAAAAAAAAAAAAAAAAAAAAAAAAAAAAAAAAAAAAAAAAAAAAAAAAAAAAAAAAAAAAAAAAAAAAAAAAAAAAAAywAAAAAAAABCYnko+uVEARDcLSxsPiEFCB0GpNqI3Ag+3zAtc6x3DP5KhJjHsfMPEAOymMxtUBMMxUaiDHyLFhXs8qaIDacZFPwy0HtjoxzSES0H81mAHy7razC8pzsioQvW6WBz1yRY/2jRlPBTJ3gjN6w2ALEpLiphysMR7SscytJPqOsILnuCgKoWbAUw3bWMZSB34jGIJXW3kuufM8eYc+Y5qjs1za96RuEKuDZYr7pulfMUOMsXCkjMTlI5sg3LfpsKcDouJFkJKjBsO5ugCnyI1Ug8hZq2m57wBT0MTT1ay3CjPcfsjbq3SyE+Cg3lgYkVfz6Yz4Zn6CG9PmjCUI5NkuA+7LMPXgGd8T6CqA5msa/5PivE+AFJofs+pSP7+3l7+j4C77EyiIwFP0IUWINJPAs/nJPOIxrWBz/Xs0ePUJISPwIbpNHhaCs/TQhgwY4KQT9bVAT3gHhIP9HzAfrCC0w/2xc1KaTMVT/4uEUqxF1lPxSYN+s1t3E/6cLNBfADbD/qpmCF4stQPwQdZSVVPB8/bWp6U00I3j7KhTrLOA6RPg==\",\"dtype\":\"float64\",\"order\":\"little\",\"shape\":[200]}},\"selected\":{\"id\":\"168417\"},\"selection_policy\":{\"id\":\"168433\"}},\"id\":\"168416\",\"type\":\"ColumnDataSource\"},{\"attributes\":{},\"id\":\"168396\",\"type\":\"Selection\"},{\"attributes\":{\"fill_alpha\":0.5,\"fill_color\":\"#e5ae38\",\"hatch_alpha\":0.7,\"hatch_color\":\"#e5ae38\",\"line_alpha\":0.7,\"x\":{\"field\":\"x\"},\"y\":{\"field\":\"y\"}},\"id\":\"168461\",\"type\":\"Patch\"},{\"attributes\":{\"fill_alpha\":0.5,\"fill_color\":\"#e5ae38\",\"hatch_alpha\":0.7,\"hatch_color\":\"#e5ae38\",\"line_alpha\":0.7,\"x\":{\"field\":\"x\"},\"y\":{\"field\":\"y\"}},\"id\":\"168441\",\"type\":\"Patch\"},{\"attributes\":{},\"id\":\"168366\",\"type\":\"LinearScale\"},{\"attributes\":{},\"id\":\"168417\",\"type\":\"Selection\"},{\"attributes\":{\"fill_alpha\":0.5,\"fill_color\":\"#e5ae38\",\"hatch_alpha\":0.1,\"hatch_color\":\"#e5ae38\",\"line_alpha\":0.7,\"x\":{\"field\":\"x\"},\"y\":{\"field\":\"y\"}},\"id\":\"168442\",\"type\":\"Patch\"},{\"attributes\":{},\"id\":\"168394\",\"type\":\"AllLabels\"},{\"attributes\":{\"callback\":null,\"renderers\":[{\"id\":\"168401\"},{\"id\":\"168422\"},{\"id\":\"168444\"}],\"tags\":[\"hv_created\"],\"tooltips\":[[\"forecast_flag\",\"@{forecast_flag}\"],[\"unit_cost\",\"@{unit_cost}\"],[\"Density\",\"@{unit_cost_density}\"]]},\"id\":\"168356\",\"type\":\"HoverTool\"},{\"attributes\":{\"end\":0.008472318886498461,\"reset_end\":0.008472318886498461,\"reset_start\":0.0,\"tags\":[[[\"unit_cost_density\",\"Density\",null]]]},\"id\":\"168355\",\"type\":\"Range1d\"},{\"attributes\":{},\"id\":\"168377\",\"type\":\"PanTool\"},{\"attributes\":{},\"id\":\"168439\",\"type\":\"Selection\"},{\"attributes\":{\"axis_label\":\"unit_cost\",\"coordinates\":null,\"formatter\":{\"id\":\"168390\"},\"group\":null,\"major_label_policy\":{\"id\":\"168391\"},\"ticker\":{\"id\":\"168369\"}},\"id\":\"168368\",\"type\":\"LinearAxis\"},{\"attributes\":{\"axis\":{\"id\":\"168372\"},\"coordinates\":null,\"dimension\":1,\"grid_line_color\":null,\"group\":null,\"ticker\":null},\"id\":\"168375\",\"type\":\"Grid\"},{\"attributes\":{\"coordinates\":null,\"data_source\":{\"id\":\"168395\"},\"glyph\":{\"id\":\"168398\"},\"group\":null,\"hover_glyph\":null,\"muted_glyph\":{\"id\":\"168400\"},\"nonselection_glyph\":{\"id\":\"168399\"},\"selection_glyph\":{\"id\":\"168415\"},\"view\":{\"id\":\"168402\"}},\"id\":\"168401\",\"type\":\"GlyphRenderer\"},{\"attributes\":{\"label\":{\"value\":\"under predict\"},\"renderers\":[{\"id\":\"168444\"}]},\"id\":\"168460\",\"type\":\"LegendItem\"},{\"attributes\":{\"fill_alpha\":0.5,\"fill_color\":\"#fc4f30\",\"hatch_alpha\":0.7,\"hatch_color\":\"#fc4f30\",\"line_alpha\":0.7,\"x\":{\"field\":\"x\"},\"y\":{\"field\":\"y\"}},\"id\":\"168419\",\"type\":\"Patch\"},{\"attributes\":{\"fill_alpha\":0.2,\"fill_color\":\"#e5ae38\",\"hatch_alpha\":0.2,\"hatch_color\":\"#e5ae38\",\"line_alpha\":0.2,\"x\":{\"field\":\"x\"},\"y\":{\"field\":\"y\"}},\"id\":\"168443\",\"type\":\"Patch\"},{\"attributes\":{\"source\":{\"id\":\"168438\"}},\"id\":\"168445\",\"type\":\"CDSView\"},{\"attributes\":{\"margin\":[5,5,5,5],\"name\":\"HSpacer397319\",\"sizing_mode\":\"stretch_width\"},\"id\":\"168353\",\"type\":\"Spacer\"},{\"attributes\":{\"source\":{\"id\":\"168416\"}},\"id\":\"168423\",\"type\":\"CDSView\"},{\"attributes\":{\"coordinates\":null,\"group\":null,\"text\":\"unit cost(density)\",\"text_color\":\"black\",\"text_font_size\":\"12pt\"},\"id\":\"168360\",\"type\":\"Title\"},{\"attributes\":{\"label\":{\"value\":\"over predict\"},\"renderers\":[{\"id\":\"168422\"}]},\"id\":\"168436\",\"type\":\"LegendItem\"}],\"root_ids\":[\"168352\"]},\"title\":\"Bokeh Application\",\"version\":\"2.4.3\"}};\n",
       "    var render_items = [{\"docid\":\"00306d73-6962-4932-9dc7-75e1d40ea34b\",\"root_ids\":[\"168352\"],\"roots\":{\"168352\":\"62c0be21-7588-4c6b-915d-44a9a4809e32\"}}];\n",
       "    root.Bokeh.embed.embed_items_notebook(docs_json, render_items);\n",
       "  }\n",
       "  if (root.Bokeh !== undefined && root.Bokeh.Panel !== undefined) {\n",
       "    embed_document(root);\n",
       "  } else {\n",
       "    var attempts = 0;\n",
       "    var timer = setInterval(function(root) {\n",
       "      if (root.Bokeh !== undefined && root.Bokeh.Panel !== undefined) {\n",
       "        clearInterval(timer);\n",
       "        embed_document(root);\n",
       "      } else if (document.readyState == \"complete\") {\n",
       "        attempts++;\n",
       "        if (attempts > 200) {\n",
       "          clearInterval(timer);\n",
       "          console.log(\"Bokeh: ERROR: Unable to run BokehJS code because BokehJS library is missing\");\n",
       "        }\n",
       "      }\n",
       "    }, 25, root)\n",
       "  }\n",
       "})(window);</script>"
      ],
      "text/plain": [
       ":NdOverlay   [forecast_flag]\n",
       "   :Distribution   [unit_cost]   (Density)"
      ]
     },
     "execution_count": 78,
     "metadata": {
      "application/vnd.holoviews_exec.v0+json": {
       "id": "168352"
      }
     },
     "output_type": "execute_result"
    }
   ],
   "source": [
    "residual_analysis.hvplot.kde(y=\"unit_cost\",by=\"forecast_flag\", ## Grouping by Predictions\n",
    "                                width=800, height=400,\n",
    "                                alpha=0.7,\n",
    "                                ylabel=\"density\",\n",
    "                                xlabel=\"unit_cost\",\n",
    "                                title=f'unit cost(density)',legend='top_right')"
   ]
  },
  {
   "cell_type": "markdown",
   "metadata": {},
   "source": [
    "- From the above plot we can infer that the higher \"over predictions\" are happening for unit_cost > 200.\n",
    "- similarly, the higher \"under predictions\" are happening for unit_cost is zero.\n",
    "\n",
    "This can help us tune the model by a separate model for unit_cost > 200\n"
   ]
  },
  {
   "cell_type": "markdown",
   "metadata": {},
   "source": [
    "# 4.2 Modelling - XGBoost"
   ]
  },
  {
   "cell_type": "markdown",
   "metadata": {},
   "source": [
    "## 4.2.1 Model training pipeline\n",
    "\n",
    "Here we focus on creating a collection of pipelines that can be used for tranining respective models.\n",
    "\n",
    "Each model pipeline will essentially be of the form\n",
    "```\n",
    "[\n",
    "('preprocessing', preprocessing_pipeline),\n",
    "('feature_selection', feature_selection_pipeline),\n",
    "('estimator', estimator),\n",
    "]\n",
    "```"
   ]
  },
  {
   "cell_type": "markdown",
   "metadata": {},
   "source": [
    "### 4.2.2 Model Pipeline Build"
   ]
  },
  {
   "cell_type": "code",
   "execution_count": 79,
   "metadata": {},
   "outputs": [
    {
     "data": {
      "text/html": [
       "<style>#sk-container-id-5 {color: black;background-color: white;}#sk-container-id-5 pre{padding: 0;}#sk-container-id-5 div.sk-toggleable {background-color: white;}#sk-container-id-5 label.sk-toggleable__label {cursor: pointer;display: block;width: 100%;margin-bottom: 0;padding: 0.3em;box-sizing: border-box;text-align: center;}#sk-container-id-5 label.sk-toggleable__label-arrow:before {content: \"▸\";float: left;margin-right: 0.25em;color: #696969;}#sk-container-id-5 label.sk-toggleable__label-arrow:hover:before {color: black;}#sk-container-id-5 div.sk-estimator:hover label.sk-toggleable__label-arrow:before {color: black;}#sk-container-id-5 div.sk-toggleable__content {max-height: 0;max-width: 0;overflow: hidden;text-align: left;background-color: #f0f8ff;}#sk-container-id-5 div.sk-toggleable__content pre {margin: 0.2em;color: black;border-radius: 0.25em;background-color: #f0f8ff;}#sk-container-id-5 input.sk-toggleable__control:checked~div.sk-toggleable__content {max-height: 200px;max-width: 100%;overflow: auto;}#sk-container-id-5 input.sk-toggleable__control:checked~label.sk-toggleable__label-arrow:before {content: \"▾\";}#sk-container-id-5 div.sk-estimator input.sk-toggleable__control:checked~label.sk-toggleable__label {background-color: #d4ebff;}#sk-container-id-5 div.sk-label input.sk-toggleable__control:checked~label.sk-toggleable__label {background-color: #d4ebff;}#sk-container-id-5 input.sk-hidden--visually {border: 0;clip: rect(1px 1px 1px 1px);clip: rect(1px, 1px, 1px, 1px);height: 1px;margin: -1px;overflow: hidden;padding: 0;position: absolute;width: 1px;}#sk-container-id-5 div.sk-estimator {font-family: monospace;background-color: #f0f8ff;border: 1px dotted black;border-radius: 0.25em;box-sizing: border-box;margin-bottom: 0.5em;}#sk-container-id-5 div.sk-estimator:hover {background-color: #d4ebff;}#sk-container-id-5 div.sk-parallel-item::after {content: \"\";width: 100%;border-bottom: 1px solid gray;flex-grow: 1;}#sk-container-id-5 div.sk-label:hover label.sk-toggleable__label {background-color: #d4ebff;}#sk-container-id-5 div.sk-serial::before {content: \"\";position: absolute;border-left: 1px solid gray;box-sizing: border-box;top: 0;bottom: 0;left: 50%;z-index: 0;}#sk-container-id-5 div.sk-serial {display: flex;flex-direction: column;align-items: center;background-color: white;padding-right: 0.2em;padding-left: 0.2em;position: relative;}#sk-container-id-5 div.sk-item {position: relative;z-index: 1;}#sk-container-id-5 div.sk-parallel {display: flex;align-items: stretch;justify-content: center;background-color: white;position: relative;}#sk-container-id-5 div.sk-item::before, #sk-container-id-5 div.sk-parallel-item::before {content: \"\";position: absolute;border-left: 1px solid gray;box-sizing: border-box;top: 0;bottom: 0;left: 50%;z-index: -1;}#sk-container-id-5 div.sk-parallel-item {display: flex;flex-direction: column;z-index: 1;position: relative;background-color: white;}#sk-container-id-5 div.sk-parallel-item:first-child::after {align-self: flex-end;width: 50%;}#sk-container-id-5 div.sk-parallel-item:last-child::after {align-self: flex-start;width: 50%;}#sk-container-id-5 div.sk-parallel-item:only-child::after {width: 0;}#sk-container-id-5 div.sk-dashed-wrapped {border: 1px dashed gray;margin: 0 0.4em 0.5em 0.4em;box-sizing: border-box;padding-bottom: 0.4em;background-color: white;}#sk-container-id-5 div.sk-label label {font-family: monospace;font-weight: bold;display: inline-block;line-height: 1.2em;}#sk-container-id-5 div.sk-label-container {text-align: center;}#sk-container-id-5 div.sk-container {/* jupyter's `normalize.less` sets `[hidden] { display: none; }` but bootstrap.min.css set `[hidden] { display: none !important; }` so we also need the `!important` here to be able to override the default hidden behavior on the sphinx rendered scikit-learn.org. See: https://github.com/scikit-learn/scikit-learn/issues/21755 */display: inline-block !important;position: relative;}#sk-container-id-5 div.sk-text-repr-fallback {display: none;}</style><div id=\"sk-container-id-5\" class=\"sk-top-container\"><div class=\"sk-text-repr-fallback\"><pre>Pipeline(steps=[(&#x27;XGBoost&#x27;,\n",
       "                 XGBRegressor(base_score=0.5, booster=&#x27;gbtree&#x27;,\n",
       "                              colsample_bylevel=1, colsample_bynode=1,\n",
       "                              colsample_bytree=1, enable_categorical=False,\n",
       "                              gamma=0, gpu_id=-1, importance_type=None,\n",
       "                              interaction_constraints=&#x27;&#x27;,\n",
       "                              learning_rate=0.300000012, max_delta_step=0,\n",
       "                              max_depth=6, min_child_weight=1, missing=nan,\n",
       "                              monotone_constraints=&#x27;()&#x27;, n_estimators=100,\n",
       "                              n_jobs=8, num_parallel_tree=1, predictor=&#x27;auto&#x27;,\n",
       "                              random_state=0, reg_alpha=0, reg_lambda=1,\n",
       "                              scale_pos_weight=1, subsample=1,\n",
       "                              tree_method=&#x27;exact&#x27;, validate_parameters=1,\n",
       "                              verbosity=None))])</pre><b>In a Jupyter environment, please rerun this cell to show the HTML representation or trust the notebook. <br />On GitHub, the HTML representation is unable to render, please try loading this page with nbviewer.org.</b></div><div class=\"sk-container\" hidden><div class=\"sk-item sk-dashed-wrapped\"><div class=\"sk-label-container\"><div class=\"sk-label sk-toggleable\"><input class=\"sk-toggleable__control sk-hidden--visually\" id=\"sk-estimator-id-12\" type=\"checkbox\" ><label for=\"sk-estimator-id-12\" class=\"sk-toggleable__label sk-toggleable__label-arrow\">Pipeline</label><div class=\"sk-toggleable__content\"><pre>Pipeline(steps=[(&#x27;XGBoost&#x27;,\n",
       "                 XGBRegressor(base_score=0.5, booster=&#x27;gbtree&#x27;,\n",
       "                              colsample_bylevel=1, colsample_bynode=1,\n",
       "                              colsample_bytree=1, enable_categorical=False,\n",
       "                              gamma=0, gpu_id=-1, importance_type=None,\n",
       "                              interaction_constraints=&#x27;&#x27;,\n",
       "                              learning_rate=0.300000012, max_delta_step=0,\n",
       "                              max_depth=6, min_child_weight=1, missing=nan,\n",
       "                              monotone_constraints=&#x27;()&#x27;, n_estimators=100,\n",
       "                              n_jobs=8, num_parallel_tree=1, predictor=&#x27;auto&#x27;,\n",
       "                              random_state=0, reg_alpha=0, reg_lambda=1,\n",
       "                              scale_pos_weight=1, subsample=1,\n",
       "                              tree_method=&#x27;exact&#x27;, validate_parameters=1,\n",
       "                              verbosity=None))])</pre></div></div></div><div class=\"sk-serial\"><div class=\"sk-item\"><div class=\"sk-estimator sk-toggleable\"><input class=\"sk-toggleable__control sk-hidden--visually\" id=\"sk-estimator-id-13\" type=\"checkbox\" ><label for=\"sk-estimator-id-13\" class=\"sk-toggleable__label sk-toggleable__label-arrow\">XGBRegressor</label><div class=\"sk-toggleable__content\"><pre>XGBRegressor(base_score=0.5, booster=&#x27;gbtree&#x27;, colsample_bylevel=1,\n",
       "             colsample_bynode=1, colsample_bytree=1, enable_categorical=False,\n",
       "             gamma=0, gpu_id=-1, importance_type=None,\n",
       "             interaction_constraints=&#x27;&#x27;, learning_rate=0.300000012,\n",
       "             max_delta_step=0, max_depth=6, min_child_weight=1, missing=nan,\n",
       "             monotone_constraints=&#x27;()&#x27;, n_estimators=100, n_jobs=8,\n",
       "             num_parallel_tree=1, predictor=&#x27;auto&#x27;, random_state=0, reg_alpha=0,\n",
       "             reg_lambda=1, scale_pos_weight=1, subsample=1, tree_method=&#x27;exact&#x27;,\n",
       "             validate_parameters=1, verbosity=None)</pre></div></div></div></div></div></div></div>"
      ],
      "text/plain": [
       "Pipeline(steps=[('XGBoost',\n",
       "                 XGBRegressor(base_score=0.5, booster='gbtree',\n",
       "                              colsample_bylevel=1, colsample_bynode=1,\n",
       "                              colsample_bytree=1, enable_categorical=False,\n",
       "                              gamma=0, gpu_id=-1, importance_type=None,\n",
       "                              interaction_constraints='',\n",
       "                              learning_rate=0.300000012, max_delta_step=0,\n",
       "                              max_depth=6, min_child_weight=1, missing=nan,\n",
       "                              monotone_constraints='()', n_estimators=100,\n",
       "                              n_jobs=8, num_parallel_tree=1, predictor='auto',\n",
       "                              random_state=0, reg_alpha=0, reg_lambda=1,\n",
       "                              scale_pos_weight=1, subsample=1,\n",
       "                              tree_method='exact', validate_parameters=1,\n",
       "                              verbosity=None))])"
      ]
     },
     "execution_count": 79,
     "metadata": {},
     "output_type": "execute_result"
    }
   ],
   "source": [
    "# let's find features for some decent defaults\n",
    "estimator = XGBRegressor()\n",
    "xgb_training_pipe_init = Pipeline([\n",
    "    ('XGBoost', XGBRegressor())\n",
    "])\n",
    "xgb_training_pipe_init.fit(train_X, train_y)"
   ]
  },
  {
   "cell_type": "markdown",
   "metadata": {},
   "source": [
    "### 4.2.3 Model Tuning"
   ]
  },
  {
   "cell_type": "code",
   "execution_count": 80,
   "metadata": {},
   "outputs": [
    {
     "data": {
      "text/plain": [
       "<AxesSubplot:>"
      ]
     },
     "execution_count": 80,
     "metadata": {},
     "output_type": "execute_result"
    },
    {
     "data": {
      "image/png": "[encoded data removed]",
      "text/plain": [
       "<Figure size 640x480 with 1 Axes>"
      ]
     },
     "metadata": {},
     "output_type": "display_data"
    }
   ],
   "source": [
    "# Understanding the Feature Importance\n",
    "%matplotlib inline\n",
    "imp = pd.DataFrame({'importance': xgb_training_pipe_init['XGBoost'].feature_importances_})\n",
    "imp.index = train_X.columns\n",
    "imp.sort_values('importance',inplace=True)\n",
    "imp.plot(kind='barh')"
   ]
  },
  {
   "cell_type": "markdown",
   "metadata": {},
   "source": [
    "'condition','model_family','days_since_last_purchase','first_time_customer','sales_person', are considered to be important and in grid search"
   ]
  },
  {
   "cell_type": "markdown",
   "metadata": {},
   "source": [
    "##### Pipeline build based on new importance features"
   ]
  },
  {
   "cell_type": "code",
   "execution_count": 81,
   "metadata": {},
   "outputs": [],
   "source": [
    "# let's find features for some decent defaults\n",
    "imp_features = ['model_family','sku','unit_cost','condition','brand','business_unit']\n",
    "\n",
    "estimator = XGBRegressor()\n",
    "xgb_training_pipe2 = Pipeline([\n",
    "    ('', FunctionTransformer(_custom_data_transform, kw_args={'cols2keep':imp_features})),\n",
    "    ('XGBoost', XGBRegressor())\n",
    "])"
   ]
  },
  {
   "cell_type": "markdown",
   "metadata": {},
   "source": [
    "#### Grid Search of the Estimator"
   ]
  },
  {
   "cell_type": "code",
   "execution_count": 82,
   "metadata": {},
   "outputs": [
    {
     "name": "stdout",
     "output_type": "stream",
     "text": [
      "Fitting 2 folds for each of 1 candidates, totalling 2 fits\n"
     ]
    },
    {
     "name": "stderr",
     "output_type": "stream",
     "text": [
      "/home/puneeth-samarla/miniconda3/envs/templates-dev/lib/python3.9/site-packages/xgboost/data.py:262: FutureWarning: pandas.Int64Index is deprecated and will be removed from pandas in a future version. Use pandas.Index with the appropriate dtype instead.\n",
      "  elif isinstance(data.columns, (pd.Int64Index, pd.RangeIndex)):\n",
      "/home/puneeth-samarla/miniconda3/envs/templates-dev/lib/python3.9/site-packages/xgboost/data.py:262: FutureWarning: pandas.Int64Index is deprecated and will be removed from pandas in a future version. Use pandas.Index with the appropriate dtype instead.\n",
      "  elif isinstance(data.columns, (pd.Int64Index, pd.RangeIndex)):\n"
     ]
    },
    {
     "name": "stdout",
     "output_type": "stream",
     "text": [
      "0.976497216948008\n",
      "{'gamma': 0.03, 'learning_rate': 0.1, 'max_depth': 3, 'min_child_weight': 6, 'n_estimators': 500}\n",
      "CPU times: user 52.3 s, sys: 1.34 s, total: 53.7 s\n",
      "Wall time: 7min 3s\n"
     ]
    }
   ],
   "source": [
    "%%time\n",
    "parameters = {\n",
    "   'gamma':[0.03],\n",
    "   'min_child_weight':[6],\n",
    "   'learning_rate':[0.1],\n",
    "   'max_depth':[3],\n",
    "   'n_estimators':[500], \n",
    "}\n",
    "est = XGBRegressor()\n",
    "xgb_grid = GridSearchCV(est,\n",
    "                        parameters,\n",
    "                        cv = 2,\n",
    "                        n_jobs = 4,\n",
    "                        verbose=True)\n",
    "\n",
    "xgb_grid.fit(train_X, train_y)\n",
    "\n",
    "print(xgb_grid.best_score_)\n",
    "print(xgb_grid.best_params_)"
   ]
  },
  {
   "cell_type": "markdown",
   "metadata": {},
   "source": [
    "#### Pipeline Build using the best estimator"
   ]
  },
  {
   "cell_type": "code",
   "execution_count": 83,
   "metadata": {},
   "outputs": [
    {
     "data": {
      "text/html": [
       "<style>#sk-container-id-6 {color: black;background-color: white;}#sk-container-id-6 pre{padding: 0;}#sk-container-id-6 div.sk-toggleable {background-color: white;}#sk-container-id-6 label.sk-toggleable__label {cursor: pointer;display: block;width: 100%;margin-bottom: 0;padding: 0.3em;box-sizing: border-box;text-align: center;}#sk-container-id-6 label.sk-toggleable__label-arrow:before {content: \"▸\";float: left;margin-right: 0.25em;color: #696969;}#sk-container-id-6 label.sk-toggleable__label-arrow:hover:before {color: black;}#sk-container-id-6 div.sk-estimator:hover label.sk-toggleable__label-arrow:before {color: black;}#sk-container-id-6 div.sk-toggleable__content {max-height: 0;max-width: 0;overflow: hidden;text-align: left;background-color: #f0f8ff;}#sk-container-id-6 div.sk-toggleable__content pre {margin: 0.2em;color: black;border-radius: 0.25em;background-color: #f0f8ff;}#sk-container-id-6 input.sk-toggleable__control:checked~div.sk-toggleable__content {max-height: 200px;max-width: 100%;overflow: auto;}#sk-container-id-6 input.sk-toggleable__control:checked~label.sk-toggleable__label-arrow:before {content: \"▾\";}#sk-container-id-6 div.sk-estimator input.sk-toggleable__control:checked~label.sk-toggleable__label {background-color: #d4ebff;}#sk-container-id-6 div.sk-label input.sk-toggleable__control:checked~label.sk-toggleable__label {background-color: #d4ebff;}#sk-container-id-6 input.sk-hidden--visually {border: 0;clip: rect(1px 1px 1px 1px);clip: rect(1px, 1px, 1px, 1px);height: 1px;margin: -1px;overflow: hidden;padding: 0;position: absolute;width: 1px;}#sk-container-id-6 div.sk-estimator {font-family: monospace;background-color: #f0f8ff;border: 1px dotted black;border-radius: 0.25em;box-sizing: border-box;margin-bottom: 0.5em;}#sk-container-id-6 div.sk-estimator:hover {background-color: #d4ebff;}#sk-container-id-6 div.sk-parallel-item::after {content: \"\";width: 100%;border-bottom: 1px solid gray;flex-grow: 1;}#sk-container-id-6 div.sk-label:hover label.sk-toggleable__label {background-color: #d4ebff;}#sk-container-id-6 div.sk-serial::before {content: \"\";position: absolute;border-left: 1px solid gray;box-sizing: border-box;top: 0;bottom: 0;left: 50%;z-index: 0;}#sk-container-id-6 div.sk-serial {display: flex;flex-direction: column;align-items: center;background-color: white;padding-right: 0.2em;padding-left: 0.2em;position: relative;}#sk-container-id-6 div.sk-item {position: relative;z-index: 1;}#sk-container-id-6 div.sk-parallel {display: flex;align-items: stretch;justify-content: center;background-color: white;position: relative;}#sk-container-id-6 div.sk-item::before, #sk-container-id-6 div.sk-parallel-item::before {content: \"\";position: absolute;border-left: 1px solid gray;box-sizing: border-box;top: 0;bottom: 0;left: 50%;z-index: -1;}#sk-container-id-6 div.sk-parallel-item {display: flex;flex-direction: column;z-index: 1;position: relative;background-color: white;}#sk-container-id-6 div.sk-parallel-item:first-child::after {align-self: flex-end;width: 50%;}#sk-container-id-6 div.sk-parallel-item:last-child::after {align-self: flex-start;width: 50%;}#sk-container-id-6 div.sk-parallel-item:only-child::after {width: 0;}#sk-container-id-6 div.sk-dashed-wrapped {border: 1px dashed gray;margin: 0 0.4em 0.5em 0.4em;box-sizing: border-box;padding-bottom: 0.4em;background-color: white;}#sk-container-id-6 div.sk-label label {font-family: monospace;font-weight: bold;display: inline-block;line-height: 1.2em;}#sk-container-id-6 div.sk-label-container {text-align: center;}#sk-container-id-6 div.sk-container {/* jupyter's `normalize.less` sets `[hidden] { display: none; }` but bootstrap.min.css set `[hidden] { display: none !important; }` so we also need the `!important` here to be able to override the default hidden behavior on the sphinx rendered scikit-learn.org. See: https://github.com/scikit-learn/scikit-learn/issues/21755 */display: inline-block !important;position: relative;}#sk-container-id-6 div.sk-text-repr-fallback {display: none;}</style><div id=\"sk-container-id-6\" class=\"sk-top-container\"><div class=\"sk-text-repr-fallback\"><pre>Pipeline(steps=[(&#x27;&#x27;,\n",
       "                 FunctionTransformer(func=&lt;function _custom_data_transform at 0x7f8039525ca0&gt;,\n",
       "                                     kw_args={&#x27;cols2keep&#x27;: [&#x27;model_family&#x27;,\n",
       "                                                            &#x27;sku&#x27;, &#x27;unit_cost&#x27;,\n",
       "                                                            &#x27;condition&#x27;,\n",
       "                                                            &#x27;brand&#x27;,\n",
       "                                                            &#x27;business_unit&#x27;]})),\n",
       "                (&#x27;XGBoost&#x27;,\n",
       "                 XGBRegressor(base_score=0.5, booster=&#x27;gbtree&#x27;,\n",
       "                              colsample_bylevel=1, colsample_bynode=1,\n",
       "                              colsample_bytree=1, enable_categorical=False,\n",
       "                              gamma=0.03, gpu_id=-1, importance_type=None,\n",
       "                              interaction_constraints=&#x27;&#x27;, learning_rate=0.1,\n",
       "                              max_delta_step=0, max_depth=3, min_child_weight=6,\n",
       "                              missing=nan, monotone_constraints=&#x27;()&#x27;,\n",
       "                              n_estimators=500, n_jobs=8, num_parallel_tree=1,\n",
       "                              predictor=&#x27;auto&#x27;, random_state=0, reg_alpha=0,\n",
       "                              reg_lambda=1, scale_pos_weight=1, subsample=1,\n",
       "                              tree_method=&#x27;exact&#x27;, validate_parameters=1,\n",
       "                              verbosity=None))])</pre><b>In a Jupyter environment, please rerun this cell to show the HTML representation or trust the notebook. <br />On GitHub, the HTML representation is unable to render, please try loading this page with nbviewer.org.</b></div><div class=\"sk-container\" hidden><div class=\"sk-item sk-dashed-wrapped\"><div class=\"sk-label-container\"><div class=\"sk-label sk-toggleable\"><input class=\"sk-toggleable__control sk-hidden--visually\" id=\"sk-estimator-id-14\" type=\"checkbox\" ><label for=\"sk-estimator-id-14\" class=\"sk-toggleable__label sk-toggleable__label-arrow\">Pipeline</label><div class=\"sk-toggleable__content\"><pre>Pipeline(steps=[(&#x27;&#x27;,\n",
       "                 FunctionTransformer(func=&lt;function _custom_data_transform at 0x7f8039525ca0&gt;,\n",
       "                                     kw_args={&#x27;cols2keep&#x27;: [&#x27;model_family&#x27;,\n",
       "                                                            &#x27;sku&#x27;, &#x27;unit_cost&#x27;,\n",
       "                                                            &#x27;condition&#x27;,\n",
       "                                                            &#x27;brand&#x27;,\n",
       "                                                            &#x27;business_unit&#x27;]})),\n",
       "                (&#x27;XGBoost&#x27;,\n",
       "                 XGBRegressor(base_score=0.5, booster=&#x27;gbtree&#x27;,\n",
       "                              colsample_bylevel=1, colsample_bynode=1,\n",
       "                              colsample_bytree=1, enable_categorical=False,\n",
       "                              gamma=0.03, gpu_id=-1, importance_type=None,\n",
       "                              interaction_constraints=&#x27;&#x27;, learning_rate=0.1,\n",
       "                              max_delta_step=0, max_depth=3, min_child_weight=6,\n",
       "                              missing=nan, monotone_constraints=&#x27;()&#x27;,\n",
       "                              n_estimators=500, n_jobs=8, num_parallel_tree=1,\n",
       "                              predictor=&#x27;auto&#x27;, random_state=0, reg_alpha=0,\n",
       "                              reg_lambda=1, scale_pos_weight=1, subsample=1,\n",
       "                              tree_method=&#x27;exact&#x27;, validate_parameters=1,\n",
       "                              verbosity=None))])</pre></div></div></div><div class=\"sk-serial\"><div class=\"sk-item\"><div class=\"sk-estimator sk-toggleable\"><input class=\"sk-toggleable__control sk-hidden--visually\" id=\"sk-estimator-id-15\" type=\"checkbox\" ><label for=\"sk-estimator-id-15\" class=\"sk-toggleable__label sk-toggleable__label-arrow\">FunctionTransformer</label><div class=\"sk-toggleable__content\"><pre>FunctionTransformer(func=&lt;function _custom_data_transform at 0x7f8039525ca0&gt;,\n",
       "                    kw_args={&#x27;cols2keep&#x27;: [&#x27;model_family&#x27;, &#x27;sku&#x27;, &#x27;unit_cost&#x27;,\n",
       "                                           &#x27;condition&#x27;, &#x27;brand&#x27;,\n",
       "                                           &#x27;business_unit&#x27;]})</pre></div></div></div><div class=\"sk-item\"><div class=\"sk-estimator sk-toggleable\"><input class=\"sk-toggleable__control sk-hidden--visually\" id=\"sk-estimator-id-16\" type=\"checkbox\" ><label for=\"sk-estimator-id-16\" class=\"sk-toggleable__label sk-toggleable__label-arrow\">XGBRegressor</label><div class=\"sk-toggleable__content\"><pre>XGBRegressor(base_score=0.5, booster=&#x27;gbtree&#x27;, colsample_bylevel=1,\n",
       "             colsample_bynode=1, colsample_bytree=1, enable_categorical=False,\n",
       "             gamma=0.03, gpu_id=-1, importance_type=None,\n",
       "             interaction_constraints=&#x27;&#x27;, learning_rate=0.1, max_delta_step=0,\n",
       "             max_depth=3, min_child_weight=6, missing=nan,\n",
       "             monotone_constraints=&#x27;()&#x27;, n_estimators=500, n_jobs=8,\n",
       "             num_parallel_tree=1, predictor=&#x27;auto&#x27;, random_state=0, reg_alpha=0,\n",
       "             reg_lambda=1, scale_pos_weight=1, subsample=1, tree_method=&#x27;exact&#x27;,\n",
       "             validate_parameters=1, verbosity=None)</pre></div></div></div></div></div></div></div>"
      ],
      "text/plain": [
       "Pipeline(steps=[('',\n",
       "                 FunctionTransformer(func=<function _custom_data_transform at 0x7f8039525ca0>,\n",
       "                                     kw_args={'cols2keep': ['model_family',\n",
       "                                                            'sku', 'unit_cost',\n",
       "                                                            'condition',\n",
       "                                                            'brand',\n",
       "                                                            'business_unit']})),\n",
       "                ('XGBoost',\n",
       "                 XGBRegressor(base_score=0.5, booster='gbtree',\n",
       "                              colsample_bylevel=1, colsample_bynode=1,\n",
       "                              colsample_bytree=1, enable_categorical=False,\n",
       "                              gamma=0.03, gpu_id=-1, importance_type=None,\n",
       "                              interaction_constraints='', learning_rate=0.1,\n",
       "                              max_delta_step=0, max_depth=3, min_child_weight=6,\n",
       "                              missing=nan, monotone_constraints='()',\n",
       "                              n_estimators=500, n_jobs=8, num_parallel_tree=1,\n",
       "                              predictor='auto', random_state=0, reg_alpha=0,\n",
       "                              reg_lambda=1, scale_pos_weight=1, subsample=1,\n",
       "                              tree_method='exact', validate_parameters=1,\n",
       "                              verbosity=None))])"
      ]
     },
     "execution_count": 83,
     "metadata": {},
     "output_type": "execute_result"
    }
   ],
   "source": [
    "xgb_pipeline_final = Pipeline([\n",
    "    ('', FunctionTransformer(_custom_data_transform, kw_args={'cols2keep':imp_features})),\n",
    "    ('XGBoost', xgb_grid.best_estimator_)\n",
    "])\n",
    "xgb_pipeline_final.fit(train_X, train_y)"
   ]
  },
  {
   "cell_type": "code",
   "execution_count": 84,
   "metadata": {},
   "outputs": [
    {
     "name": "stderr",
     "output_type": "stream",
     "text": [
      "divide by zero encountered in true_divide\n",
      "divide by zero encountered in true_divide\n",
      "2023-07-16 20:55:02 - WARNING - tigerml.model_eval.plotters.interpretation::get_errorbucket_profiles::849 - Residual Analysis: Ignoring 17 observations in train data for error analysis where y=0\n",
      "2023-07-16 20:55:02 - WARNING - tigerml.model_eval.plotters.interpretation::get_errorbucket_profiles::868 - Residual Analysis: Ignoring 7 observations in test data for error analysis where y=0\n"
     ]
    }
   ],
   "source": [
    "reg_tree_report = RegressionReport(model=xgb_pipeline_final, x_train=train_X, y_train=train_y, x_test= test_X, y_test= test_y)\n",
    "reg_tree_report.get_report(include_shap=False, file_path='regression_tree_model_report')"
   ]
  },
  {
   "cell_type": "markdown",
   "metadata": {},
   "source": [
    "The Regression report containing the feature importances are available [here](https://drive.google.com/file/d/1JBfL3uxPcxBfl0amweXBFmLr7CSHFBUO/view?usp=sharing)"
   ]
  },
  {
   "cell_type": "markdown",
   "metadata": {},
   "source": [
    "# 5 Model Comparison"
   ]
  },
  {
   "cell_type": "markdown",
   "metadata": {},
   "source": [
    "Now, a comparison report of the  linear (vs) tree -based model  approach can be generated as follows.\n",
    "\n",
    "This code will not be part of the production code."
   ]
  },
  {
   "cell_type": "code",
   "execution_count": 85,
   "metadata": {},
   "outputs": [],
   "source": [
    "model_pipelines = [reg_ppln, xgb_pipeline_final]\n",
    "model_comparison_report = RegressionComparison(models=model_pipelines,x=train_X, y=train_y)\n",
    "metrics = model_comparison_report.get_report(file_path='regression_comparison')"
   ]
  },
  {
   "cell_type": "code",
   "execution_count": 86,
   "metadata": {},
   "outputs": [
    {
     "data": {
      "text/html": [
       "<div>\n",
       "<style scoped>\n",
       "    .dataframe tbody tr th:only-of-type {\n",
       "        vertical-align: middle;\n",
       "    }\n",
       "\n",
       "    .dataframe tbody tr th {\n",
       "        vertical-align: top;\n",
       "    }\n",
       "\n",
       "    .dataframe thead th {\n",
       "        text-align: right;\n",
       "    }\n",
       "</style>\n",
       "<table border=\"1\" class=\"dataframe\">\n",
       "  <thead>\n",
       "    <tr style=\"text-align: right;\">\n",
       "      <th>metric</th>\n",
       "      <th>MAPE</th>\n",
       "      <th>WMAPE</th>\n",
       "      <th>MAE</th>\n",
       "      <th>RMSE</th>\n",
       "      <th>R^2</th>\n",
       "    </tr>\n",
       "  </thead>\n",
       "  <tbody>\n",
       "    <tr>\n",
       "      <th>, Linear Regression</th>\n",
       "      <td>0.2986</td>\n",
       "      <td>0.1794</td>\n",
       "      <td>24.2561</td>\n",
       "      <td>38.0160</td>\n",
       "      <td>0.8858</td>\n",
       "    </tr>\n",
       "    <tr>\n",
       "      <th>, XGBoost</th>\n",
       "      <td>0.1092</td>\n",
       "      <td>0.0776</td>\n",
       "      <td>10.4958</td>\n",
       "      <td>17.0143</td>\n",
       "      <td>0.9771</td>\n",
       "    </tr>\n",
       "  </tbody>\n",
       "</table>\n",
       "</div>"
      ],
      "text/plain": [
       "metric                 MAPE   WMAPE      MAE     RMSE     R^2\n",
       ", Linear Regression  0.2986  0.1794  24.2561  38.0160  0.8858\n",
       ", XGBoost            0.1092  0.0776  10.4958  17.0143  0.9771"
      ]
     },
     "execution_count": 86,
     "metadata": {},
     "output_type": "execute_result"
    }
   ],
   "source": [
    "model_comparison_report.performance_metrics"
   ]
  },
  {
   "cell_type": "markdown",
   "metadata": {},
   "source": [
    "A report comparing the performance, metrics between Linear model and Tree model are available [here](https://drive.google.com/file/d/1LDibiFap9K4DKME-Y0S0mtI_05lTdaJF/view?usp=sharing)"
   ]
  },
  {
   "cell_type": "markdown",
   "metadata": {},
   "source": [
    "**Dev NOTES**\n",
    "<details>\n",
    "\n",
    "the above metrics are absolute nos and not %ges"
   ]
  },
  {
   "cell_type": "markdown",
   "metadata": {},
   "source": [
    "In this example we are choosing LM model for pipelining. General criteria for choosing production models is:\n",
    "\n",
    "- Parametric models (aka whitebox models) such as Linear Regression are easier to explain to non-technical audience.\n",
    "- Generally these are accepted fast and adoption is quicker.\n",
    "- If the downstream calls for optimization using these models parametric models are easier to implement.\n",
    "- When accuracy is primary goal without explainability, the above two takes a backseat"
   ]
  }
 ],
 "metadata": {
  "kernelspec": {
   "display_name": "Python 3 (ipykernel)",
   "language": "python",
   "name": "python3"
  },
  "language_info": {
   "codemirror_mode": {
    "name": "ipython",
    "version": 3
   },
   "file_extension": ".py",
   "mimetype": "text/x-python",
   "name": "python",
   "nbconvert_exporter": "python",
   "pygments_lexer": "ipython3",
   "version": "3.9.16"
  }
 },
 "nbformat": 4,
 "nbformat_minor": 4
}
